{
 "cells": [
  {
   "cell_type": "markdown",
   "metadata": {},
   "source": [
    "### 我们要实现的最终功能是可以查询各个城市间的路线，先来看看我们拥有的数据"
   ]
  },
  {
   "cell_type": "code",
   "execution_count": 1,
   "metadata": {},
   "outputs": [],
   "source": [
    "#geoCoord中第一个是经度longitude，第二个是纬度latitude\n",
    "coordination_source = \"\"\"\n",
    "{name:'兰州', geoCoord:[103.73, 36.03]},\n",
    "{name:'嘉峪关', geoCoord:[98.17, 39.47]},\n",
    "{name:'西宁', geoCoord:[101.74, 36.56]},\n",
    "{name:'成都', geoCoord:[104.06, 30.67]},\n",
    "{name:'石家庄', geoCoord:[114.48, 38.03]},\n",
    "{name:'拉萨', geoCoord:[102.73, 25.04]},\n",
    "{name:'贵阳', geoCoord:[106.71, 26.57]},\n",
    "{name:'武汉', geoCoord:[114.31, 30.52]},\n",
    "{name:'郑州', geoCoord:[113.65, 34.76]},\n",
    "{name:'济南', geoCoord:[117, 36.65]},\n",
    "{name:'南京', geoCoord:[118.78, 32.04]},\n",
    "{name:'合肥', geoCoord:[117.27, 31.86]},\n",
    "{name:'杭州', geoCoord:[120.19, 30.26]},\n",
    "{name:'南昌', geoCoord:[115.89, 28.68]},\n",
    "{name:'福州', geoCoord:[119.3, 26.08]},\n",
    "{name:'广州', geoCoord:[113.23, 23.16]},\n",
    "{name:'长沙', geoCoord:[113, 28.21]},\n",
    "//{name:'海口', geoCoord:[110.35, 20.02]},\n",
    "{name:'沈阳', geoCoord:[123.38, 41.8]},\n",
    "{name:'长春', geoCoord:[125.35, 43.88]},\n",
    "{name:'哈尔滨', geoCoord:[126.63, 45.75]},\n",
    "{name:'太原', geoCoord:[112.53, 37.87]},\n",
    "{name:'西安', geoCoord:[108.95, 34.27]},\n",
    "//{name:'台湾', geoCoord:[121.30, 25.03]},\n",
    "{name:'北京', geoCoord:[116.46, 39.92]},\n",
    "{name:'上海', geoCoord:[121.48, 31.22]},\n",
    "{name:'重庆', geoCoord:[106.54, 29.59]},\n",
    "{name:'天津', geoCoord:[117.2, 39.13]},\n",
    "{name:'呼和浩特', geoCoord:[111.65, 40.82]},\n",
    "{name:'南宁', geoCoord:[108.33, 22.84]},\n",
    "//{name:'西藏', geoCoord:[91.11, 29.97]},\n",
    "{name:'银川', geoCoord:[106.27, 38.47]},\n",
    "{name:'乌鲁木齐', geoCoord:[87.68, 43.77]},\n",
    "{name:'香港', geoCoord:[114.17, 22.28]},\n",
    "{name:'澳门', geoCoord:[113.54, 22.19]}\n",
    "\"\"\""
   ]
  },
  {
   "cell_type": "markdown",
   "metadata": {},
   "source": [
    "### 那第一步就是要从上面这一长串字符串中把我们要用的数据提取出来。这里我们用正则表达式来提取信息"
   ]
  },
  {
   "cell_type": "code",
   "execution_count": 24,
   "metadata": {},
   "outputs": [],
   "source": [
    "import re \n",
    "line='{name:\\'兰州\\', geoCoord:[103.73, 36.03]}，name:\\'测试\\''\n",
    "test=re.findall(\"name:'(\\w+)'\",line)"
   ]
  },
  {
   "cell_type": "code",
   "execution_count": 25,
   "metadata": {},
   "outputs": [
    {
     "data": {
      "text/plain": [
       "['兰州', '测试']"
      ]
     },
     "execution_count": 25,
     "metadata": {},
     "output_type": "execute_result"
    }
   ],
   "source": [
    "test"
   ]
  },
  {
   "cell_type": "code",
   "execution_count": 26,
   "metadata": {},
   "outputs": [
    {
     "data": {
      "text/plain": [
       "'兰州'"
      ]
     },
     "execution_count": 26,
     "metadata": {},
     "output_type": "execute_result"
    }
   ],
   "source": [
    "test[0]"
   ]
  },
  {
   "cell_type": "raw",
   "metadata": {},
   "source": [
    "由以上结果我们可以知道，re.findall返回的是一个包含所有匹配元素的列表，加上[0]可以返回字符串。接下来我们设计一个函数提取初始数据中的信息，存入字典返回。"
   ]
  },
  {
   "cell_type": "code",
   "execution_count": 12,
   "metadata": {},
   "outputs": [],
   "source": [
    "#输入字符串，返回字典\n",
    "def get_city_info(city_coordination):\n",
    "    city_location = {}\n",
    "    #逐行提取，遇到特定行跳过\n",
    "    for line in city_coordination.split(\"\\n\"):    \n",
    "        if line.startswith(\"//\"): continue\n",
    "        if line.strip() == \"\":continue\n",
    "        #提取出城市名和坐标，最后以字典形式返回    \n",
    "        city = re.findall(\"name:'(\\w+)'\",line)[0]\n",
    "        x_y = re.findall(\"Coord:\\[(\\d+.\\d+),\\s(\\d+.\\d+)\\]\",line)[0]\n",
    "        x_y = tuple(map(float,x_y))\n",
    "        city_location[city] = x_y\n",
    "    return city_location"
   ]
  },
  {
   "cell_type": "code",
   "execution_count": 13,
   "metadata": {},
   "outputs": [],
   "source": [
    "city_info = get_city_info(coordination_source)"
   ]
  },
  {
   "cell_type": "code",
   "execution_count": 14,
   "metadata": {},
   "outputs": [
    {
     "data": {
      "text/plain": [
       "{'兰州': (103.73, 36.03),\n",
       " '嘉峪关': (98.17, 39.47),\n",
       " '西宁': (101.74, 36.56),\n",
       " '成都': (104.06, 30.67),\n",
       " '石家庄': (114.48, 38.03),\n",
       " '拉萨': (102.73, 25.04),\n",
       " '贵阳': (106.71, 26.57),\n",
       " '武汉': (114.31, 30.52),\n",
       " '郑州': (113.65, 34.76),\n",
       " '济南': (117.0, 36.65),\n",
       " '南京': (118.78, 32.04),\n",
       " '合肥': (117.27, 31.86),\n",
       " '杭州': (120.19, 30.26),\n",
       " '南昌': (115.89, 28.68),\n",
       " '福州': (119.3, 26.08),\n",
       " '广州': (113.23, 23.16),\n",
       " '长沙': (113.0, 28.21),\n",
       " '沈阳': (123.38, 41.8),\n",
       " '长春': (125.35, 43.88),\n",
       " '哈尔滨': (126.63, 45.75),\n",
       " '太原': (112.53, 37.87),\n",
       " '西安': (108.95, 34.27),\n",
       " '北京': (116.46, 39.92),\n",
       " '上海': (121.48, 31.22),\n",
       " '重庆': (106.54, 29.59),\n",
       " '天津': (117.2, 39.13),\n",
       " '呼和浩特': (111.65, 40.82),\n",
       " '南宁': (108.33, 22.84),\n",
       " '银川': (106.27, 38.47),\n",
       " '乌鲁木齐': (87.68, 43.77),\n",
       " '香港': (114.17, 22.28),\n",
       " '澳门': (113.54, 22.19)}"
      ]
     },
     "execution_count": 14,
     "metadata": {},
     "output_type": "execute_result"
    }
   ],
   "source": [
    "city_info"
   ]
  },
  {
   "cell_type": "markdown",
   "metadata": {},
   "source": [
    "### 第二步我们希望把各个城市按照其经纬度嵌入到二维平面上"
   ]
  },
  {
   "cell_type": "markdown",
   "metadata": {},
   "source": [
    "首先我们来看下如何计算经纬度之间的距离，下面是计算haversine distance的函数"
   ]
  },
  {
   "cell_type": "code",
   "execution_count": 27,
   "metadata": {},
   "outputs": [],
   "source": [
    "import math\n",
    "#输入两组坐标，返回坐标之间的haversine distance。\n",
    "def geo_distance(origin, destination):\n",
    "    #注：老师课上的代码是把lat放在第一位，lon放在第二位。事实上国外的习惯包括谷歌地图的确是把lat放在第一位。\n",
    "    #但是我们的输入数据是按照经度纬度的顺序，所以我改下了下面的顺序后续的图也都不一样。\n",
    "    lon1, lat1 = origin\n",
    "    lon2, lat2 = destination\n",
    "    #地球半径6371km\n",
    "    radius = 6371  \n",
    "    dlat = math.radians(lat2 - lat1)\n",
    "    dlon = math.radians(lon2 - lon1)\n",
    "    a = (math.sin(dlat / 2) * math.sin(dlat / 2) +\n",
    "         math.cos(math.radians(lat1)) * math.cos(math.radians(lat2)) *\n",
    "         math.sin(dlon / 2) * math.sin(dlon / 2))\n",
    "    c = 2 * math.atan2(math.sqrt(a), math.sqrt(1 - a))\n",
    "    d = radius * c\n",
    "\n",
    "    return d"
   ]
  },
  {
   "cell_type": "code",
   "execution_count": 28,
   "metadata": {},
   "outputs": [
    {
     "data": {
      "text/plain": [
       "163.0760821403945"
      ]
     },
     "execution_count": 28,
     "metadata": {},
     "output_type": "execute_result"
    }
   ],
   "source": [
    "#试试效果吧\n",
    "def get_city_distance(city1,city2):\n",
    "    return geo_distance(city_info[city1],city_info[city2])\n",
    "\n",
    "get_city_distance(\"杭州\",\"上海\")"
   ]
  },
  {
   "cell_type": "code",
   "execution_count": 37,
   "metadata": {},
   "outputs": [
    {
     "data": {
      "text/plain": [
       "993.3968683460413"
      ]
     },
     "execution_count": 37,
     "metadata": {},
     "output_type": "execute_result"
    }
   ],
   "source": [
    "get_city_distance(\"嘉峪关\",\"乌鲁木齐\")"
   ]
  },
  {
   "cell_type": "markdown",
   "metadata": {},
   "source": [
    "##### 接下来是作图"
   ]
  },
  {
   "cell_type": "code",
   "execution_count": 29,
   "metadata": {},
   "outputs": [],
   "source": [
    "import networkx as nx\n",
    "import matplotlib.pyplot as plt\n",
    "%matplotlib inline\n",
    "#确保图上能显示出中文\n",
    "plt.rcParams['font.sans-serif'] = ['SimHei']\n",
    "plt.rcParams['axes.unicode_minus'] = False"
   ]
  },
  {
   "cell_type": "code",
   "execution_count": 30,
   "metadata": {},
   "outputs": [
    {
     "data": {
      "text/plain": [
       "dict_keys(['兰州', '嘉峪关', '西宁', '成都', '石家庄', '拉萨', '贵阳', '武汉', '郑州', '济南', '南京', '合肥', '杭州', '南昌', '福州', '广州', '长沙', '沈阳', '长春', '哈尔滨', '太原', '西安', '北京', '上海', '重庆', '天津', '呼和浩特', '南宁', '银川', '乌鲁木齐', '香港', '澳门'])"
      ]
     },
     "execution_count": 30,
     "metadata": {},
     "output_type": "execute_result"
    }
   ],
   "source": [
    "#这些就是我们希望画在图上的节点\n",
    "city_info.keys()"
   ]
  },
  {
   "cell_type": "code",
   "execution_count": 31,
   "metadata": {},
   "outputs": [
    {
     "data": {
      "image/png": "[encoded data removed]",
      "text/plain": [
       "<Figure size 432x288 with 1 Axes>"
      ]
     },
     "metadata": {},
     "output_type": "display_data"
    }
   ],
   "source": [
    "city_graph = nx.Graph()\n",
    "city_graph.add_nodes_from(list(city_info.keys()))\n",
    "nx.draw(city_graph, city_info, with_labels=True, node_size=10)"
   ]
  },
  {
   "cell_type": "markdown",
   "metadata": {},
   "source": [
    "### 第三步，我们把城市间的路线描绘出来"
   ]
  },
  {
   "cell_type": "markdown",
   "metadata": {},
   "source": [
    "这里我们假定，城市间距离小于700km即为可达，这里就对不起乌鲁木齐了因为嘉峪关距离乌鲁木齐993.3968683460413km"
   ]
  },
  {
   "cell_type": "code",
   "execution_count": 44,
   "metadata": {},
   "outputs": [],
   "source": [
    "threshold = 700"
   ]
  },
  {
   "cell_type": "code",
   "execution_count": 45,
   "metadata": {},
   "outputs": [],
   "source": [
    "#defaultdict的特性是，若字典中不存在指定key则返回默认值\n",
    "from collections import defaultdict"
   ]
  },
  {
   "cell_type": "code",
   "execution_count": 46,
   "metadata": {},
   "outputs": [],
   "source": [
    "#输入包含城市经纬度信息的字典，返回包含城市路径的字典（类似图的邻接表）\n",
    "def build_connection(city_info):\n",
    "    cities_connection = defaultdict(list)\n",
    "    cities = list(city_info.keys())\n",
    "    for c1 in cities:\n",
    "        for c2 in cities:\n",
    "            if c1 == c2 : continue\n",
    "            #若两个城市距离小于threshold，则存在通路\n",
    "            if get_city_distance(c1,c2) < threshold:\n",
    "                cities_connection[c1].append(c2)\n",
    "    return cities_connection\n",
    "\n",
    "cities_connection = build_connection(city_info)"
   ]
  },
  {
   "cell_type": "code",
   "execution_count": 47,
   "metadata": {},
   "outputs": [
    {
     "data": {
      "text/plain": [
       "defaultdict(list,\n",
       "            {'兰州': ['嘉峪关', '西宁', '成都', '西安', '银川'],\n",
       "             '嘉峪关': ['兰州', '西宁'],\n",
       "             '西宁': ['兰州', '嘉峪关', '成都', '银川'],\n",
       "             '成都': ['兰州', '西宁', '拉萨', '贵阳', '西安', '重庆'],\n",
       "             '石家庄': ['郑州', '济南', '太原', '西安', '北京', '天津', '呼和浩特'],\n",
       "             '拉萨': ['成都', '贵阳', '重庆', '南宁'],\n",
       "             '贵阳': ['成都', '拉萨', '长沙', '重庆', '南宁'],\n",
       "             '武汉': ['郑州', '南京', '合肥', '杭州', '南昌', '福州', '长沙', '西安', '上海'],\n",
       "             '郑州': ['石家庄',\n",
       "              '武汉',\n",
       "              '济南',\n",
       "              '南京',\n",
       "              '合肥',\n",
       "              '太原',\n",
       "              '西安',\n",
       "              '北京',\n",
       "              '天津',\n",
       "              '呼和浩特'],\n",
       "             '济南': ['石家庄', '郑州', '南京', '合肥', '太原', '北京', '天津', '呼和浩特'],\n",
       "             '南京': ['武汉', '郑州', '济南', '合肥', '杭州', '南昌', '福州', '上海'],\n",
       "             '合肥': ['武汉', '郑州', '济南', '南京', '杭州', '南昌', '福州', '长沙', '上海'],\n",
       "             '杭州': ['武汉', '南京', '合肥', '南昌', '福州', '上海'],\n",
       "             '南昌': ['武汉', '南京', '合肥', '杭州', '福州', '广州', '长沙', '上海'],\n",
       "             '福州': ['武汉', '南京', '合肥', '杭州', '南昌', '广州', '长沙', '上海', '香港'],\n",
       "             '广州': ['南昌', '福州', '长沙', '南宁', '香港', '澳门'],\n",
       "             '长沙': ['贵阳', '武汉', '合肥', '南昌', '福州', '广州', '重庆', '香港', '澳门'],\n",
       "             '沈阳': ['长春', '哈尔滨', '北京', '天津'],\n",
       "             '长春': ['沈阳', '哈尔滨'],\n",
       "             '哈尔滨': ['沈阳', '长春'],\n",
       "             '太原': ['石家庄', '郑州', '济南', '西安', '北京', '天津', '呼和浩特', '银川'],\n",
       "             '西安': ['兰州', '成都', '石家庄', '武汉', '郑州', '太原', '重庆', '银川'],\n",
       "             '北京': ['石家庄', '郑州', '济南', '沈阳', '太原', '天津', '呼和浩特'],\n",
       "             '上海': ['武汉', '南京', '合肥', '杭州', '南昌', '福州'],\n",
       "             '重庆': ['成都', '拉萨', '贵阳', '长沙', '西安'],\n",
       "             '天津': ['石家庄', '郑州', '济南', '沈阳', '太原', '北京', '呼和浩特'],\n",
       "             '呼和浩特': ['石家庄', '郑州', '济南', '太原', '北京', '天津', '银川'],\n",
       "             '南宁': ['拉萨', '贵阳', '广州', '香港', '澳门'],\n",
       "             '银川': ['兰州', '西宁', '太原', '西安', '呼和浩特'],\n",
       "             '香港': ['福州', '广州', '长沙', '南宁', '澳门'],\n",
       "             '澳门': ['广州', '长沙', '南宁', '香港']})"
      ]
     },
     "execution_count": 47,
     "metadata": {},
     "output_type": "execute_result"
    }
   ],
   "source": [
    "cities_connection"
   ]
  },
  {
   "cell_type": "markdown",
   "metadata": {},
   "source": [
    "##### 好了让我们把连线画出来吧"
   ]
  },
  {
   "cell_type": "code",
   "execution_count": 48,
   "metadata": {},
   "outputs": [
    {
     "data": {
      "image/png": "[encoded data removed]",
      "text/plain": [
       "<Figure size 432x288 with 1 Axes>"
      ]
     },
     "metadata": {},
     "output_type": "display_data"
    }
   ],
   "source": [
    "cities_connection_graph = nx.Graph(cities_connection)\n",
    "#注意传入的参数是cities_connection_graph，city_info\n",
    "nx.draw(cities_connection_graph,city_info,with_labels=True,node_size=10)"
   ]
  },
  {
   "cell_type": "markdown",
   "metadata": {},
   "source": [
    "### 第四步，让我们试试在图上实现遍历算法"
   ]
  },
  {
   "cell_type": "markdown",
   "metadata": {},
   "source": [
    "##### 先试试BFS吧"
   ]
  },
  {
   "cell_type": "code",
   "execution_count": 66,
   "metadata": {},
   "outputs": [],
   "source": [
    "#输入包含城市路径的字典（邻接表），起点，终点，返回\n",
    "#BFS的思路：使用队列先进先出。然而在python提供的数据结构中，我们可以使用列表的pop（0）和append来实现队列\n",
    "def bfs(graph,start,destination):\n",
    "    #注意这里pathes的数据结构是列表嵌套了列表，里一层的列表代表了已遍历路径，而不是队列里的节点\n",
    "    pathes = [[start]]\n",
    "    visited = set()   \n",
    "    #记录一下一共遍历节点多少次\n",
    "    i=0\n",
    "    while pathes:\n",
    "        #出列表，path是路径（列表），最终弹出的节点是froniter。pop（0）代表弹出列表首位元素\n",
    "        path = pathes.pop(0)\n",
    "        froniter = path[-1]\n",
    "        if froniter in visited: continue\n",
    "        #在邻接表中寻找frontier的后继节点    \n",
    "        successsors = graph[froniter]\n",
    "        for city in successsors:\n",
    "            i+=1\n",
    "            #避免环路的情况\n",
    "            if city in path: continue \n",
    "            #注意city这是还是个字符串，[city]转为列表之后可以做列表间操作\n",
    "            new_path = path+[city]\n",
    "            #入队，append加到最后，pop（0）弹出首位元素等于是实现了队列的先进先出\n",
    "            pathes.append(new_path)  \n",
    "            #若遍历到终点，函数结束\n",
    "            if city == destination:\n",
    "                print('遍历%d次'%i)\n",
    "                return new_path\n",
    "        visited.add(froniter)\n",
    "    print('不存在%s到%s的路径'%(start,destination))"
   ]
  },
  {
   "cell_type": "code",
   "execution_count": 62,
   "metadata": {},
   "outputs": [
    {
     "name": "stdout",
     "output_type": "stream",
     "text": [
      "遍历174次\n"
     ]
    },
    {
     "data": {
      "text/plain": [
       "['上海', '武汉', '郑州', '北京', '沈阳', '哈尔滨']"
      ]
     },
     "execution_count": 62,
     "metadata": {},
     "output_type": "execute_result"
    }
   ],
   "source": [
    "bfs(cities_connection,\"上海\",\"哈尔滨\")"
   ]
  },
  {
   "cell_type": "code",
   "execution_count": 67,
   "metadata": {},
   "outputs": [
    {
     "name": "stdout",
     "output_type": "stream",
     "text": [
      "不存在上海到乌鲁木齐的路径\n"
     ]
    }
   ],
   "source": [
    "bfs(cities_connection,\"上海\",\"乌鲁木齐\")"
   ]
  },
  {
   "cell_type": "markdown",
   "metadata": {},
   "source": [
    "##### 接着是DFS"
   ]
  },
  {
   "cell_type": "code",
   "execution_count": 63,
   "metadata": {},
   "outputs": [],
   "source": [
    "#输入包含城市路径的字典（邻接表），起点，终点，返回\n",
    "#DFS的思路：使用栈后进先出。然而在python提供的数据结构中，我们可以使用列表的pop（0）和列表“+”运算来实现栈\n",
    "def dfs(graph,start,destination):\n",
    "    #注意这里pathes的数据结构是列表嵌套了列表，里一层的列表代表了已遍历路径，而不是栈里的节点\n",
    "    pathes = [[start]]\n",
    "    visited = set()   \n",
    "    #记录一下一共遍历节点多少次\n",
    "    i=0\n",
    "    while pathes:\n",
    "        #出列表，path是路径（列表），最终弹出的节点是froniter。pop（0）代表弹出列表首位元素\n",
    "        path = pathes.pop(0)\n",
    "        froniter = path[-1]\n",
    "        if froniter in visited: continue\n",
    "        #在邻接表中寻找frontier的后继节点    \n",
    "        successsors = graph[froniter]\n",
    "        for city in successsors:\n",
    "            i+=1\n",
    "            #避免环路的情况\n",
    "            if city in path: continue \n",
    "            #注意city这是还是个字符串，[city]转为列表之后可以做列表间操作\n",
    "            new_path = path+[city]\n",
    "            #与bfs唯一不同的就是下面这一句，bfs是入队，dfs是入栈\n",
    "            #pathes.append(new_path)  这是bfs\n",
    "            #这里我们直接把new_path加到列表最前，因为pop（0）是弹出第一个元素等于是实现了栈的后进先出\n",
    "            pathes=[new_path]+pathes\n",
    "            #若遍历到终点，函数结束\n",
    "            if city == destination:\n",
    "                print('遍历%d次'%i)\n",
    "                return new_path\n",
    "        visited.add(froniter)\n",
    "    print('不存在%s到%s的路径'%(start,destination))"
   ]
  },
  {
   "cell_type": "code",
   "execution_count": 64,
   "metadata": {},
   "outputs": [
    {
     "name": "stdout",
     "output_type": "stream",
     "text": [
      "遍历158次\n"
     ]
    },
    {
     "data": {
      "text/plain": [
       "['上海',\n",
       " '福州',\n",
       " '香港',\n",
       " '澳门',\n",
       " '南宁',\n",
       " '广州',\n",
       " '长沙',\n",
       " '重庆',\n",
       " '西安',\n",
       " '银川',\n",
       " '呼和浩特',\n",
       " '天津',\n",
       " '北京',\n",
       " '沈阳',\n",
       " '哈尔滨']"
      ]
     },
     "execution_count": 64,
     "metadata": {},
     "output_type": "execute_result"
    }
   ],
   "source": [
    "dfs(cities_connection,\"上海\",\"哈尔滨\")"
   ]
  },
  {
   "cell_type": "markdown",
   "metadata": {},
   "source": [
    "可以看到dfs没有找到最优路径（这里最优的意思是经过城市最少，因为还没有引入边的权值）"
   ]
  },
  {
   "cell_type": "markdown",
   "metadata": {},
   "source": [
    "##### 现在是优化搜索的BFS（我感觉就是dijkstra）"
   ]
  },
  {
   "cell_type": "markdown",
   "metadata": {},
   "source": [
    "首先我们定义计算路径长度的函数"
   ]
  },
  {
   "cell_type": "code",
   "execution_count": 68,
   "metadata": {},
   "outputs": [],
   "source": [
    "def get_distance_of_path(path):\n",
    "    distance = 0\n",
    "    for i,_ in enumerate(path[:-1]):\n",
    "        distance += get_city_distance(path[i],path[i+1])\n",
    "    return distance"
   ]
  },
  {
   "cell_type": "code",
   "execution_count": 85,
   "metadata": {},
   "outputs": [
    {
     "data": {
      "text/plain": [
       "1176.03423744892"
      ]
     },
     "execution_count": 85,
     "metadata": {},
     "output_type": "execute_result"
    }
   ],
   "source": [
    "get_distance_of_path([\"北京\",\"济南\",\"南京\",\"上海\"])"
   ]
  },
  {
   "cell_type": "code",
   "execution_count": 69,
   "metadata": {},
   "outputs": [
    {
     "data": {
      "text/plain": [
       "1098.11914332829"
      ]
     },
     "execution_count": 69,
     "metadata": {},
     "output_type": "execute_result"
    }
   ],
   "source": [
    "get_distance_of_path([\"北京\",\"济南\",\"上海\"])"
   ]
  },
  {
   "cell_type": "code",
   "execution_count": 70,
   "metadata": {},
   "outputs": [
    {
     "data": {
      "text/plain": [
       "1069.7878955717392"
      ]
     },
     "execution_count": 70,
     "metadata": {},
     "output_type": "execute_result"
    }
   ],
   "source": [
    "get_distance_of_path([\"北京\",\"天津\",\"上海\"])"
   ]
  },
  {
   "cell_type": "code",
   "execution_count": 71,
   "metadata": {},
   "outputs": [
    {
     "data": {
      "text/plain": [
       "1068.1567232158195"
      ]
     },
     "execution_count": 71,
     "metadata": {},
     "output_type": "execute_result"
    }
   ],
   "source": [
    "get_distance_of_path([\"北京\",\"上海\"])"
   ]
  },
  {
   "cell_type": "code",
   "execution_count": 109,
   "metadata": {},
   "outputs": [],
   "source": [
    "def bfs2(graph,start,destination,search_strategy):\n",
    "    pathes = [[start]]\n",
    "    #因为这里要计算最短路径，所以不能和BFS一样集合visited，否则会错过最短路径\n",
    "    while pathes:\n",
    "        path = pathes.pop(0)\n",
    "        froniter = path[-1]\n",
    "        successsors = graph[froniter]      \n",
    "        for city in successsors:\n",
    "            if city in path: continue            \n",
    "            new_path = path+[city]           \n",
    "            pathes.append(new_path)  \n",
    "        #这里会对所有路径按照距离之和进行排序（根据search_strategy也可以拓展为A*等），之后优选对距离最短的路径继续遍历          \n",
    "        pathes = search_strategy(pathes)\n",
    "       # 下面的换成开辟一个列表记录起点到每个点的distance，应该就是dijkstra了\n",
    "        if pathes and (destination == pathes[0][-1]):\n",
    "            print('遍历%d次'%i)\n",
    "            print('最短路径距离为%d公里'%get_distance_of_path(pathes[0]))\n",
    "            return pathes[0]  "
   ]
  },
  {
   "cell_type": "code",
   "execution_count": 107,
   "metadata": {},
   "outputs": [],
   "source": [
    "def sort_by_distance(pathes):\n",
    "    return sorted(pathes,key=get_distance_of_path)"
   ]
  },
  {
   "cell_type": "code",
   "execution_count": 110,
   "metadata": {},
   "outputs": [
    {
     "name": "stdout",
     "output_type": "stream",
     "text": [
      "遍历199次\n",
      "最短路径距离为1176公里\n"
     ]
    },
    {
     "data": {
      "text/plain": [
       "['北京', '济南', '南京', '上海']"
      ]
     },
     "execution_count": 110,
     "metadata": {},
     "output_type": "execute_result"
    }
   ],
   "source": [
    "bfs2(cities_connection,\"北京\",\"上海\",search_strategy=sort_by_distance)"
   ]
  },
  {
   "cell_type": "markdown",
   "metadata": {},
   "source": [
    "### Machine Learning "
   ]
  },
  {
   "cell_type": "code",
   "execution_count": 89,
   "metadata": {},
   "outputs": [],
   "source": [
    "from sklearn.datasets import load_boston\n",
    "import random\n",
    "dataset = load_boston()\n",
    "x,y=dataset['data'],dataset['target']"
   ]
  },
  {
   "cell_type": "code",
   "execution_count": 90,
   "metadata": {},
   "outputs": [
    {
     "data": {
      "text/plain": [
       "(506, 13)"
      ]
     },
     "execution_count": 90,
     "metadata": {},
     "output_type": "execute_result"
    }
   ],
   "source": [
    "x.shape"
   ]
  },
  {
   "cell_type": "code",
   "execution_count": 91,
   "metadata": {},
   "outputs": [
    {
     "data": {
      "text/plain": [
       "array(['CRIM', 'ZN', 'INDUS', 'CHAS', 'NOX', 'RM', 'AGE', 'DIS', 'RAD',\n",
       "       'TAX', 'PTRATIO', 'B', 'LSTAT'], dtype='<U7')"
      ]
     },
     "execution_count": 91,
     "metadata": {},
     "output_type": "execute_result"
    }
   ],
   "source": [
    "dataset.feature_names"
   ]
  },
  {
   "cell_type": "markdown",
   "metadata": {},
   "source": [
    "我们将RM特征画到散点图上"
   ]
  },
  {
   "cell_type": "code",
   "execution_count": 92,
   "metadata": {},
   "outputs": [
    {
     "data": {
      "text/plain": [
       "<matplotlib.collections.PathCollection at 0x24c43c75668>"
      ]
     },
     "execution_count": 92,
     "metadata": {},
     "output_type": "execute_result"
    },
    {
     "data": {
      "image/png": "[encoded data removed]",
      "text/plain": [
       "<Figure size 432x288 with 1 Axes>"
      ]
     },
     "metadata": {
      "needs_background": "light"
     },
     "output_type": "display_data"
    }
   ],
   "source": [
    "X_rm = x[:,5]\n",
    "plt.scatter(X_rm,y)"
   ]
  },
  {
   "cell_type": "markdown",
   "metadata": {},
   "source": [
    "#### Gradient descent"
   ]
  },
  {
   "cell_type": "markdown",
   "metadata": {},
   "source": [
    "$$ y = k*rm + b$$"
   ]
  },
  {
   "cell_type": "code",
   "execution_count": 93,
   "metadata": {},
   "outputs": [],
   "source": [
    "def price(rm, k, b):\n",
    "    return k * rm + b"
   ]
  },
  {
   "cell_type": "markdown",
   "metadata": {},
   "source": [
    "$$ loss = \\frac{1}{n} \\sum{(y_i - \\hat{y_i})}^2$$"
   ]
  },
  {
   "cell_type": "markdown",
   "metadata": {},
   "source": [
    "$$ loss = \\frac{1}{n} \\sum{(y_i - (kx_i + b_i))}^2 $$"
   ]
  },
  {
   "cell_type": "code",
   "execution_count": 94,
   "metadata": {},
   "outputs": [],
   "source": [
    "def loss(y,y_hat):\n",
    "    return sum((y_i - y_hat_i)**2 for y_i, y_hat_i in zip(list(y),list(y_hat)))/len(list(y))"
   ]
  },
  {
   "cell_type": "markdown",
   "metadata": {},
   "source": [
    "$$ \\frac{\\partial{loss}}{\\partial{k}} = -\\frac{2}{n}\\sum(y_i - \\hat{y_i})x_i$$"
   ]
  },
  {
   "cell_type": "markdown",
   "metadata": {},
   "source": [
    "$$ \\frac{\\partial{loss}}{\\partial{b}} = -\\frac{2}{n}\\sum(y_i - \\hat{y_i})$$"
   ]
  },
  {
   "cell_type": "code",
   "execution_count": 95,
   "metadata": {},
   "outputs": [],
   "source": [
    "def partial_derivative_k(x, y, y_hat):\n",
    "    n = len(y)\n",
    "    gradient = 0\n",
    "    for x_i, y_i, y_hat_i in zip(list(x),list(y),list(y_hat)):\n",
    "        gradient += (y_i-y_hat_i) * x_i\n",
    "    return -2/n * gradient\n",
    "\n",
    "def partial_derivative_b(y, y_hat):\n",
    "    n = len(y)\n",
    "    gradient = 0\n",
    "    for y_i, y_hat_i in zip(list(y),list(y_hat)):\n",
    "        gradient += (y_i-y_hat_i)\n",
    "    return -2 / n * gradient"
   ]
  },
  {
   "cell_type": "code",
   "execution_count": 96,
   "metadata": {},
   "outputs": [
    {
     "name": "stdout",
     "output_type": "stream",
     "text": [
      "Iteration 0, the loss is 572.4449902468481, parameters k is -13.28976360768523 and b is 89.26694252803676\n",
      "Iteration 1, the loss is 519.2691597097011, parameters k is -13.056696429478148 and b is 89.30051686636618\n",
      "Iteration 2, the loss is 474.45073810547325, parameters k is -12.842691654238767 and b is 89.3310945720135\n",
      "Iteration 3, the loss is 436.6760022699012, parameters k is -12.646187031245667 and b is 89.35892123871047\n",
      "Iteration 4, the loss is 404.83773666054043, parameters k is -12.465748343413463 and b is 89.38422233265216\n",
      "Iteration 5, the loss is 378.0027718770358, parameters k is -12.300058914347119 and b is 89.40720484204125\n",
      "Iteration 6, the loss is 355.3846258873175, parameters k is -12.147909975341456 and b is 89.42805879144451\n",
      "Iteration 7, the loss is 336.32044585187526, parameters k is -12.008191821849381 and b is 89.44695863204082\n",
      "Iteration 8, the loss is 320.25157452371644, parameters k is -11.879885694718245 and b is 89.46406451793197\n",
      "Iteration 9, the loss is 306.707171467351, parameters k is -11.762056326796232 and b is 89.479523477854\n",
      "Iteration 10, the loss is 295.2904089017324, parameters k is -11.653845100378668 and b is 89.49347049086121\n",
      "Iteration 11, the loss is 285.66683745517696, parameters k is -11.554463765433091 and b is 89.50602947385313\n",
      "Iteration 12, the loss is 277.5545807380744, parameters k is -11.463188672644682 and b is 89.51731418816895\n",
      "Iteration 13, the loss is 270.71607125666515, parameters k is -11.379355479090158 and b is 89.52742907188245\n",
      "Iteration 14, the loss is 264.95108538040967, parameters k is -11.30235428780607 and b is 89.53647000388649\n",
      "Iteration 15, the loss is 260.09087316127204, parameters k is -11.231625185691822 and b is 89.5445250053573\n",
      "Iteration 16, the loss is 255.993210902253, parameters k is -11.1666541471021 and b is 89.5516748837305\n",
      "Iteration 17, the loss is 252.5382314257703, parameters k is -11.106969273158732 and b is 89.55799382390035\n",
      "Iteration 18, the loss is 249.6249097931903, parameters k is -11.052137339268251 and b is 89.56354993096747\n",
      "Iteration 19, the loss is 247.1681014434076, parameters k is -11.001760625586291 and b is 89.56840572850595\n",
      "Iteration 20, the loss is 245.09604591426552, parameters k is -10.955474007240007 and b is 89.57261861599511\n",
      "Iteration 21, the loss is 243.3482629606116, parameters k is -10.912942283020154 and b is 89.57624128876262\n",
      "Iteration 22, the loss is 241.87377938712677, parameters k is -10.873857722999148 and b is 89.57932212351142\n",
      "Iteration 23, the loss is 240.62963460999453, parameters k is -10.837937817133113 and b is 89.58190553225087\n",
      "Iteration 24, the loss is 239.57962113328807, parameters k is -10.804923208376351 and b is 89.58403228722166\n",
      "Iteration 25, the loss is 238.6932230132101, parameters k is -10.774575795186589 and b is 89.58573981919156\n",
      "Iteration 26, the loss is 237.9447211879459, parameters k is -10.746676989538658 and b is 89.58706249130451\n",
      "Iteration 27, the loss is 237.31243944308545, parameters k is -10.721026117701964 and b is 89.58803185048656\n",
      "Iteration 28, the loss is 236.77810890573988, parameters k is -10.697438952081608 and b is 89.58867685824782\n",
      "Iteration 29, the loss is 236.32633243550666, parameters k is -10.675746363381883 and b is 89.58902410256924\n",
      "Iteration 30, the loss is 235.94413320923812, parameters k is -10.655793083231169 and b is 89.58909799242423\n",
      "Iteration 31, the loss is 235.62057426496665, parameters k is -10.637436568215417 and b is 89.58892093635836\n",
      "Iteration 32, the loss is 235.34643785072342, parameters k is -10.620545957009321 and b is 89.58851350643363\n",
      "Iteration 33, the loss is 235.11395517737, parameters k is -10.60500111297538 and b is 89.58789458873672\n",
      "Iteration 34, the loss is 234.91657865229465, parameters k is -10.59069174522638 and b is 89.58708152155248\n",
      "Iteration 35, the loss is 234.74878991629626, parameters k is -10.577516601720845 and b is 89.58609022221337\n",
      "Iteration 36, the loss is 234.60593805566324, parameters k is -10.56538272848804 and b is 89.58493530355308\n",
      "Iteration 37, the loss is 234.48410324611658, parameters k is -10.554204789562874 and b is 89.58363018081617\n",
      "Iteration 38, the loss is 234.37998183093023, parameters k is -10.543904442655293 and b is 89.58218716980603\n",
      "Iteration 39, the loss is 234.2907894639202, parameters k is -10.534409765986416 and b is 89.58061757698917\n",
      "Iteration 40, the loss is 234.21417947764647, parameters k is -10.525654732098102 and b is 89.57893178221495\n",
      "Iteration 41, the loss is 234.14817408353278, parameters k is -10.517578724786238 and b is 89.57713931465621\n",
      "Iteration 42, the loss is 234.0911063868214, parameters k is -10.510126095623573 and b is 89.57524892252606\n",
      "Iteration 43, the loss is 234.0415715163505, parameters k is -10.503245756827534 and b is 89.57326863708114\n",
      "Iteration 44, the loss is 233.99838543637227, parameters k is -10.496890807494417 and b is 89.57120583137953\n",
      "Iteration 45, the loss is 233.96055023284825, parameters k is -10.491018190465388 and b is 89.5690672742231\n",
      "Iteration 46, the loss is 233.92722485648693, parameters k is -10.485588377313906 and b is 89.56685917967914\n",
      "Iteration 47, the loss is 233.8977004647574, parameters k is -10.480565079149873 and b is 89.56458725254338\n",
      "Iteration 48, the loss is 233.87137963995926, parameters k is -10.47591498112471 and b is 89.56225673007712\n",
      "Iteration 49, the loss is 233.8477588740593, parameters k is -10.471607498694972 and b is 89.55987242032388\n",
      "Iteration 50, the loss is 233.8264138067808, parameters k is -10.467614553861276 and b is 89.55743873728575\n",
      "Iteration 51, the loss is 233.8069867841592, parameters k is -10.463910369745482 and b is 89.55495973321688\n",
      "Iteration 52, the loss is 233.78917637280017, parameters k is -10.460471282003214 and b is 89.55243912827041\n",
      "Iteration 53, the loss is 233.772728522419, parameters k is -10.457275565691997 and b is 89.54988033771565\n",
      "Iteration 54, the loss is 233.75742911756495, parameters k is -10.45430327632835 and b is 89.54728649692476\n",
      "Iteration 55, the loss is 233.7430977001575, parameters k is -10.451536103970971 and b is 89.54466048431156\n",
      "Iteration 56, the loss is 233.72958217879759, parameters k is -10.448957239262493 and b is 89.54200494239049\n",
      "Iteration 57, the loss is 233.71675436973095, parameters k is -10.446551250449712 and b is 89.5393222971096\n",
      "Iteration 58, the loss is 233.70450623874487, parameters k is -10.444303970482599 and b is 89.53661477559923\n",
      "Iteration 59, the loss is 233.69274673380616, parameters k is -10.442202393366047 and b is 89.53388442246596\n",
      "Iteration 60, the loss is 233.6813991155896, parameters k is -10.44023457900608 and b is 89.53113311475131\n",
      "Iteration 61, the loss is 233.67039870762315, parameters k is -10.438389565854349 and b is 89.52836257566452\n",
      "Iteration 62, the loss is 233.65969100009787, parameters k is -10.436657290711812 and b is 89.52557438718969\n",
      "Iteration 63, the loss is 233.64923005174305, parameters k is -10.435028515104879 and b is 89.52277000165996\n",
      "Iteration 64, the loss is 233.6389771429139, parameters k is -10.433494757695364 and b is 89.51995075238291\n",
      "Iteration 65, the loss is 233.62889964040608, parameters k is -10.432048232229752 and b is 89.5171178633953\n",
      "Iteration 66, the loss is 233.61897004071125, parameters k is -10.430681790573816 and b is 89.51427245841829\n",
      "Iteration 67, the loss is 233.60916516366797, parameters k is -10.4293888704158 and b is 89.5114155690788\n",
      "Iteration 68, the loss is 233.59946547286168, parameters k is -10.428163447255574 and b is 89.50854814245703\n",
      "Iteration 69, the loss is 233.58985450285553, parameters k is -10.426999990328499 and b is 89.50567104801543\n",
      "Iteration 70, the loss is 233.58031837645478, parameters k is -10.425893422141524 and b is 89.50278508395989\n",
      "Iteration 71, the loss is 233.57084539785447, parameters k is -10.4248390813255 and b is 89.49989098307951\n",
      "Iteration 72, the loss is 233.56142570974114, parameters k is -10.423832688531908 and b is 89.49698941810779\n",
      "Iteration 73, the loss is 233.552051004294, parameters k is -10.422870315124513 and b is 89.49408100664449\n",
      "Iteration 74, the loss is 233.54271427961896, parameters k is -10.421948354436875 and b is 89.4911663156741\n",
      "Iteration 75, the loss is 233.53340963446362, parameters k is -10.421063495385447 and b is 89.48824586571398\n",
      "Iteration 76, the loss is 233.5241320952065, parameters k is -10.420212698245189 and b is 89.48532013462253\n",
      "Iteration 77, the loss is 233.5148774700393, parameters k is -10.4193931724105 and b is 89.48238956109533\n",
      "Iteration 78, the loss is 233.5056422260712, parameters k is -10.418602355978724 and b is 89.4794545478747\n",
      "Iteration 79, the loss is 233.49642338575399, parameters k is -10.417837897006898 and b is 89.47651546469622\n",
      "Iteration 80, the loss is 233.48721843958313, parameters k is -10.417097636304584 and b is 89.47357265099382\n",
      "Iteration 81, the loss is 233.4780252725274, parameters k is -10.416379591636916 and b is 89.47062641838309\n",
      "Iteration 82, the loss is 233.46884210201938, parameters k is -10.415681943222275 and b is 89.46767705294117\n",
      "Iteration 83, the loss is 233.45966742569567, parameters k is -10.415003020418498 and b is 89.4647248172997\n",
      "Iteration 84, the loss is 233.45049997734804, parameters k is -10.41434128950021 and b is 89.46176995256631\n",
      "Iteration 85, the loss is 233.44133868980524, parameters k is -10.413695342437874 and b is 89.45881268008863\n",
      "Iteration 86, the loss is 233.432182663644, parameters k is -10.413063886596426 and b is 89.45585320307366\n",
      "Iteration 87, the loss is 233.4230311408199, parameters k is -10.41244573527817 and b is 89.45289170807452\n",
      "Iteration 88, the loss is 233.41388348244448, parameters k is -10.41183979904073 and b is 89.44992836635532\n",
      "Iteration 89, the loss is 233.40473915005455, parameters k is -10.411245077726518 and b is 89.44696333514413\n",
      "Iteration 90, the loss is 233.39559768982573, parameters k is -10.410660653145449 and b is 89.44399675878331\n",
      "Iteration 91, the loss is 233.38645871926892, parameters k is -10.41008568235731 and b is 89.44102876978559\n",
      "Iteration 92, the loss is 233.37732191601535, parameters k is -10.409519391504704 and b is 89.43805948980348\n",
      "Iteration 93, the loss is 233.36818700836767, parameters k is -10.408961070151378 and b is 89.4350890305194\n",
      "Iteration 94, the loss is 233.35905376733334, parameters k is -10.408410066084583 and b is 89.43211749446274\n",
      "Iteration 95, the loss is 233.34992199991288, parameters k is -10.407865780543384 and b is 89.42914497575998\n",
      "Iteration 96, the loss is 233.34079154344127, parameters k is -10.407327663838036 and b is 89.42617156082338\n",
      "Iteration 97, the loss is 233.3316622608206, parameters k is -10.406795211328374 and b is 89.42319732898314\n",
      "Iteration 98, the loss is 233.32253403649986, parameters k is -10.4062679597318 and b is 89.42022235306787\n",
      "Iteration 99, the loss is 233.3134067730879, parameters k is -10.405745483733828 and b is 89.41724669993741\n",
      "Iteration 100, the loss is 233.30428038850133, parameters k is -10.405227392876435 and b is 89.41427043097197\n",
      "Iteration 101, the loss is 233.29515481355395, parameters k is -10.404713328701407 and b is 89.41129360252121\n",
      "Iteration 102, the loss is 233.2860299899338, parameters k is -10.404202962127805 and b is 89.40831626631658\n",
      "Iteration 103, the loss is 233.27690586849096, parameters k is -10.403695991044366 and b is 89.40533846984971\n",
      "Iteration 104, the loss is 233.2677824077975, parameters k is -10.403192138099215 and b is 89.40236025671997\n",
      "Iteration 105, the loss is 233.2586595729361, parameters k is -10.402691148670714 and b is 89.3993816669534\n",
      "Iteration 106, the loss is 233.24953733447273, parameters k is -10.402192789004621 and b is 89.39640273729559\n",
      "Iteration 107, the loss is 233.2404156675992, parameters k is -10.401696844503908 and b is 89.3934235014805\n",
      "Iteration 108, the loss is 233.23129455140153, parameters k is -10.401203118158735 and b is 89.39044399047731\n",
      "Iteration 109, the loss is 233.22217396825124, parameters k is -10.400711429105106 and b is 89.387464232717\n",
      "Iteration 110, the loss is 233.21305390328743, parameters k is -10.400221611301639 and b is 89.38448425430033\n",
      "Iteration 111, the loss is 233.2039343439813, parameters k is -10.399733512314784 and b is 89.38150407918889\n",
      "Iteration 112, the loss is 233.19481527977084, parameters k is -10.3992469922036 and b is 89.3785237293803\n",
      "Iteration 113, the loss is 233.18569670175046, parameters k is -10.39876192249593 and b is 89.3755432250693\n",
      "Iteration 114, the loss is 233.1765786024119, parameters k is -10.398278185248477 and b is 89.37256258479538\n",
      "Iteration 115, the loss is 233.1674609754231, parameters k is -10.39779567218392 and b is 89.36958182557854\n",
      "Iteration 116, the loss is 233.158343815444, parameters k is -10.397314283898735 and b is 89.36660096304372\n",
      "Iteration 117, the loss is 233.14922711797155, parameters k is -10.39683392913596 and b is 89.36362001153525\n",
      "Iteration 118, the loss is 233.14011087920608, parameters k is -10.396354524117532 and b is 89.36063898422167\n",
      "Iteration 119, the loss is 233.13099509594298, parameters k is -10.395875991931367 and b is 89.35765789319218\n",
      "Iteration 120, the loss is 233.12187976547682, parameters k is -10.395398261968658 and b is 89.35467674954509\n",
      "Iteration 121, the loss is 233.1127648855254, parameters k is -10.394921269407291 and b is 89.351695563469\n",
      "Iteration 122, the loss is 233.10365045416114, parameters k is -10.394444954737603 and b is 89.34871434431734\n",
      "Iteration 123, the loss is 233.0945364697565, parameters k is -10.393969263326996 and b is 89.3457331006769\n",
      "Iteration 124, the loss is 233.08542293093618, parameters k is -10.393494145020243 and b is 89.34275184043052\n",
      "Iteration 125, the loss is 233.07630983653794, parameters k is -10.39301955377255 and b is 89.33977057081495\n",
      "Iteration 126, the loss is 233.06719718557915, parameters k is -10.392545447312681 and b is 89.33678929847366\n",
      "Iteration 127, the loss is 233.05808497722765, parameters k is -10.3920717868337 and b is 89.33380802950553\n",
      "Iteration 128, the loss is 233.04897321077982, parameters k is -10.391598536709056 and b is 89.33082676950947\n",
      "Iteration 129, the loss is 233.0398618856383, parameters k is -10.391125664231936 and b is 89.32784552362538\n",
      "Iteration 130, the loss is 233.0307510012969, parameters k is -10.390653139375978 and b is 89.3248642965718\n",
      "Iteration 131, the loss is 233.02164055732527, parameters k is -10.390180934575596 and b is 89.32188309268041\n",
      "Iteration 132, the loss is 233.012530553358, parameters k is -10.389709024524311 and b is 89.31890191592775\n",
      "Iteration 133, the loss is 233.0034209890833, parameters k is -10.3892373859896 and b is 89.31592076996432\n",
      "Iteration 134, the loss is 232.99431186423507, parameters k is -10.388765997642937 and b is 89.31293965814132\n",
      "Iteration 135, the loss is 232.98520317858626, parameters k is -10.388294839903734 and b is 89.30995858353513\n",
      "Iteration 136, the loss is 232.97609493194153, parameters k is -10.38782389479611 and b is 89.3069775489699\n",
      "Iteration 137, the loss is 232.96698712413374, parameters k is -10.387353145817363 and b is 89.30399655703816\n",
      "Iteration 138, the loss is 232.95787975501776, parameters k is -10.386882577817241 and b is 89.30101561011985\n",
      "Iteration 139, the loss is 232.94877282446842, parameters k is -10.386412176887106 and b is 89.2980347103997\n",
      "Iteration 140, the loss is 232.9396663323769, parameters k is -10.385941930258172 and b is 89.29505385988327\n",
      "Iteration 141, the loss is 232.93056027864853, parameters k is -10.385471826208091 and b is 89.2920730604116\n",
      "Iteration 142, the loss is 232.92145466319988, parameters k is -10.385001853975195 and b is 89.28909231367471\n",
      "Iteration 143, the loss is 232.91234948595715, parameters k is -10.38453200367976 and b is 89.286111621224\n",
      "Iteration 144, the loss is 232.90324474685445, parameters k is -10.384062266251732 and b is 89.28313098448353\n",
      "Iteration 145, the loss is 232.89414044583427, parameters k is -10.383592633364366 and b is 89.28015040476056\n",
      "Iteration 146, the loss is 232.88503658284395, parameters k is -10.383123097373307 and b is 89.27716988325506\n",
      "Iteration 147, the loss is 232.87593315783576, parameters k is -10.382653651260672 and b is 89.27418942106848\n",
      "Iteration 148, the loss is 232.86683017076584, parameters k is -10.3821842885837 and b is 89.27120901921192\n",
      "Iteration 149, the loss is 232.85772762159536, parameters k is -10.381715003427624 and b is 89.26822867861344\n",
      "Iteration 150, the loss is 232.84862551028647, parameters k is -10.381245790362398 and b is 89.26524840012489\n",
      "Iteration 151, the loss is 232.8395238368053, parameters k is -10.380776644402967 and b is 89.26226818452818\n",
      "Iteration 152, the loss is 232.83042260111898, parameters k is -10.380307560972806 and b is 89.25928803254101\n",
      "Iteration 153, the loss is 232.82132180319732, parameters k is -10.379838535870435 and b is 89.2563079448221\n",
      "Iteration 154, the loss is 232.81222144301145, parameters k is -10.37936956523868 and b is 89.25332792197605\n",
      "Iteration 155, the loss is 232.80312152053293, parameters k is -10.37890064553646 and b is 89.25034796455779\n",
      "Iteration 156, the loss is 232.79402203573585, parameters k is -10.378431773512878 and b is 89.24736807307659\n",
      "Iteration 157, the loss is 232.78492298859368, parameters k is -10.377962946183441 and b is 89.24438824799986\n",
      "Iteration 158, the loss is 232.77582437908157, parameters k is -10.37749416080823 and b is 89.24140848975658\n",
      "Iteration 159, the loss is 232.76672620717562, parameters k is -10.377025414871847 and b is 89.2384287987404\n",
      "Iteration 160, the loss is 232.75762847285057, parameters k is -10.376556706065026 and b is 89.2354491753126\n",
      "Iteration 161, the loss is 232.74853117608453, parameters k is -10.37608803226773 and b is 89.23246961980468\n",
      "Iteration 162, the loss is 232.73943431685342, parameters k is -10.375619391533647 and b is 89.22949013252085\n",
      "Iteration 163, the loss is 232.7303378951345, parameters k is -10.375150782075954 and b is 89.22651071374024\n",
      "Iteration 164, the loss is 232.72124191090558, parameters k is -10.374682202254242 and b is 89.22353136371896\n",
      "Iteration 165, the loss is 232.71214636414416, parameters k is -10.37421365056252 and b is 89.22055208269201\n",
      "Iteration 166, the loss is 232.70305125482867, parameters k is -10.3737451256182 and b is 89.21757287087496\n",
      "Iteration 167, the loss is 232.6939565829369, parameters k is -10.373276626151975 and b is 89.2145937284656\n",
      "Iteration 168, the loss is 232.68486234844673, parameters k is -10.372808150998548 and b is 89.21161465564535\n",
      "Iteration 169, the loss is 232.67576855133697, parameters k is -10.372339699088098 and b is 89.20863565258061\n",
      "Iteration 170, the loss is 232.666675191586, parameters k is -10.371871269438458 and b is 89.20565671942404\n",
      "Iteration 171, the loss is 232.6575822691722, parameters k is -10.371402861147933 and b is 89.20267785631562\n",
      "Iteration 172, the loss is 232.64848978407466, parameters k is -10.370934473388704 and b is 89.1996990633837\n",
      "Iteration 173, the loss is 232.63939773627064, parameters k is -10.370466105400775 and b is 89.19672034074603\n",
      "Iteration 174, the loss is 232.63030612574084, parameters k is -10.36999775648641 and b is 89.19374168851049\n",
      "Iteration 175, the loss is 232.62121495246265, parameters k is -10.369529426005032 and b is 89.19076310677603\n",
      "Iteration 176, the loss is 232.61212421641483, parameters k is -10.369061113368547 and b is 89.18778459563336\n",
      "Iteration 177, the loss is 232.60303391757716, parameters k is -10.368592818037028 and b is 89.18480615516557\n",
      "Iteration 178, the loss is 232.59394405592738, parameters k is -10.368124539514781 and b is 89.18182778544883\n",
      "Iteration 179, the loss is 232.58485463144518, parameters k is -10.367656277346711 and b is 89.17884948655292\n",
      "Iteration 180, the loss is 232.57576564410923, parameters k is -10.367188031115 and b is 89.17587125854175\n",
      "Iteration 181, the loss is 232.56667709389816, parameters k is -10.36671980043605 and b is 89.17289310147386\n",
      "Iteration 182, the loss is 232.55758898079094, parameters k is -10.366251584957674 and b is 89.16991501540285\n",
      "Iteration 183, the loss is 232.54850130476663, parameters k is -10.365783384356531 and b is 89.1669370003778\n",
      "Iteration 184, the loss is 232.53941406580432, parameters k is -10.365315198335756 and b is 89.1639590564436\n",
      "Iteration 185, the loss is 232.5303272638822, parameters k is -10.36484702662279 and b is 89.16098118364134\n",
      "Iteration 186, the loss is 232.52124089898024, parameters k is -10.364378868967393 and b is 89.15800338200859\n",
      "Iteration 187, the loss is 232.51215497107697, parameters k is -10.363910725139805 and b is 89.1550256515797\n",
      "Iteration 188, the loss is 232.5030694801511, parameters k is -10.36344259492908 and b is 89.15204799238609\n",
      "Iteration 189, the loss is 232.493984426182, parameters k is -10.362974478141531 and b is 89.14907040445641\n",
      "Iteration 190, the loss is 232.4848998091483, parameters k is -10.36250637459933 and b is 89.14609288781688\n",
      "Iteration 191, the loss is 232.47581562902909, parameters k is -10.362038284139196 and b is 89.14311544249138\n",
      "Iteration 192, the loss is 232.46673188580334, parameters k is -10.361570206611207 and b is 89.14013806850173\n",
      "Iteration 193, the loss is 232.45764857944997, parameters k is -10.361102141877707 and b is 89.1371607658678\n",
      "Iteration 194, the loss is 232.44856570994847, parameters k is -10.3606340898123 and b is 89.13418353460771\n",
      "Iteration 195, the loss is 232.43948327727705, parameters k is -10.360166050298927 and b is 89.13120637473793\n",
      "Iteration 196, the loss is 232.43040128141487, parameters k is -10.359698023231015 and b is 89.12822928627344\n",
      "Iteration 197, the loss is 232.42131972234142, parameters k is -10.359230008510707 and b is 89.12525226922787\n",
      "Iteration 198, the loss is 232.41223860003524, parameters k is -10.35876200604814 and b is 89.12227532361358\n",
      "Iteration 199, the loss is 232.4031579144753, parameters k is -10.358294015760798 and b is 89.11929844944179\n"
     ]
    }
   ],
   "source": [
    "k = random.random() * 200 - 100  # -100 100\n",
    "b = random.random() * 200 - 100  # -100 100\n",
    "\n",
    "learning_rate = 1e-3\n",
    "\n",
    "iteration_num = 200 \n",
    "#记录下losses之后可以绘图\n",
    "losses = []\n",
    "for i in range(iteration_num):\n",
    "    \n",
    "    price_use_current_parameters = [price(r, k, b) for r in X_rm]  \n",
    "    \n",
    "    current_loss = loss(y, price_use_current_parameters)\n",
    "    losses.append(current_loss)\n",
    "    print(\"Iteration {}, the loss is {}, parameters k is {} and b is {}\".format(i,current_loss,k,b))\n",
    "    \n",
    "    k_gradient = partial_derivative_k(X_rm, y, price_use_current_parameters)\n",
    "    b_gradient = partial_derivative_b(y, price_use_current_parameters)\n",
    "    \n",
    "    k = k + (-1 * k_gradient) * learning_rate\n",
    "    b = b + (-1 * b_gradient) * learning_rate\n",
    "best_k = k\n",
    "best_b = b"
   ]
  },
  {
   "cell_type": "code",
   "execution_count": 97,
   "metadata": {},
   "outputs": [
    {
     "data": {
      "text/plain": [
       "[<matplotlib.lines.Line2D at 0x24c43cf9a20>]"
      ]
     },
     "execution_count": 97,
     "metadata": {},
     "output_type": "execute_result"
    },
    {
     "data": {
      "image/png": "[encoded data removed]",
      "text/plain": [
       "<Figure size 432x288 with 1 Axes>"
      ]
     },
     "metadata": {
      "needs_background": "light"
     },
     "output_type": "display_data"
    }
   ],
   "source": [
    "plt.plot(list(range(iteration_num)),losses)"
   ]
  },
  {
   "cell_type": "code",
   "execution_count": 100,
   "metadata": {},
   "outputs": [
    {
     "data": {
      "text/plain": [
       "<matplotlib.collections.PathCollection at 0x24c43d4ec88>"
      ]
     },
     "execution_count": 100,
     "metadata": {},
     "output_type": "execute_result"
    },
    {
     "data": {
      "image/png": "[encoded data removed]",
      "text/plain": [
       "<Figure size 432x288 with 1 Axes>"
      ]
     },
     "metadata": {
      "needs_background": "light"
     },
     "output_type": "display_data"
    }
   ],
   "source": [
    "plt.scatter(X_rm,y)\n",
    "plt.scatter(X_rm,price_use_current_parameters)"
   ]
  },
  {
   "cell_type": "markdown",
   "metadata": {},
   "source": [
    "这个情况应该是上来训练走错优化的方向了（或者初始化的不太好），导致损失收敛在了232。让我们重新训练一次"
   ]
  },
  {
   "cell_type": "code",
   "execution_count": 104,
   "metadata": {},
   "outputs": [
    {
     "name": "stdout",
     "output_type": "stream",
     "text": [
      "Iteration 0, the loss is 300999.87848575943, parameters k is 97.33716482996641 and b is -44.10813778099414\n",
      "Iteration 1, the loss is 253692.76623247843, parameters k is 90.39886693909929 and b is -45.1983128792994\n",
      "Iteration 2, the loss is 213821.98413552652, parameters k is 84.02918744509657 and b is -46.199098296378786\n",
      "Iteration 3, the loss is 180218.59577248915, parameters k is 78.18152545373908 and b is -47.11781992905517\n",
      "Iteration 4, the loss is 151897.41293155123, parameters k is 72.81309922854493 and b is -47.961203283193214\n",
      "Iteration 5, the loss is 128028.11174386294, parameters k is 67.8846331932172 and b is -48.735422678501344\n",
      "Iteration 6, the loss is 107910.88914751651, parameters k is 63.36007058568159 and b is -49.44614642077383\n",
      "Iteration 7, the loss is 90955.94597639532, parameters k is 59.20630966144796 and b is -50.09857827205968\n",
      "Iteration 8, the loss is 76666.19515659648, parameters k is 55.39296151632042 and b is -50.69749552216041\n",
      "Iteration 9, the loss is 64622.68804723192, parameters k is 51.89212775665079 and b is -51.24728393999331\n",
      "Iteration 10, the loss is 54472.33165329836, parameters k is 48.67819639053795 and b is -51.7519698605297\n",
      "Iteration 11, the loss is 45917.536602369575, parameters k is 45.727654446682735 and b is -52.2152496420609\n",
      "Iteration 12, the loss is 38707.49238323773, parameters k is 43.01891594998995 and b is -52.64051670930568\n",
      "Iteration 13, the loss is 32630.814052886755, parameters k is 40.53216399536151 and b is -53.03088638021065\n",
      "Iteration 14, the loss is 27509.344827062505, parameters k is 38.2492057642689 and b is -53.38921865808007\n",
      "Iteration 15, the loss is 23192.93285803714, parameters k is 36.153339423384885 and b is -53.71813915578572\n",
      "Iteration 16, the loss is 19555.029064502658, parameters k is 34.22923193148472 and b is -54.02005830514154\n",
      "Iteration 17, the loss is 16488.97695023755, parameters k is 32.462806860634245 and b is -54.29718899198153\n",
      "Iteration 18, the loss is 13904.885635997814, parameters k is 30.84114141094783 and b is -54.551562745961945\n",
      "Iteration 19, the loss is 11726.994427803249, parameters k is 29.352371865460807 and b is -54.785044603534644\n",
      "Iteration 20, the loss is 9891.451655711002, parameters k is 27.985606793410252 and b is -54.99934675283138\n",
      "Iteration 21, the loss is 8344.442662801936, parameters k is 26.730847366906307 and b is -55.19604106028704\n",
      "Iteration 22, the loss is 7040.612060533998, parameters k is 25.578914208019004 and b is -55.37657057064846\n",
      "Iteration 23, the loss is 5941.733993952922, parameters k is 24.52138023108296 and b is -55.54226006450462\n",
      "Iteration 24, the loss is 5015.591431434609, parameters k is 23.550508988884285 and b is -55.69432575057857\n",
      "Iteration 25, the loss is 4235.03162183953, parameters k is 22.659198071661155 and b is -55.83388416369155\n",
      "Iteration 26, the loss is 3577.170026857403, parameters k is 21.840927144816817 and b is -55.9619603334979\n",
      "Iteration 27, the loss is 3022.7193893339363, parameters k is 21.089710245181113 and b is -56.0794952837546\n",
      "Iteration 28, the loss is 2555.424267123357, parameters k is 20.4000519868129 and b is -56.18735291699117\n",
      "Iteration 29, the loss is 2161.584454061494, parameters k is 19.76690735593852 and b is -56.286326334949145\n",
      "Iteration 30, the loss is 1829.65331565775, parameters k is 19.18564480088007 and b is -56.37714364103248\n",
      "Iteration 31, the loss is 1549.8992634628628, parameters k is 18.652012346933912 and b is -56.46047326722045\n",
      "Iteration 32, the loss is 1314.1204431769754, parameters k is 18.162106488290835 and b is -56.53692886441549\n",
      "Iteration 33, the loss is 1115.404271689225, parameters k is 17.71234362940651 and b is -56.607073792004556\n",
      "Iteration 34, the loss is 947.9247731266499, parameters k is 17.299433866883067 and b is -56.67142523948024\n",
      "Iteration 35, the loss is 806.7717721860353, parameters k is 16.920356920046125 and b is -56.730458010276124\n",
      "Iteration 36, the loss is 687.8069370180948, parameters k is 16.57234003412181 and b is -56.78460799549932\n",
      "Iteration 37, the loss is 587.5424511117486, parameters k is 16.252837694350106 and b is -56.83427536297476\n",
      "Iteration 38, the loss is 503.0387570660946, parameters k is 15.959513002619953 and b is -56.879827484932505\n",
      "Iteration 39, the loss is 431.8183742895533, parameters k is 15.690220580374834 and b is -56.921601625757724\n",
      "Iteration 40, the loss is 371.7932639230186, parameters k is 15.442990872703902 and b is -56.95990740946711\n",
      "Iteration 41, the loss is 321.2036114630166, parameters k is 15.216015738785085 and b is -56.99502908496426\n",
      "Iteration 42, the loss is 278.56623230638115, parameters k is 15.007635223257687 and b is -57.02722760564702\n",
      "Iteration 43, the loss is 242.63108756394354, parameters k is 14.816325411741886 and b is -57.05674253858134\n",
      "Iteration 44, the loss is 212.3446352685724, parameters k is 14.640687281654289 and b is -57.08379381720961\n",
      "Iteration 45, the loss is 186.81894250384292, parameters k is 14.479436466750474 and b is -57.10858335041647\n",
      "Iteration 46, the loss is 165.30565287896243, parameters k is 14.33139386051036 and b is -57.13129649972424\n",
      "Iteration 47, the loss is 147.17404612522333, parameters k is 14.195476989619396 and b is -57.15210343542547\n",
      "Iteration 48, the loss is 131.89254656257341, parameters k is 14.070692094432665 and b is -57.17116038157404\n",
      "Iteration 49, the loss is 119.01313829927275, parameters k is 13.956126858481404 and b is -57.18861075894369\n",
      "Iteration 50, the loss is 108.15823024757242, parameters k is 13.850943733829912 and b is -57.20458623431569\n",
      "Iteration 51, the loss is 99.00958586235016, parameters k is 13.754373813450187 and b is -57.219207683772645\n",
      "Iteration 52, the loss is 91.29899304343398, parameters k is 13.665711205783653 and b is -57.23258607704588\n",
      "Iteration 53, the loss is 84.8004006606776, parameters k is 13.584307870333454 and b is -57.24482328938654\n",
      "Iteration 54, the loss is 79.32329115947562, parameters k is 13.509568876503707 and b is -57.256012846900084\n",
      "Iteration 55, the loss is 74.70709494396078, parameters k is 13.44094805099871 and b is -57.266240610797205\n",
      "Iteration 56, the loss is 70.81648277809346, parameters k is 13.377943981937817 and b is -57.27558540556722\n",
      "Iteration 57, the loss is 67.53739818668464, parameters k is 13.320096350451475 and b is -57.28411959566977\n",
      "Iteration 58, the loss is 64.77371353380607, parameters k is 13.266982562919868 and b is -57.291909614963984\n",
      "Iteration 59, the loss is 62.44441174108569, parameters k is 13.218214659215077 and b is -57.29901645274848\n",
      "Iteration 60, the loss is 60.48121101916589, parameters k is 13.173436474327048 and b is -57.30549609996817\n",
      "Iteration 61, the loss is 58.826562973910576, parameters k is 13.132321032607353 and b is -57.311399958852306\n",
      "Iteration 62, the loss is 57.43196539559759, parameters k is 13.094568155566686 and b is -57.316775218980915\n",
      "Iteration 63, the loss is 56.25654026524406, parameters k is 13.059902265724347 and b is -57.321665202530724\n",
      "Iteration 64, the loss is 55.26583528788124, parameters k is 13.028070370442373 and b is -57.32610968122669\n",
      "Iteration 65, the loss is 54.43081381598725, parameters k is 12.998840210993745 and b is -57.33014516731786\n",
      "Iteration 66, the loss is 53.72700354952859, parameters k is 12.971998563322966 and b is -57.333805180706406\n",
      "Iteration 67, the loss is 53.133779054096124, parameters k is 12.947349678067134 and b is -57.33712049418425\n",
      "Iteration 68, the loss is 52.633757061913904, parameters k is 12.924713848424465 and b is -57.34011935857136\n",
      "Iteration 69, the loss is 52.21228682708413, parameters k is 12.903926095392587 and b is -57.342827709402975\n",
      "Iteration 70, the loss is 51.85702059323919, parameters k is 12.88483496075759 and b is -57.345269356677846\n",
      "Iteration 71, the loss is 51.5575515805213, parameters k is 12.867301399003201 and b is -57.34746615905573\n",
      "Iteration 72, the loss is 51.30510887834681, parameters k is 12.851197760033084 and b is -57.34943818377859\n",
      "Iteration 73, the loss is 51.09230029878469, parameters k is 12.836406855263736 and b is -57.351203853485536\n",
      "Iteration 74, the loss is 50.9128956514928, parameters k is 12.822821100255364 and b is -57.3527800809956\n",
      "Iteration 75, the loss is 50.7616440862412, parameters k is 12.810341727608115 and b is -57.35418239304444\n",
      "Iteration 76, the loss is 50.6341201478473, parameters k is 12.798878064365075 and b is -57.35542504388024\n",
      "Iteration 77, the loss is 50.5265940301433, parameters k is 12.788346868635418 and b is -57.35652111954992\n",
      "Iteration 78, the loss is 50.4359222250664, parameters k is 12.778671720584345 and b is -57.35748263363861\n",
      "Iteration 79, the loss is 50.359455360907255, parameters k is 12.769782463334195 and b is -57.35832061516284\n",
      "Iteration 80, the loss is 50.29496052770887, parameters k is 12.761614689686288 and b is -57.359045189260435\n",
      "Iteration 81, the loss is 50.24055581254104, parameters k is 12.754109270908273 and b is -57.35966565126756\n",
      "Iteration 82, the loss is 50.194655125348575, parameters k is 12.747211924139519 and b is -57.360190534724794\n",
      "Iteration 83, the loss is 50.1559216977709, parameters k is 12.740872815249626 and b is -57.36062767380974\n",
      "Iteration 84, the loss is 50.12322889160423, parameters k is 12.735046194244514 and b is -57.36098426065308\n",
      "Iteration 85, the loss is 50.09562716788642, parameters k is 12.729690060552654 and b is -57.36126689795728\n",
      "Iteration 86, the loss is 50.072316248198376, parameters k is 12.724765855742632 and b is -57.3614816473029\n",
      "Iteration 87, the loss is 50.05262165200396, parameters k is 12.720238181423932 and b is -57.36163407349608\n",
      "Iteration 88, the loss is 50.03597492214776, parameters k is 12.716074540267039 and b is -57.36172928528143\n",
      "Iteration 89, the loss is 50.02189695875947, parameters k is 12.71224509824814 and b is -57.36177197271842\n",
      "Iteration 90, the loss is 50.00998397294548, parameters k is 12.70872246637896 and b is -57.36176644149455\n",
      "Iteration 91, the loss is 49.999895648457105, parameters k is 12.70548150032486 and b is -57.36171664442637\n",
      "Iteration 92, the loss is 49.9913451642576, parameters k is 12.702499116445127 and b is -57.36162621037891\n",
      "Iteration 93, the loss is 49.98409078546806, parameters k is 12.699754122909635 and b is -57.361498470814965\n",
      "Iteration 94, the loss is 49.97792877615511, parameters k is 12.697227064656255 and b is -57.36133648416862\n",
      "Iteration 95, the loss is 49.97268742617597, parameters k is 12.69490008105473 and b is -57.36114305822117\n",
      "Iteration 96, the loss is 49.96822201695943, parameters k is 12.692756775235637 and b is -57.36092077064328\n",
      "Iteration 97, the loss is 49.96441057862967, parameters k is 12.69078209412846 and b is -57.36067198785365\n",
      "Iteration 98, the loss is 49.96115031407841, parameters k is 12.688962218331083 and b is -57.360398882332014\n",
      "Iteration 99, the loss is 49.958354585146594, parameters k is 12.687284461004982 and b is -57.36010344851339\n",
      "Iteration 100, the loss is 49.95595037255704, parameters k is 12.685737175056433 and b is -57.35978751737964\n",
      "Iteration 101, the loss is 49.95387613512547, parameters k is 12.684309667924637 and b is -57.35945276985519\n",
      "Iteration 102, the loss is 49.9520800054895, parameters k is 12.682992123353355 and b is -57.359100749104975\n",
      "Iteration 103, the loss is 49.950518269454435, parameters k is 12.681775529573718 and b is -57.35873287182442\n",
      "Iteration 104, the loss is 49.949154084375536, parameters k is 12.680651613372785 and b is -57.35835043860422\n",
      "Iteration 105, the loss is 49.947956399000816, parameters k is 12.67961277956548 and b is -57.35795464344565\n",
      "Iteration 106, the loss is 49.94689904310664, parameters k is 12.678652055427095 and b is -57.35754658249606\n",
      "Iteration 107, the loss is 49.94595996023598, parameters k is 12.6777630396798 and b is -57.35712726206846\n",
      "Iteration 108, the loss is 49.94512056104466, parameters k is 12.67693985565993 and b is -57.35669760600384\n",
      "Iteration 109, the loss is 49.944365178296465, parameters k is 12.676177108323452 and b is -57.356258462430155\n",
      "Iteration 110, the loss is 49.94368060752951, parameters k is 12.675469844775018 and b is -57.355810609967335\n",
      "Iteration 111, the loss is 49.94305571992607, parameters k is 12.674813518031838 and b is -57.355354763423804\n",
      "Iteration 112, the loss is 49.942481136036676, parameters k is 12.674203953757285 and b is -57.35489157902612\n",
      "Iteration 113, the loss is 49.94194895079223, parameters k is 12.673637319720822 and b is -57.35442165922004\n",
      "Iteration 114, the loss is 49.9414525017422, parameters k is 12.673110097760839 and b is -57.35394555707806\n",
      "Iteration 115, the loss is 49.94098617372414, parameters k is 12.672619058045257 and b is -57.35346378034585\n",
      "Iteration 116, the loss is 49.94054523423795, parameters k is 12.672161235441592 and b is -57.352976795156934\n",
      "Iteration 117, the loss is 49.94012569469748, parameters k is 12.671733907823613 and b is -57.352485029443045\n",
      "Iteration 118, the loss is 49.93972419349275, parameters k is 12.671334576155852 and b is -57.351988876064894\n",
      "Iteration 119, the loss is 49.93933789743445, parameters k is 12.670960946210297 and b is -57.35148869568644\n",
      "Iteration 120, the loss is 49.938964418689324, parameters k is 12.670610911781475 and b is -57.35098481941354\n",
      "Iteration 121, the loss is 49.93860174477394, parameters k is 12.670282539277139 and b is -57.350477551216365\n",
      "Iteration 122, the loss is 49.93824817955233, parameters k is 12.669974053571822 and b is -57.34996717015332\n",
      "Iteration 123, the loss is 49.93790229350866, parameters k is 12.669683825019755 and b is -57.34945393241266\n",
      "Iteration 124, the loss is 49.937562881836094, parameters k is 12.669410357532133 and b is -57.3489380731868\n",
      "Iteration 125, the loss is 49.93722892911478, parameters k is 12.669152277631511 and b is -57.34841980839304\n",
      "Iteration 126, the loss is 49.93689957954108, parameters k is 12.668908324403237 and b is -57.34789933625323\n",
      "Iteration 127, the loss is 49.936574111837324, parameters k is 12.668677340270412 and b is -57.347376838744005\n",
      "Iteration 128, the loss is 49.9362519181052, parameters k is 12.668458262524888 and b is -57.34685248292815\n",
      "Iteration 129, the loss is 49.935932486003665, parameters k is 12.668250115552338 and b is -57.34632642217686\n",
      "Iteration 130, the loss is 49.93561538372757, parameters k is 12.668052003694513 and b is -57.34579879729183\n",
      "Iteration 131, the loss is 49.935300247348415, parameters k is 12.667863104696474 and b is -57.34526973753538\n",
      "Iteration 132, the loss is 49.93498677014438, parameters k is 12.667682663690856 and b is -57.344739361576174\n",
      "Iteration 133, the loss is 49.934674693607946, parameters k is 12.667509987675144 and b is -57.34420777835739\n",
      "Iteration 134, the loss is 49.93436379986701, parameters k is 12.667344440441566 and b is -57.34367508789378\n",
      "Iteration 135, the loss is 49.93405390529724, parameters k is 12.667185437922496 and b is -57.343141382003424\n",
      "Iteration 136, the loss is 49.93374485513856, parameters k is 12.667032443917337 and b is -57.342606744979456\n",
      "Iteration 137, the loss is 49.93343651895792, parameters k is 12.666884966169595 and b is -57.342071254206765\n",
      "Iteration 138, the loss is 49.93312878682538, parameters k is 12.666742552765458 and b is -57.34153498072817\n",
      "Iteration 139, the loss is 49.932821566090894, parameters k is 12.66660478882752 and b is -57.340997989764176\n",
      "Iteration 140, the loss is 49.93251477866839, parameters k is 12.666471293479491 and b is -57.340460341190145\n",
      "Iteration 141, the loss is 49.93220835874613, parameters k is 12.666341717059638 and b is -57.33992208997435\n",
      "Iteration 142, the loss is 49.93190225085743, parameters k is 12.666215738562613 and b is -57.339383286580144\n",
      "Iteration 143, the loss is 49.931596408254414, parameters k is 12.66609306329093 and b is -57.33884397733514\n",
      "Iteration 144, the loss is 49.931290791537606, parameters k is 12.665973420698913 and b is -57.33830420477016\n",
      "Iteration 145, the loss is 49.93098536750055, parameters k is 12.665856562413346 and b is -57.33776400793042\n",
      "Iteration 146, the loss is 49.93068010815673, parameters k is 12.665742260416335 and b is -57.337223422661154\n",
      "Iteration 147, the loss is 49.93037498991856, parameters k is 12.665630305377102 and b is -57.33668248186991\n",
      "Iteration 148, the loss is 49.93006999290628, parameters k is 12.66552050512048 and b is -57.33614121576726\n",
      "Iteration 149, the loss is 49.929765100364925, parameters k is 12.665412683220941 and b is -57.335599652087886\n",
      "Iteration 150, the loss is 49.929460298173225, parameters k is 12.665306677711838 and b is -57.335057816293435\n",
      "Iteration 151, the loss is 49.9291555744295, parameters k is 12.665202339900427 and b is -57.334515731758835\n",
      "Iteration 152, the loss is 49.928850919102864, parameters k is 12.665099533280019 and b is -57.333973419943305\n",
      "Iteration 153, the loss is 49.928546323739035, parameters k is 12.664998132531272 and b is -57.33343090054737\n",
      "Iteration 154, the loss is 49.92824178121266, parameters k is 12.664898022605334 and b is -57.332888191656956\n",
      "Iteration 155, the loss is 49.92793728551818, parameters k is 12.664799097882133 and b is -57.332345309875755\n",
      "Iteration 156, the loss is 49.92763283159418, parameters k is 12.664701261397646 and b is -57.33180227044669\n",
      "Iteration 157, the loss is 49.92732841517456, parameters k is 12.66460442413449 and b is -57.33125908736341\n",
      "Iteration 158, the loss is 49.92702403266379, parameters k is 12.664508504370666 and b is -57.330715773472704\n",
      "Iteration 159, the loss is 49.92671968103138, parameters k is 12.664413427081662 and b is -57.33017234056849\n",
      "Iteration 160, the loss is 49.926415357723144, parameters k is 12.66431912339157 and b is -57.32962879947809\n",
      "Iteration 161, the loss is 49.926111060586315, parameters k is 12.664225530069169 and b is -57.32908516014144\n",
      "Iteration 162, the loss is 49.92580678780641, parameters k is 12.664132589065328 and b is -57.32854143168384\n",
      "Iteration 163, the loss is 49.92550253785373, parameters k is 12.664040247088307 and b is -57.32799762248269\n",
      "Iteration 164, the loss is 49.92519830943956, parameters k is 12.66394845521386 and b is -57.32745374022882\n",
      "Iteration 165, the loss is 49.92489410147712, parameters k is 12.66385716852731 and b is -57.326909791982715\n",
      "Iteration 166, the loss is 49.924589913050575, parameters k is 12.663766345794933 and b is -57.326365784226205\n",
      "Iteration 167, the loss is 49.924285743387834, parameters k is 12.663675949162302 and b is -57.32582172290987\n",
      "Iteration 168, the loss is 49.923981591838164, parameters k is 12.663585943877326 and b is -57.3252776134966\n",
      "Iteration 169, the loss is 49.923677457853024, parameters k is 12.663496298036003 and b is -57.32473346100154\n",
      "Iteration 170, the loss is 49.92337334096994, parameters k is 12.663406982349011 and b is -57.324189270028796\n",
      "Iteration 171, the loss is 49.92306924079899, parameters k is 12.663317969927416 and b is -57.32364504480512\n",
      "Iteration 172, the loss is 49.92276515701148, parameters k is 12.663229236085952 and b is -57.32310078921084\n",
      "Iteration 173, the loss is 49.922461089330206, parameters k is 12.66314075816242 and b is -57.32255650680825\n",
      "Iteration 174, the loss is 49.922157037521586, parameters k is 12.663052515351888 and b is -57.322012200867654\n",
      "Iteration 175, the loss is 49.92185300138854, parameters k is 12.662964488554481 and b is -57.32146787439134\n",
      "Iteration 176, the loss is 49.92154898076475, parameters k is 12.662876660235641 and b is -57.3209235301355\n",
      "Iteration 177, the loss is 49.92124497551015, parameters k is 12.662789014297847 and b is -57.32037917063043\n",
      "Iteration 178, the loss is 49.9209409855064, parameters k is 12.662701535962835 and b is -57.319834798199025\n",
      "Iteration 179, the loss is 49.92063701065378, parameters k is 12.662614211663488 and b is -57.31929041497377\n",
      "Iteration 180, the loss is 49.92033305086804, parameters k is 12.66252702894457 and b is -57.31874602291238\n",
      "Iteration 181, the loss is 49.92002910607824, parameters k is 12.662439976371607 and b is -57.31820162381209\n",
      "Iteration 182, the loss is 49.91972517622415, parameters k is 12.662353043447224 and b is -57.317657219322804\n",
      "Iteration 183, the loss is 49.91942126125515, parameters k is 12.662266220534358 and b is -57.31711281095921\n",
      "Iteration 184, the loss is 49.91911736112852, parameters k is 12.662179498785736 and b is -57.31656840011181\n",
      "Iteration 185, the loss is 49.91881347580787, parameters k is 12.66209287007916 and b is -57.31602398805715\n",
      "Iteration 186, the loss is 49.91850960526264, parameters k is 12.662006326958078 and b is -57.315479575967096\n",
      "Iteration 187, the loss is 49.91820574946703, parameters k is 12.661919862577035 and b is -57.31493516491747\n",
      "Iteration 188, the loss is 49.917901908398846, parameters k is 12.661833470651583 and b is -57.31439075589591\n",
      "Iteration 189, the loss is 49.91759808203966, parameters k is 12.661747145412317 and b is -57.313846349809054\n",
      "Iteration 190, the loss is 49.91729427037361, parameters k is 12.66166088156265 and b is -57.31330194748924\n",
      "Iteration 191, the loss is 49.916990473387216, parameters k is 12.661574674240075 and b is -57.31275754970055\n",
      "Iteration 192, the loss is 49.91668669106906, parameters k is 12.661488518980583 and b is -57.31221315714443\n",
      "Iteration 193, the loss is 49.916382923409515, parameters k is 12.66140241168601 and b is -57.311668770464806\n",
      "Iteration 194, the loss is 49.9160791704001, parameters k is 12.66131634859405 and b is -57.311124390252814\n",
      "Iteration 195, the loss is 49.91577543203379, parameters k is 12.661230326250731 and b is -57.310580017051116\n",
      "Iteration 196, the loss is 49.915471708304395, parameters k is 12.661144341485144 and b is -57.310035651357865\n",
      "Iteration 197, the loss is 49.91516799920674, parameters k is 12.661058391386252 and b is -57.30949129363037\n",
      "Iteration 198, the loss is 49.91486430473628, parameters k is 12.66097247328158 and b is -57.308946944288444\n",
      "Iteration 199, the loss is 49.91456062488896, parameters k is 12.660886584717675 and b is -57.30840260371745\n"
     ]
    }
   ],
   "source": [
    "\n",
    "    k = random.random() * 200 - 100  # -100 100\n",
    "    b = random.random() * 200 - 100  # -100 100\n",
    "\n",
    "    learning_rate = 1e-3\n",
    "\n",
    "    iteration_num = 200 \n",
    "    #记录下losses之后可以绘图\n",
    "    losses = []\n",
    "    for i in range(iteration_num):\n",
    "    \n",
    "        price_use_current_parameters = [price(r, k, b) for r in X_rm]  \n",
    "    \n",
    "        current_loss = loss(y, price_use_current_parameters)\n",
    "        losses.append(current_loss)\n",
    "        print(\"Iteration {}, the loss is {}, parameters k is {} and b is {}\".format(i,current_loss,k,b))\n",
    "    \n",
    "        k_gradient = partial_derivative_k(X_rm, y, price_use_current_parameters)\n",
    "        b_gradient = partial_derivative_b(y, price_use_current_parameters)\n",
    "    \n",
    "        k = k + (-1 * k_gradient) * learning_rate\n",
    "        b = b + (-1 * b_gradient) * learning_rate\n",
    "    best_k = k\n",
    "    best_b = b"
   ]
  },
  {
   "cell_type": "code",
   "execution_count": 105,
   "metadata": {},
   "outputs": [
    {
     "data": {
      "text/plain": [
       "<matplotlib.collections.PathCollection at 0x24c43de90f0>"
      ]
     },
     "execution_count": 105,
     "metadata": {},
     "output_type": "execute_result"
    },
    {
     "data": {
      "image/png": "[encoded data removed]",
      "text/plain": [
       "<Figure size 432x288 with 1 Axes>"
      ]
     },
     "metadata": {
      "needs_background": "light"
     },
     "output_type": "display_data"
    }
   ],
   "source": [
    "plt.scatter(X_rm,y)\n",
    "plt.scatter(X_rm,price_use_current_parameters)"
   ]
  },
  {
   "cell_type": "markdown",
   "metadata": {},
   "source": [
    "可以看出这次走上正轨了"
   ]
  },
  {
   "cell_type": "markdown",
   "metadata": {},
   "source": [
    "###### 2.1 What conditions are required to make the BFS return the optimal solution ?\n",
    "The value of the edges is positive."
   ]
  },
  {
   "cell_type": "markdown",
   "metadata": {},
   "source": [
    "##### 2.2 Is there a way to make DFS find the optimal solution ? (You may need to read some material about iterative DFS)\n",
    "Use a  depth-limited version.Details in https://en.wikipedia.org/wiki/Iterative_deepening_depth-first_search"
   ]
  },
  {
   "cell_type": "markdown",
   "metadata": {},
   "source": [
    "##### 2.3 In what conditions BFS is a better choice than DFS and vice versa ?\n",
    "If the searched node is shallow reachable after some edges from the origional source, then it is better to use BFS. On the other hand, if the searched node is deep reachable after a lot of edges from the origional source, then it is better to use DFS."
   ]
  },
  {
   "cell_type": "markdown",
   "metadata": {},
   "source": [
    "##### 2.4 When can we use machine learning ?\n",
    "When we have huge amounts of data,facing a data-driven task."
   ]
  },
  {
   "cell_type": "markdown",
   "metadata": {},
   "source": [
    "##### 2.5 What is the gradient of a function ?\n",
    "A value,so that we can do gradient descend. "
   ]
  },
  {
   "cell_type": "markdown",
   "metadata": {},
   "source": [
    "##### 2.6 How can we find the maximum value of a function using the information of gradient ?\n",
    "Do the gradient ascend to make the value of the function converge."
   ]
  },
  {
   "cell_type": "code",
   "execution_count": null,
   "metadata": {},
   "outputs": [],
   "source": []
  }
 ],
 "metadata": {
  "kernelspec": {
   "display_name": "Python 3",
   "language": "python",
   "name": "python3"
  },
  "language_info": {
   "codemirror_mode": {
    "name": "ipython",
    "version": 3
   },
   "file_extension": ".py",
   "mimetype": "text/x-python",
   "name": "python",
   "nbconvert_exporter": "python",
   "pygments_lexer": "ipython3",
   "version": "3.6.8"
  }
 },
 "nbformat": 4,
 "nbformat_minor": 2
}
