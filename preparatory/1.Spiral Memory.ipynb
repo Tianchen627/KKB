{
 "cells": [
  {
   "cell_type": "markdown",
   "metadata": {},
   "source": [
    "# 1.Spiral Memory "
   ]
  },
  {
   "cell_type": "raw",
   "metadata": {},
   "source": [
    "37  36  35  34  33  32  31            \n",
    "38  17  16  15  14  13  30\n",
    "39  18  05  04  03  12  29\n",
    "40  19  06  01  02  11  28\n",
    "41  20  07  08  09  10  27\n",
    "42  21  22  23  24  25  26\n",
    "43  44  45  46  47  48  49 ..."
   ]
  },
  {
   "cell_type": "markdown",
   "metadata": {},
   "source": [
    "题目给定上面这样的一个螺旋内存，要求找从原点01到指定位置的最短步数(曼哈顿距离)，比如到12需要三步(右右上)，23需要两步(下下)"
   ]
  },
  {
   "cell_type": "markdown",
   "metadata": {},
   "source": [
    "从中观察到几个性质:\n",
    "\n",
    "#### 1.我们可以对数字x开方求出该数字在第几层(这里我们设01为原点第0层，周围3x3的范围为第1层，5x5的范围为第2层，(2n+1)x(2n+1)的范围为第n层)。从原点出发到达第n层需要n步。\n",
    "\n",
    "#### 2.第n层形成的矩形，以右，上，左，下的位置顺序四条边上的数字递增，也就是说我们可以计算出右上左下四条边的中心数m0,m1,m2,m3以及数字x在哪条边上。\n",
    "\n",
    "#### 3.问题可以抽象为，对于输入数字x我们首先求得x在第几层的哪条边上，再求出x离开该边中心数字的距离d。那所求x离开原点的曼哈顿距离:\n",
    "\n",
    "### D=n+d"
   ]
  },
  {
   "cell_type": "code",
   "execution_count": 1,
   "metadata": {},
   "outputs": [],
   "source": [
    "import math"
   ]
  },
  {
   "cell_type": "code",
   "execution_count": 2,
   "metadata": {},
   "outputs": [],
   "source": [
    "#求出x在第几层，输入数字x，返回层数n\n",
    "def layer(x):\n",
    "    m=math.ceil(math.sqrt(x)) #ceil向上取整，这步求出x是在m x m的范围内。如果m为偶数的话需要+1\n",
    "    if m%2==0:\n",
    "        m+=1\n",
    "    n=math.floor((m-1)/2)           #floor下取整，m=2n+1,层数n=(m-1)/2\n",
    "    return n"
   ]
  },
  {
   "cell_type": "code",
   "execution_count": 3,
   "metadata": {},
   "outputs": [
    {
     "data": {
      "text/plain": [
       "2"
      ]
     },
     "execution_count": 3,
     "metadata": {},
     "output_type": "execute_result"
    }
   ],
   "source": [
    "#12在第二层\n",
    "layer(12)"
   ]
  },
  {
   "cell_type": "code",
   "execution_count": 4,
   "metadata": {},
   "outputs": [
    {
     "data": {
      "text/plain": [
       "2"
      ]
     },
     "execution_count": 4,
     "metadata": {},
     "output_type": "execute_result"
    }
   ],
   "source": [
    "#23在第二层\n",
    "layer(24)"
   ]
  },
  {
   "cell_type": "code",
   "execution_count": 5,
   "metadata": {},
   "outputs": [],
   "source": [
    "#求出x在哪条边,输入数字x，返回0代表右边，1代表上边，2代表左边，3代表下边。\n",
    "#找到第n层形成的矩阵四个角上的数字就可以判断x在哪条边上。右上角数字是(2*n-1)**2+2*n，之后逆时针每个角上的数字+2*n。\n",
    "def side(x):\n",
    "    n=layer(x)\n",
    "    if x==(2*n+1)**2 or x<=(2*n-1)**2+2*n:          \n",
    "        return 0\n",
    "    if x>(2*n-1)**2+2*n and x<=(2*n-1)**2+4*n:\n",
    "        return 1    \n",
    "    if x>(2*n-1)**2+4*n and x<=(2*n-1)**2+6*n:\n",
    "        return 2   \n",
    "    if x>(2*n-1)**2+6*n and x<=(2*n-1)**2+8*n:\n",
    "        return 3    "
   ]
  },
  {
   "cell_type": "code",
   "execution_count": 6,
   "metadata": {},
   "outputs": [
    {
     "data": {
      "text/plain": [
       "0"
      ]
     },
     "execution_count": 6,
     "metadata": {},
     "output_type": "execute_result"
    }
   ],
   "source": [
    "#12在右边\n",
    "side(12)"
   ]
  },
  {
   "cell_type": "code",
   "execution_count": 7,
   "metadata": {},
   "outputs": [
    {
     "data": {
      "text/plain": [
       "3"
      ]
     },
     "execution_count": 7,
     "metadata": {},
     "output_type": "execute_result"
    }
   ],
   "source": [
    "#23在下边\n",
    "side(23)"
   ]
  },
  {
   "cell_type": "code",
   "execution_count": 8,
   "metadata": {},
   "outputs": [],
   "source": [
    "#求出第n层形成的矩形每条边的中间数，输入层数n，返回列表m,m[0]为右边中间数，m[1]上边中间数，m[2]左边中间数，m[3]下边中间数\n",
    "def middle(n):\n",
    "    m = [0 for i in range(4)]\n",
    "    m[0]=(2*n-1)**2+n\n",
    "    m[1]=(2*n-1)**2+n+2*n\n",
    "    m[2]=(2*n-1)**2+n+2*(2*n)\n",
    "    m[3]=(2*n-1)**2+n+3*(2*n)\n",
    "    return m"
   ]
  },
  {
   "cell_type": "code",
   "execution_count": 9,
   "metadata": {},
   "outputs": [
    {
     "data": {
      "text/plain": [
       "[11, 15, 19, 23]"
      ]
     },
     "execution_count": 9,
     "metadata": {},
     "output_type": "execute_result"
    }
   ],
   "source": [
    "#第2层形成的矩形每条边的中间数\n",
    "middle(2)"
   ]
  },
  {
   "cell_type": "code",
   "execution_count": 10,
   "metadata": {},
   "outputs": [
    {
     "data": {
      "text/plain": [
       "[28, 34, 40, 46]"
      ]
     },
     "execution_count": 10,
     "metadata": {},
     "output_type": "execute_result"
    }
   ],
   "source": [
    "#第3层形成的矩形每条边的中间数\n",
    "middle(3)"
   ]
  },
  {
   "cell_type": "markdown",
   "metadata": {},
   "source": [
    "现在我们整理一下上面几个函数，求出x离开所在边中心的距离d"
   ]
  },
  {
   "cell_type": "code",
   "execution_count": 11,
   "metadata": {},
   "outputs": [],
   "source": [
    "#求出d，输入x，返回d。\n",
    "def get_d(x):\n",
    "    n=layer(x)\n",
    "    d=abs(middle(n)[side(x)]-x)\n",
    "    return d"
   ]
  },
  {
   "cell_type": "code",
   "execution_count": 12,
   "metadata": {},
   "outputs": [
    {
     "data": {
      "text/plain": [
       "1"
      ]
     },
     "execution_count": 12,
     "metadata": {},
     "output_type": "execute_result"
    }
   ],
   "source": [
    "#12离开中心数字的距离为1\n",
    "get_d(12)"
   ]
  },
  {
   "cell_type": "code",
   "execution_count": 13,
   "metadata": {},
   "outputs": [
    {
     "data": {
      "text/plain": [
       "0"
      ]
     },
     "execution_count": 13,
     "metadata": {},
     "output_type": "execute_result"
    }
   ],
   "source": [
    "#23离开中心数字的距离为0\n",
    "get_d(23)"
   ]
  },
  {
   "cell_type": "code",
   "execution_count": 14,
   "metadata": {},
   "outputs": [],
   "source": [
    "x=23"
   ]
  },
  {
   "cell_type": "code",
   "execution_count": 15,
   "metadata": {},
   "outputs": [
    {
     "name": "stdout",
     "output_type": "stream",
     "text": [
      "2\n"
     ]
    }
   ],
   "source": [
    "n=layer(x) \n",
    "print(n)"
   ]
  },
  {
   "cell_type": "code",
   "execution_count": 16,
   "metadata": {},
   "outputs": [
    {
     "name": "stdout",
     "output_type": "stream",
     "text": [
      "[11, 15, 19, 23]\n"
     ]
    }
   ],
   "source": [
    "print(middle(n))"
   ]
  },
  {
   "cell_type": "code",
   "execution_count": 17,
   "metadata": {},
   "outputs": [
    {
     "name": "stdout",
     "output_type": "stream",
     "text": [
      "3\n"
     ]
    }
   ],
   "source": [
    "print(side(x))"
   ]
  },
  {
   "cell_type": "markdown",
   "metadata": {},
   "source": [
    "### 好了现在我们可以求曼哈顿距离了"
   ]
  },
  {
   "cell_type": "code",
   "execution_count": 18,
   "metadata": {},
   "outputs": [],
   "source": [
    "def solution(x):\n",
    "    n=layer(x)\n",
    "    d=get_d(x)\n",
    "    D=n+d\n",
    "    return D"
   ]
  },
  {
   "cell_type": "code",
   "execution_count": 19,
   "metadata": {},
   "outputs": [
    {
     "data": {
      "text/plain": [
       "3"
      ]
     },
     "execution_count": 19,
     "metadata": {},
     "output_type": "execute_result"
    }
   ],
   "source": [
    "solution(12)"
   ]
  },
  {
   "cell_type": "code",
   "execution_count": 20,
   "metadata": {},
   "outputs": [
    {
     "data": {
      "text/plain": [
       "2"
      ]
     },
     "execution_count": 20,
     "metadata": {},
     "output_type": "execute_result"
    }
   ],
   "source": [
    "solution(23)"
   ]
  },
  {
   "cell_type": "code",
   "execution_count": 21,
   "metadata": {},
   "outputs": [
    {
     "data": {
      "text/plain": [
       "31"
      ]
     },
     "execution_count": 21,
     "metadata": {},
     "output_type": "execute_result"
    }
   ],
   "source": [
    "solution(1024)"
   ]
  },
  {
   "cell_type": "code",
   "execution_count": 22,
   "metadata": {},
   "outputs": [
    {
     "data": {
      "text/plain": [
       "173"
      ]
     },
     "execution_count": 22,
     "metadata": {},
     "output_type": "execute_result"
    }
   ],
   "source": [
    "solution(100000)"
   ]
  },
  {
   "cell_type": "code",
   "execution_count": 23,
   "metadata": {},
   "outputs": [
    {
     "data": {
      "text/plain": [
       "1347"
      ]
     },
     "execution_count": 23,
     "metadata": {},
     "output_type": "execute_result"
    }
   ],
   "source": [
    "solution(2345678)"
   ]
  },
  {
   "cell_type": "code",
   "execution_count": 24,
   "metadata": {},
   "outputs": [
    {
     "data": {
      "text/plain": [
       "0"
      ]
     },
     "execution_count": 24,
     "metadata": {},
     "output_type": "execute_result"
    }
   ],
   "source": [
    "solution(1)"
   ]
  },
  {
   "cell_type": "code",
   "execution_count": null,
   "metadata": {},
   "outputs": [],
   "source": []
  }
 ],
 "metadata": {
  "kernelspec": {
   "display_name": "Python 3",
   "language": "python",
   "name": "python3"
  },
  "language_info": {
   "codemirror_mode": {
    "name": "ipython",
    "version": 3
   },
   "file_extension": ".py",
   "mimetype": "text/x-python",
   "name": "python",
   "nbconvert_exporter": "python",
   "pygments_lexer": "ipython3",
   "version": "3.6.8"
  }
 },
 "nbformat": 4,
 "nbformat_minor": 2
}
