{
 "cells": [
  {
   "cell_type": "markdown",
   "metadata": {},
   "source": [
    "# 3.Random Chinese Sentence Generator\n"
   ]
  },
  {
   "cell_type": "markdown",
   "metadata": {},
   "source": [
    "Writing a programming which could generate random Chinese sentences based on one grammar. "
   ]
  },
  {
   "cell_type": "raw",
   "metadata": {},
   "source": [
    "Your input grammar is:\tsimple_grammar = \n",
    "\"\"\" \n",
    "sentence => noun_phrase verb_phrase \n",
    "noun_phrase => Article Adj* noun \n",
    "Adj* => null | Adj Adj* \n",
    "verb_phrase => verb noun_phrase \n",
    "Article =>  一个 | 这个 \n",
    "noun =>   女人 |  篮球 | 桌子 | 小猫 \n",
    "verb => 看着 | 听着 | 看见 \n",
    "Adj =>   蓝色的 |  好看的 | 小小的 |  年轻的\n",
    "\"\"\" "
   ]
  },
  {
   "cell_type": "markdown",
   "metadata": {},
   "source": [
    "这个题目的输入应该不是直接为了python设计的，所以把simple_grammar中的每一项分开。事实上如果输入是string的话用split和join也能转换为列表。"
   ]
  },
  {
   "cell_type": "code",
   "execution_count": 25,
   "metadata": {},
   "outputs": [],
   "source": [
    "Article=['一个','这个']\n",
    "noun=['女人','篮球','桌子','小猫']\n",
    "verb=['看着','听着','看见']\n",
    "Adj=['蓝色的','好看的','小小的','年轻的']\n",
    "noun_phrase=[Article,Adj,noun]\n",
    "verb_phrase=[verb,noun_phrase]\n",
    "sentence=[noun_phrase,verb_phrase]"
   ]
  },
  {
   "cell_type": "code",
   "execution_count": 26,
   "metadata": {},
   "outputs": [],
   "source": [
    "import random"
   ]
  },
  {
   "cell_type": "code",
   "execution_count": 36,
   "metadata": {},
   "outputs": [],
   "source": [
    "def generate(sentence):\n",
    "    a=\"\"\n",
    "    for phrase in sentence:\n",
    "        for item in phrase:   \n",
    "            if type(item[0])==str:           #因为verb_phrase当中又包含了noun_phrase\n",
    "                a+=random.choice(item)\n",
    "                print(a)\n",
    "            else:\n",
    "                for i in item:\n",
    "                    a+=random.choice(i)\n",
    "                    print(a)\n"
   ]
  },
  {
   "cell_type": "code",
   "execution_count": 37,
   "metadata": {},
   "outputs": [
    {
     "name": "stdout",
     "output_type": "stream",
     "text": [
      "一个\n",
      "一个好看的\n",
      "一个好看的女人\n",
      "一个好看的女人听着\n",
      "一个好看的女人听着这个\n",
      "一个好看的女人听着这个好看的\n",
      "一个好看的女人听着这个好看的小猫\n"
     ]
    }
   ],
   "source": [
    "generate(sentence)"
   ]
  },
  {
   "cell_type": "code",
   "execution_count": 38,
   "metadata": {},
   "outputs": [
    {
     "name": "stdout",
     "output_type": "stream",
     "text": [
      "一个\n",
      "一个好看的\n",
      "一个好看的篮球\n",
      "一个好看的篮球看见\n",
      "一个好看的篮球看见这个\n",
      "一个好看的篮球看见这个年轻的\n",
      "一个好看的篮球看见这个年轻的女人\n"
     ]
    }
   ],
   "source": [
    "generate(sentence)"
   ]
  },
  {
   "cell_type": "code",
   "execution_count": 39,
   "metadata": {},
   "outputs": [
    {
     "name": "stdout",
     "output_type": "stream",
     "text": [
      "这个\n",
      "这个蓝色的\n",
      "这个蓝色的女人\n",
      "这个蓝色的女人听着\n",
      "这个蓝色的女人听着这个\n",
      "这个蓝色的女人听着这个年轻的\n",
      "这个蓝色的女人听着这个年轻的篮球\n"
     ]
    }
   ],
   "source": [
    "generate(sentence)"
   ]
  },
  {
   "cell_type": "markdown",
   "metadata": {},
   "source": [
    "写完之后才发现，给的simple_grammar看起来像邻接表~可能题目本意是用图遍历算法找到根节点后把路径打印出来把。"
   ]
  },
  {
   "cell_type": "code",
   "execution_count": null,
   "metadata": {},
   "outputs": [],
   "source": []
  }
 ],
 "metadata": {
  "kernelspec": {
   "display_name": "Python 3",
   "language": "python",
   "name": "python3"
  },
  "language_info": {
   "codemirror_mode": {
    "name": "ipython",
    "version": 3
   },
   "file_extension": ".py",
   "mimetype": "text/x-python",
   "name": "python",
   "nbconvert_exporter": "python",
   "pygments_lexer": "ipython3",
   "version": "3.6.8"
  }
 },
 "nbformat": 4,
 "nbformat_minor": 2
}
