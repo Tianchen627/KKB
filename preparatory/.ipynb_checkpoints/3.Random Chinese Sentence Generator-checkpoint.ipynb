{
 "cells": [
  {
   "cell_type": "markdown",
   "metadata": {},
   "source": [
    "# 3.Random Chinese Sentence Generator\n"
   ]
  },
  {
   "cell_type": "markdown",
   "metadata": {},
   "source": [
    "Writing a programming which could generate random Chinese sentences based on one grammar. "
   ]
  },
  {
   "cell_type": "raw",
   "metadata": {},
   "source": [
    "Your input grammar is:\tsimple_grammar = \n",
    "\"\"\" \n",
    "sentence => noun_phrase verb_phrase \n",
    "noun_phrase => Article Adj* noun \n",
    "Adj* => null | Adj Adj* \n",
    "verb_phrase => verb noun_phrase \n",
    "Article =>  一个 | 这个 \n",
    "noun =>   女人 |  篮球 | 桌子 | 小猫 \n",
    "verb => 看着 | 听着 | 看见 \n",
    "Adj =>   蓝色的 |  好看的 | 小小的 |  年轻的\n",
    "\"\"\" "
   ]
  },
  {
   "cell_type": "code",
   "execution_count": 1,
   "metadata": {},
   "outputs": [],
   "source": [
    "simple_grammar = \"\"\"\n",
    "sentence => noun_phrase verb_phrase\n",
    "noun_phrase => Article Adj* noun\n",
    "Adj* => null | Adj Adj*\n",
    "verb_phrase => verb noun_phrase\n",
    "Article =>  一个 | 这个 \n",
    "noun =>   女人 |  篮球 | 桌子 | 小猫 \n",
    "verb => 看着 | 听着 | 看见 \n",
    "Adj =>   蓝色的 |  好看的 | 小小的 |  年轻的\"\"\""
   ]
  },
  {
   "cell_type": "markdown",
   "metadata": {},
   "source": [
    "首先我们先想办法把规则提取出来，可以将字符串中每个=>左边的映射到key，右边映射到value。"
   ]
  },
  {
   "cell_type": "code",
   "execution_count": 2,
   "metadata": {},
   "outputs": [],
   "source": [
    "#输入题目要求的字符串，提取规则返回字典。这里传入的参数还有输入字符串中划分statement和expression、expression之间分隔符。\n",
    "def map(simple_grammar,stmt_split='=>', or_split='|'):\n",
    "    rules = dict() # key is the @statement, value is @expression\n",
    "    for line in simple_grammar.split('\\n'):\n",
    "        if not line: \n",
    "            continue   # skip the empty line\n",
    "        #print(line)\n",
    "        stmt, expr = line.split(stmt_split)\n",
    "        expr=expr.replace('null',' ')    #不替换成空，为了下一行split可以分开，空格之后可以处理掉。其实这里null后面本来就有空格\n",
    "        #print(expr)\n",
    "        rules[stmt.strip()] = expr.split(or_split)\n",
    "    return rules"
   ]
  },
  {
   "cell_type": "code",
   "execution_count": 3,
   "metadata": {},
   "outputs": [
    {
     "name": "stdout",
     "output_type": "stream",
     "text": [
      "{'sentence': [' noun_phrase verb_phrase'], 'noun_phrase': [' Article Adj* noun'], 'Adj*': ['   ', ' Adj Adj*'], 'verb_phrase': [' verb noun_phrase'], 'Article': ['  一个 ', ' 这个 '], 'noun': ['   女人 ', '  篮球 ', ' 桌子 ', ' 小猫 '], 'verb': [' 看着 ', ' 听着 ', ' 看见 '], 'Adj': ['   蓝色的 ', '  好看的 ', ' 小小的 ', '  年轻的']}\n"
     ]
    }
   ],
   "source": [
    "print(map(simple_grammar))"
   ]
  },
  {
   "cell_type": "markdown",
   "metadata": {},
   "source": [
    "这里可以看到rules里有很多空格，我们会在下一步中去除这些空格。因为去除空格需要遍历列表中每一个字符串，而下一步的确也会这么做所以届时去除就可以了。"
   ]
  },
  {
   "cell_type": "markdown",
   "metadata": {},
   "source": [
    "下一步就是根据提取出的rules，生成句子。可以看到Adj* 中也包含了 Adj* ，所以这个生成显然是递归完成的。"
   ]
  },
  {
   "cell_type": "markdown",
   "metadata": {},
   "source": [
    "#### 递归边界可以设计为当输入不再是statement而是需要生成的字符串。(target not in rules,即target是'一个'，'小猫'这类而不是'noun_phrase','verb_phrase'这类)"
   ]
  },
  {
   "cell_type": "code",
   "execution_count": 4,
   "metadata": {},
   "outputs": [],
   "source": [
    "import random\n",
    "rules=map(simple_grammar)\n",
    "global i,j                             #添加调用计数，追踪递归过程\n",
    "i=1\n",
    "j=1\n",
    "def generate(rules,target='sentence',trace=1):#trace代表是否追踪生成过程\n",
    "    global i,j\n",
    "    if target in rules:                       #rules.key=statement，target是'noun_phrase'这类时\n",
    "        candidates = rules[target]            #candidates=rules['noun_phrase']=[' Article Adj* noun']\n",
    "        candidate = random.choice(candidates) #candidate还是[' Article Adj* noun']，因为这个列表就这一个元素\n",
    "        if trace==1:\n",
    "            print('调用函数第%d次，target=%s，candidate=%s'%(i,target,candidate))\n",
    "        i+=1        \n",
    "        return ''.join(generate(rules, target=c.strip(),trace=trace) for c in candidate.split())  #candidate.split分出c=Articl。c.strip()把每个expression中的空格去除\n",
    "    else:                                 #target是'小猫'这类时，为递归边界直接返回target\n",
    "        if trace==1:\n",
    "            print('调用函数第%d次，target=%s，达到递归边界得到生成的第%d个词---------------------我是分割线----------------------'%(i,target,j))\n",
    "        i+=1\n",
    "        j+=1\n",
    "        return target"
   ]
  },
  {
   "cell_type": "code",
   "execution_count": 5,
   "metadata": {},
   "outputs": [
    {
     "data": {
      "text/plain": [
       "'一个年轻的好看的女人看见这个女人'"
      ]
     },
     "execution_count": 5,
     "metadata": {},
     "output_type": "execute_result"
    }
   ],
   "source": [
    "generate(rules, target='sentence',trace=0)"
   ]
  },
  {
   "cell_type": "code",
   "execution_count": 6,
   "metadata": {},
   "outputs": [],
   "source": [
    "#封装一下\n",
    "def solution(simple_grammar,target='sentence',stmt_split='=>', or_split='|',trace=1):\n",
    "    rules=map(simple_grammar,stmt_split=stmt_split, or_split=or_split)              #提取规则\n",
    "    global i,j                             \n",
    "    i=1\n",
    "    j=1\n",
    "    o=generate(rules, target=target,trace=trace)   #递归生成句子\n",
    "    print(o)"
   ]
  },
  {
   "cell_type": "code",
   "execution_count": 7,
   "metadata": {},
   "outputs": [
    {
     "name": "stdout",
     "output_type": "stream",
     "text": [
      "调用函数第1次，target=sentence，candidate= noun_phrase verb_phrase\n",
      "调用函数第2次，target=noun_phrase，candidate= Article Adj* noun\n",
      "调用函数第3次，target=Article，candidate= 这个 \n",
      "调用函数第4次，target=这个，达到递归边界得到生成的第1个词---------------------我是分割线----------------------\n",
      "调用函数第5次，target=Adj*，candidate= Adj Adj*\n",
      "调用函数第6次，target=Adj，candidate= 小小的 \n",
      "调用函数第7次，target=小小的，达到递归边界得到生成的第2个词---------------------我是分割线----------------------\n",
      "调用函数第8次，target=Adj*，candidate= Adj Adj*\n",
      "调用函数第9次，target=Adj，candidate= 小小的 \n",
      "调用函数第10次，target=小小的，达到递归边界得到生成的第3个词---------------------我是分割线----------------------\n",
      "调用函数第11次，target=Adj*，candidate= Adj Adj*\n",
      "调用函数第12次，target=Adj，candidate=   蓝色的 \n",
      "调用函数第13次，target=蓝色的，达到递归边界得到生成的第4个词---------------------我是分割线----------------------\n",
      "调用函数第14次，target=Adj*，candidate=   \n",
      "调用函数第15次，target=noun，candidate=   女人 \n",
      "调用函数第16次，target=女人，达到递归边界得到生成的第5个词---------------------我是分割线----------------------\n",
      "调用函数第17次，target=verb_phrase，candidate= verb noun_phrase\n",
      "调用函数第18次，target=verb，candidate= 听着 \n",
      "调用函数第19次，target=听着，达到递归边界得到生成的第6个词---------------------我是分割线----------------------\n",
      "调用函数第20次，target=noun_phrase，candidate= Article Adj* noun\n",
      "调用函数第21次，target=Article，candidate= 这个 \n",
      "调用函数第22次，target=这个，达到递归边界得到生成的第7个词---------------------我是分割线----------------------\n",
      "调用函数第23次，target=Adj*，candidate= Adj Adj*\n",
      "调用函数第24次，target=Adj，candidate=  年轻的\n",
      "调用函数第25次，target=年轻的，达到递归边界得到生成的第8个词---------------------我是分割线----------------------\n",
      "调用函数第26次，target=Adj*，candidate= Adj Adj*\n",
      "调用函数第27次，target=Adj，candidate=  年轻的\n",
      "调用函数第28次，target=年轻的，达到递归边界得到生成的第9个词---------------------我是分割线----------------------\n",
      "调用函数第29次，target=Adj*，candidate=   \n",
      "调用函数第30次，target=noun，candidate= 桌子 \n",
      "调用函数第31次，target=桌子，达到递归边界得到生成的第10个词---------------------我是分割线----------------------\n",
      "这个小小的小小的蓝色的女人听着这个年轻的年轻的桌子\n"
     ]
    }
   ],
   "source": [
    "solution(simple_grammar)"
   ]
  },
  {
   "cell_type": "code",
   "execution_count": 8,
   "metadata": {},
   "outputs": [
    {
     "name": "stdout",
     "output_type": "stream",
     "text": [
      "一个女人听着这个篮球\n"
     ]
    }
   ],
   "source": [
    "solution(simple_grammar,trace=0)"
   ]
  },
  {
   "cell_type": "code",
   "execution_count": 9,
   "metadata": {},
   "outputs": [
    {
     "name": "stdout",
     "output_type": "stream",
     "text": [
      "调用函数第1次，target=sentence，candidate= noun_phrase verb_phrase\n",
      "调用函数第2次，target=noun_phrase，candidate= Article Adj* noun\n",
      "调用函数第3次，target=Article，candidate=  一个 \n",
      "调用函数第4次，target=一个，达到递归边界得到生成的第1个词---------------------我是分割线----------------------\n",
      "调用函数第5次，target=Adj*，candidate= Adj Adj*\n",
      "调用函数第6次，target=Adj，candidate=  年轻的\n",
      "调用函数第7次，target=年轻的，达到递归边界得到生成的第2个词---------------------我是分割线----------------------\n",
      "调用函数第8次，target=Adj*，candidate= Adj Adj*\n",
      "调用函数第9次，target=Adj，candidate= 小小的 \n",
      "调用函数第10次，target=小小的，达到递归边界得到生成的第3个词---------------------我是分割线----------------------\n",
      "调用函数第11次，target=Adj*，candidate=   \n",
      "调用函数第12次，target=noun，candidate= 桌子 \n",
      "调用函数第13次，target=桌子，达到递归边界得到生成的第4个词---------------------我是分割线----------------------\n",
      "调用函数第14次，target=verb_phrase，candidate= verb noun_phrase\n",
      "调用函数第15次，target=verb，candidate= 听着 \n",
      "调用函数第16次，target=听着，达到递归边界得到生成的第5个词---------------------我是分割线----------------------\n",
      "调用函数第17次，target=noun_phrase，candidate= Article Adj* noun\n",
      "调用函数第18次，target=Article，candidate=  一个 \n",
      "调用函数第19次，target=一个，达到递归边界得到生成的第6个词---------------------我是分割线----------------------\n",
      "调用函数第20次，target=Adj*，candidate=   \n",
      "调用函数第21次，target=noun，candidate= 桌子 \n",
      "调用函数第22次，target=桌子，达到递归边界得到生成的第7个词---------------------我是分割线----------------------\n",
      "一个年轻的小小的桌子听着一个桌子\n"
     ]
    }
   ],
   "source": [
    "solution(simple_grammar)"
   ]
  },
  {
   "cell_type": "markdown",
   "metadata": {},
   "source": [
    "再来一个好玩的生成代码。"
   ]
  },
  {
   "cell_type": "code",
   "execution_count": 10,
   "metadata": {},
   "outputs": [],
   "source": [
    "simpel_programming = '''\n",
    "if_stmt => if ( cond ) { stmt }\n",
    "cond => var op var\n",
    "op => | == | < | >= | <= \n",
    "stmt => assign | if_stmt\n",
    "assign => var = var\n",
    "var =>  char var | char\n",
    "char => a | b |  c | d | 0 | 1 | 2 | 3\n",
    "'''"
   ]
  },
  {
   "cell_type": "code",
   "execution_count": 11,
   "metadata": {},
   "outputs": [
    {
     "name": "stdout",
     "output_type": "stream",
     "text": [
      "if(cd3>=c3){if(3101<0){d=1d}}\n",
      "if(3ac){a=0}\n",
      "if(22310){3bd=cb}\n",
      "if(13){2300=c}\n",
      "if(cb2){2=a2d}\n",
      "if(d<=2){if(b2==d){b=a}}\n",
      "if(2a0db){d10c0=22}\n",
      "if(b02ccb){2=b}\n",
      "if(3<=bd){2=a}\n",
      "if(a>=a){000=3}\n",
      "if(20==103ab){accd030=3}\n"
     ]
    }
   ],
   "source": [
    "for i in range(11):\n",
    "    solution(simpel_programming, target='if_stmt', stmt_split='=>',trace=0) #trace=0关闭追踪"
   ]
  },
  {
   "cell_type": "code",
   "execution_count": null,
   "metadata": {},
   "outputs": [],
   "source": []
  }
 ],
 "metadata": {
  "kernelspec": {
   "display_name": "Python 3",
   "language": "python",
   "name": "python3"
  },
  "language_info": {
   "codemirror_mode": {
    "name": "ipython",
    "version": 3
   },
   "file_extension": ".py",
   "mimetype": "text/x-python",
   "name": "python",
   "nbconvert_exporter": "python",
   "pygments_lexer": "ipython3",
   "version": "3.6.8"
  }
 },
 "nbformat": 4,
 "nbformat_minor": 2
}
