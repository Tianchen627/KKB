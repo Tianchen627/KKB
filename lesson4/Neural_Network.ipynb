{
 "cells": [
  {
   "cell_type": "markdown",
   "metadata": {},
   "source": [
    "先过一下理论，随后整理代码"
   ]
  },
  {
   "cell_type": "markdown",
   "metadata": {},
   "source": [
    "#### 1. What does a neuron compute?\n",
    "Within an artificial neural network, a neuron is a mathematical function that model the functioning of a biological neuron. Typically, a neuron compute the weighted average of its input, and this sum is passed through a nonlinear function, often called activation function.\n",
    "\n",
    "A hidden layer maps input features to  new features,which are computed by neurons that one neuron output/represent one new feature."
   ]
  },
  {
   "cell_type": "markdown",
   "metadata": {},
   "source": [
    "####  2. Why we use non-linear activation funcitons in neural networks?\n",
    "Non-linear functions address the problems of a linear activation function: They allow backpropagation because they have a derivative function which is related to the inputs. They allow “stacking” of multiple layers of neurons to create a deep neural network.\n",
    "\n",
    "Without non-linear activation funciton,no matter how deep the network is,it's the same as one layer on account of “stacking”."
   ]
  },
  {
   "cell_type": "markdown",
   "metadata": {},
   "source": [
    "#### 3. What is the 'Logistic Loss' ?\n",
    "\n",
    " The loss function of logistic regression is doing this exactly which is called Logistic Loss.\n",
    " \n",
    "$$L(\\hat{y} ,y) = -y log(\\hat{y})-(1-y)log(1-\\hat{y})$$\n",
    "$\\hat{y}$ is the predicted value and y is the label value.\n",
    "Intuitively, we want to assign more punishment when predicting 1 while the actual is 0 and when predict 0 while the actual is 1."
   ]
  },
  {
   "cell_type": "markdown",
   "metadata": {},
   "source": [
    "#### 4. Assume that you are building a binary classifier for detecting if an image containing cats, which activation functions would you recommen using for the output layer ?\n",
    "\n",
    "A. ReLU    \n",
    "\n",
    "B. Leaky ReLU  \n",
    "\n",
    "C. sigmoid         ✔ \n",
    "\n",
    "D. tanh  "
   ]
  },
  {
   "cell_type": "markdown",
   "metadata": {},
   "source": [
    "#### 5. Why we don't use zero initialization for all parameters ?\n",
    "If you initialize all weights with zeros,then every hidden unit will get zero independent of the input. So, when all the hidden neurons start with the zero weights, then all of them will follow the same gradient and for this reason \"it affects only the scale of the weight vector, not the direction\".\n",
    "\n",
    "Initializing all weights with a same value doesn't work,either."
   ]
  },
  {
   "cell_type": "markdown",
   "metadata": {},
   "source": [
    "#### 6. Can you implement the softmax function using python ? \n",
    "Sure,let's go."
   ]
  },
  {
   "cell_type": "markdown",
   "metadata": {},
   "source": [
    "# 先看下我们使用到的数据集"
   ]
  },
  {
   "cell_type": "code",
   "execution_count": 2,
   "metadata": {},
   "outputs": [],
   "source": [
    "from sklearn import datasets\n",
    "import matplotlib.pyplot as plt\n",
    "from sklearn.model_selection import train_test_split\n",
    "digits = datasets.load_digits()"
   ]
  },
  {
   "cell_type": "code",
   "execution_count": 4,
   "metadata": {},
   "outputs": [
    {
     "data": {
      "text/plain": [
       "(1797, 64)"
      ]
     },
     "execution_count": 4,
     "metadata": {},
     "output_type": "execute_result"
    }
   ],
   "source": [
    "#1797个样本，每个样本8x8的像素\n",
    "digits.data.shape"
   ]
  },
  {
   "cell_type": "code",
   "execution_count": 5,
   "metadata": {},
   "outputs": [
    {
     "data": {
      "text/plain": [
       "(1797,)"
      ]
     },
     "execution_count": 5,
     "metadata": {},
     "output_type": "execute_result"
    }
   ],
   "source": [
    "#这里存的是样本的label\n",
    "digits.target.shape"
   ]
  },
  {
   "cell_type": "code",
   "execution_count": 15,
   "metadata": {},
   "outputs": [
    {
     "data": {
      "image/png": "[encoded data removed]",
      "text/plain": [
       "<Figure size 432x288 with 10 Axes>"
      ]
     },
     "metadata": {},
     "output_type": "display_data"
    }
   ],
   "source": [
    "for i in range(1,11):\n",
    "    plt.subplot(2,5,i)\n",
    "    #数据集前9个数据正好是1~9\n",
    "    plt.imshow(digits.data[i-1].reshape([8,8]),cmap=plt.cm.gray_r)\n",
    "    #（3，10）为文本位置的坐标。每个框的左上角是（0，0），下边框是8因为像素是8x8\n",
    "    plt.text(3,10,str(digits.target[i-1]))\n",
    "    #关闭坐标轴刻度\n",
    "    plt.xticks([])\n",
    "    plt.yticks([])\n",
    "plt.show()"
   ]
  },
  {
   "cell_type": "code",
   "execution_count": 23,
   "metadata": {},
   "outputs": [
    {
     "name": "stdout",
     "output_type": "stream",
     "text": [
      "(1347, 64)\n",
      "(450, 64)\n",
      "(1347,)\n",
      "(450,)\n"
     ]
    }
   ],
   "source": [
    "X_train, X_test, y_train, y_test = train_test_split(digits.data, digits.target, test_size=0.25)\n",
    "print(X_train.shape)\n",
    "print(X_test.shape)\n",
    "print(y_train.shape)\n",
    "print(y_test.shape)"
   ]
  },
  {
   "cell_type": "markdown",
   "metadata": {},
   "source": [
    "# 接下来是几种运算的正向传播和反向传播"
   ]
  },
  {
   "cell_type": "markdown",
   "metadata": {},
   "source": [
    "## linear/affine"
   ]
  },
  {
   "cell_type": "markdown",
   "metadata": {},
   "source": [
    "### 正向"
   ]
  },
  {
   "cell_type": "markdown",
   "metadata": {},
   "source": [
    " $$ z = w^T * x +b $$ "
   ]
  },
  {
   "cell_type": "code",
   "execution_count": 90,
   "metadata": {},
   "outputs": [],
   "source": [
    "def affine_forward(x, w, b):\n",
    "  \"\"\"\n",
    "  输入：\n",
    "  x的维度为(N, d_1, ..., d_k)。N是batchsize，每个样本有k个特征。我们可以将其reshape为（N，D）\n",
    "  w的维度为(D, M)，M为下一层神经元的个数(对应输出维度)\n",
    "  b的维度为(M,)\n",
    "  输出：\n",
    "  out的维度为(N, M)，作为下一层的输入\n",
    "  cache元组(x, w, b)存下反向传播中可以直接导入计算梯度\n",
    "  \"\"\"\n",
    "  out = None\n",
    "  N, D = x.shape[0], int(x.size / x.shape[0])\n",
    "  out = np.dot(x.reshape(N, D), w) + b\n",
    "  cache = (x, w, b)\n",
    "  return out, cache"
   ]
  },
  {
   "cell_type": "markdown",
   "metadata": {},
   "source": [
    "### 反向"
   ]
  },
  {
   "cell_type": "markdown",
   "metadata": {},
   "source": [
    "$$ \\frac{\\partial{dz}}{\\partial{dx}} =dz*w^T$$\n"
   ]
  },
  {
   "cell_type": "markdown",
   "metadata": {},
   "source": [
    "$$ \\frac{\\partial{dz}}{\\partial{dw}} =x^T*dz$$"
   ]
  },
  {
   "cell_type": "markdown",
   "metadata": {},
   "source": [
    "$$ \\frac{\\partial{dz}}{\\partial{db}} =\\sum_{i=1}^{N}{dz(i,:)}$$"
   ]
  },
  {
   "cell_type": "markdown",
   "metadata": {},
   "source": [
    "最后这个偏导写的pythonic了，一时想不到这个reshape数学上应该怎么写= =懂意思就行"
   ]
  },
  {
   "cell_type": "code",
   "execution_count": 38,
   "metadata": {},
   "outputs": [],
   "source": [
    "def affine_backward(dz, cache):\n",
    "  \"\"\"\n",
    "  输入:\n",
    "  dz是上一层返回的梯度，这里维度视为(N, M)\n",
    "  cache元组(x, w, b)为正向传播中存下的参数\n",
    "  输出:\n",
    "  输出为dz关于x，w，b的偏导dx，dw，db\n",
    "  dx的维度为(N, d_1, ..., d_k)\n",
    "  dw的维度为(D, M)\n",
    "  db的维度为(M,)\n",
    "  \"\"\"\n",
    "  x, w, b = cache\n",
    "  dx, dw, db = None, None, None\n",
    "  pass\n",
    "  N, D = x.shape[0], w.shape[0]\n",
    "  dx = np.dot(dz, w.T).reshape(x.shape)\n",
    "  dw = np.dot(x.reshape(N, D).T, dz)\n",
    "  db = np.sum(dz, axis = 0)\n",
    "\n",
    "  return dx, dw, db"
   ]
  },
  {
   "cell_type": "markdown",
   "metadata": {},
   "source": [
    "## RELU"
   ]
  },
  {
   "cell_type": "markdown",
   "metadata": {},
   "source": [
    "这里就直接RELU吧，不用sigmoid了。下一个就是softmax"
   ]
  },
  {
   "cell_type": "markdown",
   "metadata": {},
   "source": [
    "### 正向"
   ]
  },
  {
   "cell_type": "markdown",
   "metadata": {},
   "source": [
    " $$ out = RELU(z)=max(0,z)$$ \n"
   ]
  },
  {
   "cell_type": "code",
   "execution_count": 27,
   "metadata": {},
   "outputs": [],
   "source": [
    "def relu_forward(x):\n",
    "  \"\"\"\n",
    "  relu就是取正数部分不用多解释啦\n",
    "  \"\"\"\n",
    "  out = None\n",
    "  out = np.maximum(0, x)\n",
    "  cache = x\n",
    "  return out, cache"
   ]
  },
  {
   "cell_type": "markdown",
   "metadata": {},
   "source": [
    "### 反向"
   ]
  },
  {
   "cell_type": "markdown",
   "metadata": {},
   "source": [
    "$$ \\frac{\\partial{dout}}{\\partial{dx}} =dout*bool(x>0)$$"
   ]
  },
  {
   "cell_type": "code",
   "execution_count": 39,
   "metadata": {},
   "outputs": [],
   "source": [
    "def relu_backward(dout, cache):\n",
    "  \"\"\"\n",
    "  输入:\n",
    "  dout:上一步反向传播回来的梯度\n",
    "  cache:正向传播时记录下的参数\n",
    "  输出:\n",
    "  dout对于d的偏导\n",
    "  \"\"\"\n",
    "  dx, x = None, cache\n",
    "\n",
    "  dx = dout * (x > 0)\n",
    "\n",
    "  return dx"
   ]
  },
  {
   "cell_type": "markdown",
   "metadata": {},
   "source": [
    "## softmax loss"
   ]
  },
  {
   "cell_type": "markdown",
   "metadata": {},
   "source": [
    "### 正向+反向"
   ]
  },
  {
   "cell_type": "markdown",
   "metadata": {},
   "source": [
    "因为这一步是传播的终点，所以我们可以把正向和反向写在一个函数里"
   ]
  },
  {
   "cell_type": "markdown",
   "metadata": {},
   "source": [
    "$$S(a_i) = \\frac{e^{a_i}}{\\sum_{j=1}^C e^{{a_j}}}$$"
   ]
  },
  {
   "cell_type": "markdown",
   "metadata": {},
   "source": [
    "$$l=-\\sum_{i=1}^{C}y^{(i)}log(S(a_i))$$"
   ]
  },
  {
   "cell_type": "markdown",
   "metadata": {},
   "source": [
    "$$L=\\frac{1}{N}\\sum_{i=1}^{N}l$$"
   ]
  },
  {
   "cell_type": "markdown",
   "metadata": {},
   "source": [
    "为了便于公式书写(否则又要写pythonic了)以上的S(a)是(1,C)的向量，y是0或1"
   ]
  },
  {
   "cell_type": "markdown",
   "metadata": {},
   "source": [
    "dx反向传播求解步骤有点长这里我就不贴了，网上softmax反向传播能搜到"
   ]
  },
  {
   "cell_type": "code",
   "execution_count": 29,
   "metadata": {},
   "outputs": [],
   "source": [
    "def softmax_loss(x, y):\n",
    "  \"\"\"\n",
    "  输入:\n",
    "  x的维度为(N, C)，对应N个样本C个分类。x[i, j]代表第i个样本在第j个分类的得分\n",
    "  y的维度为(N,)，代表样本的label，为0~C-1的整数\n",
    "  输出:\n",
    "  loss是一个标量对应上面的L\n",
    "  dx是loss对于x的偏导，维度(N, C)。\n",
    "   \n",
    "  \"\"\"\n",
    "  #x - np.max是为了防止数值上溢\n",
    "  S = np.exp(x - np.max(x, axis=1, keepdims=True))\n",
    "  #逐行对当前行求和(单个样本softmax)\n",
    "  S /= np.sum(S, axis=1, keepdims=True)\n",
    "  N = x.shape[0]\n",
    "  #逐列对当前列求和(所有样本的损失累加)，对于每个样本每一行只有对应y列(label)的log值才会被计入损失\n",
    "  loss = -np.sum(np.log(S[np.arange(N), y])) / N\n",
    "  dx = S.copy()\n",
    "  dx[np.arange(N), y] -= 1\n",
    "  dx /= N\n",
    "  return loss, dx"
   ]
  },
  {
   "cell_type": "markdown",
   "metadata": {},
   "source": [
    "# 优化器"
   ]
  },
  {
   "cell_type": "markdown",
   "metadata": {},
   "source": [
    "这里先只做一个SGD"
   ]
  },
  {
   "cell_type": "markdown",
   "metadata": {},
   "source": [
    "## SGD"
   ]
  },
  {
   "cell_type": "markdown",
   "metadata": {},
   "source": [
    "$$\\theta = \\theta - \\alpha*d\\theta$$ "
   ]
  },
  {
   "cell_type": "code",
   "execution_count": 119,
   "metadata": {},
   "outputs": [],
   "source": [
    "class optim(object):\n",
    "    def sgd(self,w, dw, config=None):\n",
    "          \"\"\"\n",
    "          输入:\n",
    "          w就是对应公式中的θ要优化的参数，dw是当前层返回梯度，config是一个包含所有超参数的字典\n",
    "          输出:\n",
    "          更新过后的w\n",
    "          \"\"\"\n",
    "          if config is None: config = {}\n",
    "          config.setdefault('learning_rate', 1e-2)\n",
    "          w -= config['learning_rate'] * dw\n",
    "          return w, config\n",
    "    \n",
    "optim=optim()"
   ]
  },
  {
   "cell_type": "markdown",
   "metadata": {},
   "source": [
    "# 封装模型"
   ]
  },
  {
   "cell_type": "markdown",
   "metadata": {},
   "source": [
    "到这里时可以思考下之后要封装的模型了。不如我们模仿Keras，按照其提供的接口来封装模型。"
   ]
  },
  {
   "cell_type": "markdown",
   "metadata": {},
   "source": [
    "仿照Keras，model实例化的时候传入模型的结构，model.compile传入损失函数、优化器、学习率，model.fit传入数据集完成训练过程同时记录损失。"
   ]
  },
  {
   "cell_type": "code",
   "execution_count": null,
   "metadata": {},
   "outputs": [],
   "source": [
    "#keras三板斧，这里我就不运行了\n",
    "#见https://keras.io/getting-started/functional-api-guide/\n",
    "model = Model(inputs=inputs, outputs=predictions)\n",
    "model.compile(optimizer='rmsprop',\n",
    "              loss='categorical_crossentropy',\n",
    "              metrics=['accuracy'])\n",
    "model.fit(data, labels)\n"
   ]
  },
  {
   "cell_type": "code",
   "execution_count": 162,
   "metadata": {},
   "outputs": [],
   "source": [
    "import numpy as np\n",
    "class FullyConnected(object):\n",
    "    def __init__(self, hidden_dims, input_dim=8*8, num_classes=10,\n",
    "               reg=0.0, weight_scale=1e-2, dtype=np.float32):\n",
    "        \"\"\"\n",
    "        hidden_dims为列表表示模型的结构，如[3,2,1]即代表第一层隐藏层3个神经元，第二层隐藏层2个神经元，第三层隐藏层1个神经元\n",
    "        input_dim输入维度，默认对应mnist输入\n",
    "        num_classes等同于输出层神经元个数，默认对应mnist类别\n",
    "        reg为正则化系数\n",
    "        weight_scale为系数的初始化\n",
    "        dtype=np.float32代表所有系数精度为float32(也可以设为float64)\n",
    "        \"\"\"\n",
    "        self.reg = reg\n",
    "        #总层数算上输出层\n",
    "        self.num_layers = 1 + len(hidden_dims)\n",
    "        self.dtype = dtype\n",
    "        #params字典用于存储系数\n",
    "        self.params = {}\n",
    "        #初始化第一层系数，这里W按照正态分布\n",
    "        self.params['W1'] = np.random.randn(input_dim, hidden_dims[0]) * weight_scale\n",
    "        self.params['b1'] = np.zeros(hidden_dims[0])\n",
    "        #初始化第二层开始的系数\n",
    "        for i in range(self.num_layers - 2):\n",
    "            self.params['W' + str(i+2)] = np.random.randn(hidden_dims[i], hidden_dims[i+1]) * weight_scale\n",
    "            self.params['b' + str(i+2)] = np.zeros(hidden_dims[i+1])\n",
    "        #初始化最后一层的系数\n",
    "        self.params['W' + str(self.num_layers)] = np.random.randn(hidden_dims[-1], num_classes)\n",
    "        self.params['b' + str(self.num_layers)] = np.random.randn(num_classes)\n",
    "        #确定系数精度\n",
    "        for k, v in self.params.items():\n",
    "            self.params[k] = v.astype(dtype)\n",
    "\n",
    "    def loss(self, x, y=None):\n",
    "        \"\"\"\n",
    "        输入：\n",
    "        x的维度为(N, d_1, ..., d_k)。N是batchsize，每个样本有k个特征。我们可以将其reshape为（N，D）\n",
    "        y的维度为(N,)，代表样本的label，y也可以为None\n",
    "        输出:\n",
    "        当y不为None时，说明这是训练的过程，返回loss，梯度\n",
    "        当y为None的时候，说明这是测试的过程，返回score\n",
    "        调用fit会用到这个方法\n",
    "        \"\"\"\n",
    "        x = x.astype(self.dtype)\n",
    "        mode = 'test' if y is None else 'train'\n",
    "        scores = None\n",
    "        #初始化两个列表，用来存每一层的输出和系数\n",
    "        hidden_layers, caches = list(range(self.num_layers + 1)), list(range(self.num_layers))\n",
    "        hidden_layers[0] = x\n",
    "        for i in range(self.num_layers):\n",
    "            w, b = self.params['W' + str(i+1)], self.params['b' + str(i+1)]\n",
    "            #print(i,w.shape)\n",
    "            #最后一层没有RELU\n",
    "            if i == self.num_layers - 1:\n",
    "                hidden_layers[i+1], caches[i] = affine_forward(hidden_layers[i], w, b)\n",
    "            else:\n",
    "                a, fc_cache = affine_forward(hidden_layers[i], w, b)\n",
    "                out, relu_cache = relu_forward(a)\n",
    "                #print(a.shape,out.shape)\n",
    "                cache = (fc_cache, relu_cache)\n",
    "                hidden_layers[i+1], caches[i] = out, cache\n",
    "        #这里的score是没经过softmax的\n",
    "        scores = hidden_layers[self.num_layers]   \n",
    "    \n",
    "        if mode == 'test':\n",
    "            return scores\n",
    "\n",
    "        loss, grads = 0.0, {}\n",
    "        loss, dscores = softmax_loss(scores, y)\n",
    "        #初始化列表存储每一层梯度\n",
    "        dhiddens = list(range(self.num_layers + 1))\n",
    "        dhiddens[self.num_layers] = dscores\n",
    "        for i in range(self.num_layers, 0, -1):\n",
    "            #最后一层没有RELU\n",
    "            if i == self.num_layers:\n",
    "                dhiddens[i-1], grads['W' + str(i)], grads['b'+str(i)] = affine_backward(dhiddens[i], caches[i-1])\n",
    "            else:\n",
    "                  fc_cache, relu_cache = caches[i-1]\n",
    "                  da = relu_backward(dhiddens[i], relu_cache)\n",
    "                  dx, dw, db = affine_backward(da, fc_cache)\n",
    "                  dhiddens[i-1], grads['W' + str(i)], grads['b' + str(i)] = dx, dw, db\n",
    "            #L2正则化\n",
    "            loss += 0.5 * self.reg * np.sum(self.params['W' + str(i)] ** 2)\n",
    "            grads['W' + str(i)] += self.reg * self.params['W' + str(i)]\n",
    "\n",
    "        return loss, grads\n",
    "\n",
    "    def compile(self, **kwargs):\n",
    "        \"\"\"\n",
    "        记录优化器相关的超参数，同时调用_reset初始化训练记录\n",
    "        \"\"\"        \n",
    "        self.update_rule = kwargs.pop('update_rule', 'sgd')\n",
    "        self.optim_config = kwargs.pop('optim_config', {})\n",
    "        self.lr_decay = kwargs.pop('lr_decay', 1.0)\n",
    " \n",
    "        if len(kwargs) > 0:\n",
    "              extra = ', '.join('\"%s\"' % k for k in kwargs.keys())\n",
    "              raise ValueError('传入参数 %s未识别' % extra)\n",
    "\n",
    "        if not hasattr(optim, self.update_rule):\n",
    "              raise ValueError('缺少有效的优化器 \"%s\"' % self.update_rule)\n",
    "        self.update_rule = getattr(optim, self.update_rule)\n",
    "\n",
    "        self._reset()\n",
    "        \n",
    "    def _reset(self):\n",
    "        \"\"\"\n",
    "        初始化训练过程的记录，compile调用\n",
    "        \"\"\"\n",
    "        self.epoch = 0\n",
    "        self.best_val_acc = 0\n",
    "        self.best_params = {}\n",
    "        self.loss_history = []\n",
    "        self.train_acc_history = []\n",
    "        self.val_acc_history = []\n",
    "        #记录每一个参数的optim_config(optim_config为学习率，优化器相关的参数)\n",
    "        self.optim_configs = {}\n",
    "        for p in self.params:\n",
    "              d = {k: v for k, v in self.optim_config.items()}\n",
    "              self.optim_configs[p] = d\n",
    "            \n",
    "    def fit(self,x_train,y_train,x_val,y_val,epochs=30,batch_size=64,verbose=1):\n",
    "        \"\"\"\n",
    "        训练过程，按照verbose的输入决定是否在epoch结束打印信息。最后保存模型(训练得到的最佳参数)\n",
    "        \"\"\"\n",
    "        self.x_train = x_train\n",
    "        self.y_train = y_train\n",
    "        self.x_val = x_val\n",
    "        self.y_val = y_val   \n",
    "        self.num_epochs = epochs\n",
    "        self.batch_size = batch_size\n",
    "        self.verbose=verbose\n",
    "        num_train = self.x_train.shape[0]\n",
    "        #print(num_train,self.batch_size)\n",
    "        iterations_per_epoch = int(max(num_train / self.batch_size, 1))\n",
    "        #print('iterations_per_epoch %f'%iterations_per_epoch)\n",
    "        #总迭代次数\n",
    "        num_iterations = self.num_epochs * iterations_per_epoch\n",
    "        #print (int(num_iterations))\n",
    "        for t in range(int(num_iterations)):\n",
    "            #print(t)\n",
    "            self._step()\n",
    "            epoch_end = (t + 1) % iterations_per_epoch == 0\n",
    "            if epoch_end:\n",
    "                self.epoch += 1\n",
    "                #学习率衰减\n",
    "                for k in self.optim_configs:\n",
    "                      self.optim_configs[k]['learning_rate'] *= self.lr_decay\n",
    "            # 第一次迭代，最后一次迭代，或者一个epoch记录准确率\n",
    "            first_it = (t == 0)\n",
    "            last_it = (t == num_iterations + 1)\n",
    "            if first_it or last_it or epoch_end:\n",
    "                train_acc = self.check_accuracy(self.x_train, self.y_train,num_samples=1000)\n",
    "                val_acc = self.check_accuracy(self.x_val, self.y_val)\n",
    "                self.train_acc_history.append(train_acc)\n",
    "                self.val_acc_history.append(val_acc)\n",
    "\n",
    "                if self.verbose:\n",
    "                      print ('epoch %d / %d loss: %f train acc: %f; val_acc: %f' % (self.epoch, self.num_epochs,self.loss_history[-1],\n",
    "                                                                                    train_acc, val_acc))\n",
    "\n",
    "                # 记录最佳模型\n",
    "                if val_acc > self.best_val_acc:\n",
    "                      self.best_val_acc = val_acc\n",
    "                      self.best_params = {}\n",
    "                      #记录参数\n",
    "                      for k, v in self.params.items():\n",
    "                            self.best_params[k] = v.copy()\n",
    "        self.params = self.best_params\n",
    "\n",
    "    def _step(self):\n",
    "        \"\"\"\n",
    "        单次优化，记录下loss_history，fit调用\n",
    "        \"\"\"\n",
    "        # 采样batch\n",
    "        num_train = self.x_train.shape[0]\n",
    "        batch_mask = np.random.choice(num_train, self.batch_size)\n",
    "        X_batch = self.x_train[batch_mask]\n",
    "        y_batch = self.y_train[batch_mask]\n",
    "\n",
    "        # 前向传播反向传播记录loss\n",
    "        loss, grads = self.loss(X_batch, y_batch)\n",
    "        self.loss_history.append(loss)\n",
    "\n",
    "        # 更新参数\n",
    "        for p, w in self.params.items():\n",
    "              dw = grads[p]\n",
    "              #学习率等参数传入config\n",
    "              config = self.optim_configs[p]\n",
    "              next_w, next_config = self.update_rule(w, dw, config)\n",
    "              self.params[p] = next_w\n",
    "              self.optim_configs[p] = next_config\n",
    "            \n",
    "    def check_accuracy(self, x, y, num_samples=None, batch_size=64):\n",
    "        \"\"\"\n",
    "        根据输入的数据计算模型的准确率，num_samples不为空的话即测试num_samples个样本。fit调用\n",
    "        \"\"\"\n",
    "        N = x.shape[0]\n",
    "        if num_samples is not None and N > num_samples:\n",
    "              mask = np.random.choice(N, num_samples)\n",
    "              N = num_samples\n",
    "              x = x[mask]\n",
    "              y = y[mask]\n",
    "        num_batches = N / batch_size\n",
    "        if N % batch_size != 0:\n",
    "              num_batches += 1\n",
    "        y_pred = []\n",
    "        for i in range(int(num_batches)):\n",
    "              start = i * batch_size\n",
    "              end = (i + 1) * batch_size\n",
    "              scores = self.loss(x[start:end])\n",
    "              #模型预测结果\n",
    "              y_pred.append(np.argmax(scores, axis=1))\n",
    "        y_pred = np.hstack(y_pred)\n",
    "        acc = np.mean(y_pred == y)\n",
    "\n",
    "        return acc"
   ]
  },
  {
   "cell_type": "markdown",
   "metadata": {},
   "source": [
    "试试我们的模型吧"
   ]
  },
  {
   "cell_type": "code",
   "execution_count": 175,
   "metadata": {},
   "outputs": [],
   "source": [
    "model = FullyConnected([100, 100, 100, 100],weight_scale=3e-2, dtype=np.float64)\n",
    "model.compile(\n",
    "              update_rule='sgd',\n",
    "              optim_config={\n",
    "                  'learning_rate': 1e-3,\n",
    "              }\n",
    "         )"
   ]
  },
  {
   "cell_type": "markdown",
   "metadata": {},
   "source": [
    "再看一眼我们的数据"
   ]
  },
  {
   "cell_type": "code",
   "execution_count": 176,
   "metadata": {},
   "outputs": [
    {
     "name": "stdout",
     "output_type": "stream",
     "text": [
      "(1347, 64)\n",
      "(450, 64)\n",
      "(1347,)\n",
      "(450,)\n"
     ]
    }
   ],
   "source": [
    "print(X_train.shape)\n",
    "print(X_test.shape)\n",
    "print(y_train.shape)\n",
    "print(y_test.shape)"
   ]
  },
  {
   "cell_type": "code",
   "execution_count": 177,
   "metadata": {},
   "outputs": [
    {
     "name": "stdout",
     "output_type": "stream",
     "text": [
      "epoch 0 / 100 loss: 3.072079 train acc: 0.057000; val_acc: 0.060000\n",
      "epoch 1 / 100 loss: 2.660091 train acc: 0.117000; val_acc: 0.106667\n",
      "epoch 2 / 100 loss: 2.812931 train acc: 0.214000; val_acc: 0.204444\n",
      "epoch 3 / 100 loss: 2.285188 train acc: 0.187000; val_acc: 0.180000\n",
      "epoch 4 / 100 loss: 2.311214 train acc: 0.204000; val_acc: 0.186667\n",
      "epoch 5 / 100 loss: 2.401614 train acc: 0.262000; val_acc: 0.244444\n",
      "epoch 6 / 100 loss: 2.040300 train acc: 0.376000; val_acc: 0.375556\n",
      "epoch 7 / 100 loss: 1.912909 train acc: 0.467000; val_acc: 0.453333\n",
      "epoch 8 / 100 loss: 1.868188 train acc: 0.625000; val_acc: 0.595556\n",
      "epoch 9 / 100 loss: 1.615804 train acc: 0.664000; val_acc: 0.648889\n",
      "epoch 10 / 100 loss: 1.457032 train acc: 0.732000; val_acc: 0.728889\n",
      "epoch 11 / 100 loss: 1.270667 train acc: 0.736000; val_acc: 0.735556\n",
      "epoch 12 / 100 loss: 1.122568 train acc: 0.750000; val_acc: 0.771111\n",
      "epoch 13 / 100 loss: 1.007589 train acc: 0.785000; val_acc: 0.784444\n",
      "epoch 14 / 100 loss: 0.911566 train acc: 0.835000; val_acc: 0.840000\n",
      "epoch 15 / 100 loss: 0.790561 train acc: 0.855000; val_acc: 0.855556\n",
      "epoch 16 / 100 loss: 0.634261 train acc: 0.880000; val_acc: 0.862222\n",
      "epoch 17 / 100 loss: 0.869241 train acc: 0.888000; val_acc: 0.895556\n",
      "epoch 18 / 100 loss: 0.494058 train acc: 0.901000; val_acc: 0.920000\n",
      "epoch 19 / 100 loss: 0.604128 train acc: 0.903000; val_acc: 0.926667\n",
      "epoch 20 / 100 loss: 0.521962 train acc: 0.903000; val_acc: 0.920000\n",
      "epoch 21 / 100 loss: 0.288940 train acc: 0.910000; val_acc: 0.935556\n",
      "epoch 22 / 100 loss: 0.349689 train acc: 0.917000; val_acc: 0.935556\n",
      "epoch 23 / 100 loss: 0.332625 train acc: 0.919000; val_acc: 0.937778\n",
      "epoch 24 / 100 loss: 0.395903 train acc: 0.927000; val_acc: 0.940000\n",
      "epoch 25 / 100 loss: 0.189570 train acc: 0.937000; val_acc: 0.944444\n",
      "epoch 26 / 100 loss: 0.516194 train acc: 0.932000; val_acc: 0.942222\n",
      "epoch 27 / 100 loss: 0.268353 train acc: 0.936000; val_acc: 0.944444\n",
      "epoch 28 / 100 loss: 0.346236 train acc: 0.936000; val_acc: 0.951111\n",
      "epoch 29 / 100 loss: 0.496544 train acc: 0.913000; val_acc: 0.951111\n",
      "epoch 30 / 100 loss: 0.164683 train acc: 0.938000; val_acc: 0.951111\n",
      "epoch 31 / 100 loss: 0.181099 train acc: 0.929000; val_acc: 0.946667\n",
      "epoch 32 / 100 loss: 0.185870 train acc: 0.959000; val_acc: 0.953333\n",
      "epoch 33 / 100 loss: 0.204607 train acc: 0.936000; val_acc: 0.953333\n",
      "epoch 34 / 100 loss: 0.159376 train acc: 0.944000; val_acc: 0.946667\n",
      "epoch 35 / 100 loss: 0.197147 train acc: 0.949000; val_acc: 0.942222\n",
      "epoch 36 / 100 loss: 0.110824 train acc: 0.957000; val_acc: 0.946667\n",
      "epoch 37 / 100 loss: 0.156777 train acc: 0.954000; val_acc: 0.955556\n",
      "epoch 38 / 100 loss: 0.176129 train acc: 0.957000; val_acc: 0.953333\n",
      "epoch 39 / 100 loss: 0.366314 train acc: 0.959000; val_acc: 0.962222\n",
      "epoch 40 / 100 loss: 0.149780 train acc: 0.965000; val_acc: 0.957778\n",
      "epoch 41 / 100 loss: 0.195076 train acc: 0.960000; val_acc: 0.962222\n",
      "epoch 42 / 100 loss: 0.142693 train acc: 0.960000; val_acc: 0.960000\n",
      "epoch 43 / 100 loss: 0.112310 train acc: 0.965000; val_acc: 0.957778\n",
      "epoch 44 / 100 loss: 0.131151 train acc: 0.968000; val_acc: 0.962222\n",
      "epoch 45 / 100 loss: 0.081184 train acc: 0.963000; val_acc: 0.948889\n",
      "epoch 46 / 100 loss: 0.165903 train acc: 0.966000; val_acc: 0.966667\n",
      "epoch 47 / 100 loss: 0.082711 train acc: 0.955000; val_acc: 0.960000\n",
      "epoch 48 / 100 loss: 0.212922 train acc: 0.972000; val_acc: 0.955556\n",
      "epoch 49 / 100 loss: 0.134187 train acc: 0.971000; val_acc: 0.960000\n",
      "epoch 50 / 100 loss: 0.189331 train acc: 0.964000; val_acc: 0.957778\n",
      "epoch 51 / 100 loss: 0.127188 train acc: 0.961000; val_acc: 0.960000\n",
      "epoch 52 / 100 loss: 0.147577 train acc: 0.975000; val_acc: 0.957778\n",
      "epoch 53 / 100 loss: 0.110537 train acc: 0.979000; val_acc: 0.960000\n",
      "epoch 54 / 100 loss: 0.161519 train acc: 0.972000; val_acc: 0.964444\n",
      "epoch 55 / 100 loss: 0.060905 train acc: 0.972000; val_acc: 0.966667\n",
      "epoch 56 / 100 loss: 0.048206 train acc: 0.972000; val_acc: 0.964444\n",
      "epoch 57 / 100 loss: 0.099738 train acc: 0.974000; val_acc: 0.953333\n",
      "epoch 58 / 100 loss: 0.054517 train acc: 0.971000; val_acc: 0.964444\n",
      "epoch 59 / 100 loss: 0.141267 train acc: 0.971000; val_acc: 0.964444\n",
      "epoch 60 / 100 loss: 0.183813 train acc: 0.980000; val_acc: 0.960000\n",
      "epoch 61 / 100 loss: 0.087541 train acc: 0.977000; val_acc: 0.973333\n",
      "epoch 62 / 100 loss: 0.044238 train acc: 0.975000; val_acc: 0.962222\n",
      "epoch 63 / 100 loss: 0.091196 train acc: 0.985000; val_acc: 0.951111\n",
      "epoch 64 / 100 loss: 0.066016 train acc: 0.980000; val_acc: 0.957778\n",
      "epoch 65 / 100 loss: 0.124180 train acc: 0.982000; val_acc: 0.957778\n",
      "epoch 66 / 100 loss: 0.058294 train acc: 0.979000; val_acc: 0.966667\n",
      "epoch 67 / 100 loss: 0.178784 train acc: 0.976000; val_acc: 0.966667\n",
      "epoch 68 / 100 loss: 0.100486 train acc: 0.976000; val_acc: 0.957778\n",
      "epoch 69 / 100 loss: 0.125238 train acc: 0.990000; val_acc: 0.968889\n",
      "epoch 70 / 100 loss: 0.040501 train acc: 0.979000; val_acc: 0.955556\n",
      "epoch 71 / 100 loss: 0.043784 train acc: 0.986000; val_acc: 0.966667\n",
      "epoch 72 / 100 loss: 0.064622 train acc: 0.985000; val_acc: 0.973333\n",
      "epoch 73 / 100 loss: 0.079644 train acc: 0.983000; val_acc: 0.962222\n",
      "epoch 74 / 100 loss: 0.086760 train acc: 0.978000; val_acc: 0.964444\n",
      "epoch 75 / 100 loss: 0.087019 train acc: 0.984000; val_acc: 0.966667\n",
      "epoch 76 / 100 loss: 0.076932 train acc: 0.985000; val_acc: 0.960000\n",
      "epoch 77 / 100 loss: 0.107343 train acc: 0.986000; val_acc: 0.951111\n",
      "epoch 78 / 100 loss: 0.029397 train acc: 0.986000; val_acc: 0.964444\n",
      "epoch 79 / 100 loss: 0.031125 train acc: 0.979000; val_acc: 0.955556\n",
      "epoch 80 / 100 loss: 0.056470 train acc: 0.988000; val_acc: 0.962222\n",
      "epoch 81 / 100 loss: 0.093848 train acc: 0.991000; val_acc: 0.960000\n",
      "epoch 82 / 100 loss: 0.076352 train acc: 0.991000; val_acc: 0.964444\n",
      "epoch 83 / 100 loss: 0.050415 train acc: 0.990000; val_acc: 0.966667\n",
      "epoch 84 / 100 loss: 0.068520 train acc: 0.992000; val_acc: 0.964444\n",
      "epoch 85 / 100 loss: 0.069125 train acc: 0.995000; val_acc: 0.968889\n",
      "epoch 86 / 100 loss: 0.039661 train acc: 0.981000; val_acc: 0.955556\n",
      "epoch 87 / 100 loss: 0.157629 train acc: 0.991000; val_acc: 0.962222\n",
      "epoch 88 / 100 loss: 0.025658 train acc: 0.992000; val_acc: 0.966667\n",
      "epoch 89 / 100 loss: 0.041298 train acc: 0.995000; val_acc: 0.960000\n",
      "epoch 90 / 100 loss: 0.021180 train acc: 0.988000; val_acc: 0.964444\n",
      "epoch 91 / 100 loss: 0.082906 train acc: 0.990000; val_acc: 0.962222\n",
      "epoch 92 / 100 loss: 0.022931 train acc: 0.980000; val_acc: 0.962222\n",
      "epoch 93 / 100 loss: 0.078400 train acc: 0.988000; val_acc: 0.960000\n",
      "epoch 94 / 100 loss: 0.028201 train acc: 0.984000; val_acc: 0.960000\n",
      "epoch 95 / 100 loss: 0.060024 train acc: 0.987000; val_acc: 0.966667\n",
      "epoch 96 / 100 loss: 0.030021 train acc: 0.986000; val_acc: 0.951111\n",
      "epoch 97 / 100 loss: 0.046263 train acc: 0.990000; val_acc: 0.964444\n",
      "epoch 98 / 100 loss: 0.151802 train acc: 0.994000; val_acc: 0.962222\n",
      "epoch 99 / 100 loss: 0.032607 train acc: 0.986000; val_acc: 0.955556\n",
      "epoch 100 / 100 loss: 0.029640 train acc: 0.991000; val_acc: 0.955556\n"
     ]
    }
   ],
   "source": [
    "model.fit(X_train, y_train,X_test,y_test,epochs=100, batch_size=32)"
   ]
  },
  {
   "cell_type": "code",
   "execution_count": 178,
   "metadata": {},
   "outputs": [
    {
     "data": {
      "image/png": "[encoded data removed]",
      "text/plain": [
       "<Figure size 432x288 with 1 Axes>"
      ]
     },
     "metadata": {
      "needs_background": "light"
     },
     "output_type": "display_data"
    }
   ],
   "source": [
    "plt.plot(model.val_acc_history, 'o')\n",
    "plt.title('val_acc_history history')\n",
    "plt.xlabel('epoch')\n",
    "plt.ylabel('val_acc_history')\n",
    "plt.show()"
   ]
  },
  {
   "cell_type": "markdown",
   "metadata": {},
   "source": [
    "改变学习率"
   ]
  },
  {
   "cell_type": "code",
   "execution_count": 187,
   "metadata": {},
   "outputs": [
    {
     "name": "stdout",
     "output_type": "stream",
     "text": [
      "epoch 0 / 100 loss: 2.857777 train acc: 0.087000; val_acc: 0.097778\n",
      "epoch 1 / 100 loss: 2.868165 train acc: 0.104000; val_acc: 0.097778\n",
      "epoch 2 / 100 loss: 2.830043 train acc: 0.095000; val_acc: 0.097778\n",
      "epoch 3 / 100 loss: 2.774539 train acc: 0.129000; val_acc: 0.097778\n",
      "epoch 4 / 100 loss: 2.835958 train acc: 0.112000; val_acc: 0.097778\n",
      "epoch 5 / 100 loss: 2.668227 train acc: 0.109000; val_acc: 0.097778\n",
      "epoch 6 / 100 loss: 2.836369 train acc: 0.103000; val_acc: 0.097778\n",
      "epoch 7 / 100 loss: 2.800582 train acc: 0.113000; val_acc: 0.097778\n",
      "epoch 8 / 100 loss: 2.385211 train acc: 0.103000; val_acc: 0.097778\n",
      "epoch 9 / 100 loss: 2.706833 train acc: 0.100000; val_acc: 0.097778\n",
      "epoch 10 / 100 loss: 2.607915 train acc: 0.106000; val_acc: 0.097778\n",
      "epoch 11 / 100 loss: 2.271246 train acc: 0.092000; val_acc: 0.097778\n",
      "epoch 12 / 100 loss: 2.545260 train acc: 0.104000; val_acc: 0.097778\n",
      "epoch 13 / 100 loss: 2.527246 train acc: 0.108000; val_acc: 0.100000\n",
      "epoch 14 / 100 loss: 2.543498 train acc: 0.096000; val_acc: 0.095556\n",
      "epoch 15 / 100 loss: 2.358079 train acc: 0.105000; val_acc: 0.100000\n",
      "epoch 16 / 100 loss: 2.468740 train acc: 0.150000; val_acc: 0.115556\n",
      "epoch 17 / 100 loss: 2.430213 train acc: 0.144000; val_acc: 0.137778\n",
      "epoch 18 / 100 loss: 2.619439 train acc: 0.149000; val_acc: 0.155556\n",
      "epoch 19 / 100 loss: 2.413722 train acc: 0.203000; val_acc: 0.186667\n",
      "epoch 20 / 100 loss: 2.376833 train acc: 0.220000; val_acc: 0.215556\n",
      "epoch 21 / 100 loss: 2.401484 train acc: 0.255000; val_acc: 0.222222\n",
      "epoch 22 / 100 loss: 2.222710 train acc: 0.234000; val_acc: 0.224444\n",
      "epoch 23 / 100 loss: 2.742141 train acc: 0.216000; val_acc: 0.228889\n",
      "epoch 24 / 100 loss: 2.311604 train acc: 0.239000; val_acc: 0.242222\n",
      "epoch 25 / 100 loss: 2.428213 train acc: 0.245000; val_acc: 0.251111\n",
      "epoch 26 / 100 loss: 2.405897 train acc: 0.259000; val_acc: 0.260000\n",
      "epoch 27 / 100 loss: 2.357076 train acc: 0.266000; val_acc: 0.255556\n",
      "epoch 28 / 100 loss: 2.302794 train acc: 0.258000; val_acc: 0.253333\n",
      "epoch 29 / 100 loss: 2.148688 train acc: 0.239000; val_acc: 0.251111\n",
      "epoch 30 / 100 loss: 2.359654 train acc: 0.254000; val_acc: 0.262222\n",
      "epoch 31 / 100 loss: 2.320744 train acc: 0.274000; val_acc: 0.275556\n",
      "epoch 32 / 100 loss: 2.375028 train acc: 0.252000; val_acc: 0.273333\n",
      "epoch 33 / 100 loss: 2.222984 train acc: 0.264000; val_acc: 0.268889\n",
      "epoch 34 / 100 loss: 2.124851 train acc: 0.270000; val_acc: 0.266667\n",
      "epoch 35 / 100 loss: 2.148173 train acc: 0.264000; val_acc: 0.266667\n",
      "epoch 36 / 100 loss: 2.239816 train acc: 0.271000; val_acc: 0.266667\n",
      "epoch 37 / 100 loss: 2.105617 train acc: 0.307000; val_acc: 0.288889\n",
      "epoch 38 / 100 loss: 2.173018 train acc: 0.295000; val_acc: 0.300000\n",
      "epoch 39 / 100 loss: 2.116031 train acc: 0.289000; val_acc: 0.302222\n",
      "epoch 40 / 100 loss: 2.113574 train acc: 0.324000; val_acc: 0.315556\n",
      "epoch 41 / 100 loss: 2.086621 train acc: 0.320000; val_acc: 0.331111\n",
      "epoch 42 / 100 loss: 2.051345 train acc: 0.304000; val_acc: 0.335556\n",
      "epoch 43 / 100 loss: 2.195632 train acc: 0.350000; val_acc: 0.346667\n",
      "epoch 44 / 100 loss: 1.967487 train acc: 0.344000; val_acc: 0.346667\n",
      "epoch 45 / 100 loss: 2.033320 train acc: 0.342000; val_acc: 0.360000\n",
      "epoch 46 / 100 loss: 2.119565 train acc: 0.348000; val_acc: 0.377778\n",
      "epoch 47 / 100 loss: 2.019817 train acc: 0.361000; val_acc: 0.368889\n",
      "epoch 48 / 100 loss: 2.119277 train acc: 0.400000; val_acc: 0.404444\n",
      "epoch 49 / 100 loss: 2.039895 train acc: 0.433000; val_acc: 0.422222\n",
      "epoch 50 / 100 loss: 1.913423 train acc: 0.427000; val_acc: 0.437778\n",
      "epoch 51 / 100 loss: 1.986525 train acc: 0.436000; val_acc: 0.462222\n",
      "epoch 52 / 100 loss: 1.978886 train acc: 0.460000; val_acc: 0.460000\n",
      "epoch 53 / 100 loss: 2.030416 train acc: 0.465000; val_acc: 0.455556\n",
      "epoch 54 / 100 loss: 2.019798 train acc: 0.469000; val_acc: 0.473333\n",
      "epoch 55 / 100 loss: 2.041802 train acc: 0.497000; val_acc: 0.488889\n",
      "epoch 56 / 100 loss: 1.901087 train acc: 0.520000; val_acc: 0.482222\n",
      "epoch 57 / 100 loss: 1.873161 train acc: 0.552000; val_acc: 0.493333\n",
      "epoch 58 / 100 loss: 1.850662 train acc: 0.523000; val_acc: 0.500000\n",
      "epoch 59 / 100 loss: 1.936594 train acc: 0.558000; val_acc: 0.506667\n",
      "epoch 60 / 100 loss: 1.886596 train acc: 0.549000; val_acc: 0.513333\n",
      "epoch 61 / 100 loss: 1.939514 train acc: 0.585000; val_acc: 0.517778\n",
      "epoch 62 / 100 loss: 1.751419 train acc: 0.560000; val_acc: 0.535556\n",
      "epoch 63 / 100 loss: 1.873607 train acc: 0.556000; val_acc: 0.535556\n",
      "epoch 64 / 100 loss: 1.870228 train acc: 0.577000; val_acc: 0.551111\n",
      "epoch 65 / 100 loss: 1.853740 train acc: 0.571000; val_acc: 0.551111\n",
      "epoch 66 / 100 loss: 1.840162 train acc: 0.562000; val_acc: 0.560000\n",
      "epoch 67 / 100 loss: 1.897690 train acc: 0.593000; val_acc: 0.560000\n",
      "epoch 68 / 100 loss: 1.820656 train acc: 0.582000; val_acc: 0.564444\n",
      "epoch 69 / 100 loss: 1.813729 train acc: 0.593000; val_acc: 0.575556\n",
      "epoch 70 / 100 loss: 1.898763 train acc: 0.617000; val_acc: 0.564444\n",
      "epoch 71 / 100 loss: 1.711419 train acc: 0.599000; val_acc: 0.575556\n",
      "epoch 72 / 100 loss: 1.719922 train acc: 0.622000; val_acc: 0.575556\n",
      "epoch 73 / 100 loss: 1.787692 train acc: 0.643000; val_acc: 0.591111\n",
      "epoch 74 / 100 loss: 1.792937 train acc: 0.608000; val_acc: 0.593333\n",
      "epoch 75 / 100 loss: 1.876856 train acc: 0.613000; val_acc: 0.588889\n",
      "epoch 76 / 100 loss: 1.723642 train acc: 0.601000; val_acc: 0.595556\n",
      "epoch 77 / 100 loss: 1.716431 train acc: 0.632000; val_acc: 0.593333\n",
      "epoch 78 / 100 loss: 1.599544 train acc: 0.637000; val_acc: 0.597778\n",
      "epoch 79 / 100 loss: 1.694495 train acc: 0.635000; val_acc: 0.595556\n",
      "epoch 80 / 100 loss: 1.750291 train acc: 0.652000; val_acc: 0.600000\n",
      "epoch 81 / 100 loss: 1.629177 train acc: 0.631000; val_acc: 0.600000\n",
      "epoch 82 / 100 loss: 1.785082 train acc: 0.632000; val_acc: 0.597778\n",
      "epoch 83 / 100 loss: 1.625472 train acc: 0.651000; val_acc: 0.613333\n",
      "epoch 84 / 100 loss: 1.481268 train acc: 0.642000; val_acc: 0.615556\n",
      "epoch 85 / 100 loss: 1.594534 train acc: 0.674000; val_acc: 0.600000\n",
      "epoch 86 / 100 loss: 1.680630 train acc: 0.657000; val_acc: 0.620000\n",
      "epoch 87 / 100 loss: 1.537964 train acc: 0.641000; val_acc: 0.613333\n",
      "epoch 88 / 100 loss: 1.458538 train acc: 0.675000; val_acc: 0.646667\n",
      "epoch 89 / 100 loss: 1.564080 train acc: 0.667000; val_acc: 0.651111\n",
      "epoch 90 / 100 loss: 1.587606 train acc: 0.685000; val_acc: 0.646667\n",
      "epoch 91 / 100 loss: 1.623677 train acc: 0.704000; val_acc: 0.668889\n",
      "epoch 92 / 100 loss: 1.355936 train acc: 0.700000; val_acc: 0.666667\n",
      "epoch 93 / 100 loss: 1.512469 train acc: 0.720000; val_acc: 0.680000\n",
      "epoch 94 / 100 loss: 1.553492 train acc: 0.733000; val_acc: 0.675556\n",
      "epoch 95 / 100 loss: 1.478928 train acc: 0.708000; val_acc: 0.675556\n",
      "epoch 96 / 100 loss: 1.526060 train acc: 0.705000; val_acc: 0.662222\n",
      "epoch 97 / 100 loss: 1.381132 train acc: 0.715000; val_acc: 0.673333\n",
      "epoch 98 / 100 loss: 1.422049 train acc: 0.701000; val_acc: 0.675556\n",
      "epoch 99 / 100 loss: 1.353178 train acc: 0.729000; val_acc: 0.677778\n",
      "epoch 100 / 100 loss: 1.491319 train acc: 0.748000; val_acc: 0.688889\n"
     ]
    },
    {
     "data": {
      "image/png": "[encoded data removed]",
      "text/plain": [
       "<Figure size 432x288 with 1 Axes>"
      ]
     },
     "metadata": {
      "needs_background": "light"
     },
     "output_type": "display_data"
    }
   ],
   "source": [
    "model = FullyConnected([100, 100, 100, 100],weight_scale=3e-2, dtype=np.float64)\n",
    "model.compile(\n",
    "              update_rule='sgd',\n",
    "              optim_config={\n",
    "                  'learning_rate': 1e-4,\n",
    "              }\n",
    "         )\n",
    "model.fit(X_train, y_train,X_test,y_test,epochs=100, batch_size=32)\n",
    "plt.plot(model.val_acc_history, 'o')\n",
    "plt.title('val_acc_history history')\n",
    "plt.xlabel('epoch')\n",
    "plt.ylabel('val_acc_history')\n",
    "plt.show()"
   ]
  },
  {
   "cell_type": "markdown",
   "metadata": {},
   "source": [
    "可以看到降低学习率后明显训练过程被拉长了，说明上一个训练是更合适的学习率。这次可视化做的有些残念，时间不够了以后再完善"
   ]
  },
  {
   "cell_type": "code",
   "execution_count": null,
   "metadata": {},
   "outputs": [],
   "source": []
  }
 ],
 "metadata": {
  "kernelspec": {
   "display_name": "Python 3",
   "language": "python",
   "name": "python3"
  },
  "language_info": {
   "codemirror_mode": {
    "name": "ipython",
    "version": 3
   },
   "file_extension": ".py",
   "mimetype": "text/x-python",
   "name": "python",
   "nbconvert_exporter": "python",
   "pygments_lexer": "ipython3",
   "version": "3.6.8"
  }
 },
 "nbformat": 4,
 "nbformat_minor": 2
}
