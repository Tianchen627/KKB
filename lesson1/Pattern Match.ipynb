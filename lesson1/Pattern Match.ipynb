{
 "cells": [
  {
   "cell_type": "markdown",
   "metadata": {},
   "source": [
    "首先看一下我们需要达成的效果:\n",
    "Pattern: (我想要A)\n",
    "Response: (如果你有 A，对你意味着什么呢？)\n",
    "\n",
    "Input: (我想要度假)\n",
    "Response: (如果你有度假，对你意味着什么呢？)\n",
    "\n",
    "为了实现模板的判断和定义，我们需要定义一个特殊的符号类型，这个符号类型就叫做\"variable\"， 这个\"variable\"用来表示是一个占位符。例如，定义一个目标: \"I want X\"， 我们可以表示成 \"I want ?X\", 意思就是?X是一个用来占位的符号。\n",
    "\n",
    "如果输入了\"I want holiday\"， 在这里 'holiday' 就是 '?X'\n",
    "所以我们目标完成的函数如下:"
   ]
  },
  {
   "cell_type": "code",
   "execution_count": 78,
   "metadata": {},
   "outputs": [],
   "source": [
    "def get_response(saying, rules):\n",
    "    \"\"\"\" please implement the code, to get the response as followings:\n",
    "    \n",
    "    >>> get_response('I need iPhone') \n",
    "    >>> Image you will get iPhone soon\n",
    "    >>> get_response(\"My mother told me something\")\n",
    "    >>> Talk about more about your monther.\n",
    "    \"\"\"\n",
    "    pass"
   ]
  },
  {
   "cell_type": "markdown",
   "metadata": {},
   "source": [
    "那我们先编写一个判断是否是variable的函数，逻辑很简单传入参数第一位如果是X，并且之后所有位是字母，则返回True"
   ]
  },
  {
   "cell_type": "code",
   "execution_count": 1,
   "metadata": {},
   "outputs": [],
   "source": [
    "def is_variable(pat):\n",
    "    return pat.startswith('?') and all(s.isalpha() for s in pat[1:])"
   ]
  },
  {
   "cell_type": "markdown",
   "metadata": {},
   "source": [
    "接下来完成匹配函数，函数对传入的两个列表进行匹配，返回当中所有variable的值。这里的思路是两个列表第一位开始不断递归调用匹配函数，边界为匹配不上的情况或者传入为空的情况(可能是匹配结束了)，此时返回空列表。"
   ]
  },
  {
   "cell_type": "code",
   "execution_count": 5,
   "metadata": {},
   "outputs": [],
   "source": [
    "def pat_match(pattern, saying):\n",
    "    #若传入的列表存在一个空值则匹配结束\n",
    "    if not pattern or not saying: \n",
    "        return []\n",
    "    #判断当前位是否为variable\n",
    "    if is_variable(pattern[0]):\n",
    "        #返回variable对应的值，递归匹配下一位。最终返回的是所有[(pattern[0], saying[0])]和达到递归边界时的最后一个空列表的和。\n",
    "        return [(pattern[0], saying[0])] + pat_match(pattern[1:], saying[1:])\n",
    "    else:\n",
    "        #匹配不上时匹配结束\n",
    "        if pattern[0] != saying[0]: \n",
    "            return []\n",
    "        else:\n",
    "            #递归调用继续匹配下一位\n",
    "            return pat_match(pattern[1:], saying[1:])"
   ]
  },
  {
   "cell_type": "code",
   "execution_count": 6,
   "metadata": {},
   "outputs": [
    {
     "data": {
      "text/plain": [
       "[('?X', '3'), ('?Y', '2')]"
      ]
     },
     "execution_count": 6,
     "metadata": {},
     "output_type": "execute_result"
    }
   ],
   "source": [
    "pat_match(\"?X greater than ?Y\".split(), \"3 greater than 2\".split())"
   ]
  },
  {
   "cell_type": "code",
   "execution_count": 7,
   "metadata": {},
   "outputs": [
    {
     "data": {
      "text/plain": [
       "[('?X', '3')]"
      ]
     },
     "execution_count": 7,
     "metadata": {},
     "output_type": "execute_result"
    }
   ],
   "source": [
    "pat_match(\"?X greater than ?Y\".split(), \"3 greater \".split())"
   ]
  },
  {
   "cell_type": "markdown",
   "metadata": {},
   "source": [
    "此时我们的模式是逐字逐句匹配的， \"I need iPhone\" 和 \"I need ?X\" 可以匹配，但是\"I need an iPhone\" 和 \"I need ?X\" 就不匹配了，那怎么办？\n",
    "\n",
    "为了解决这个问题，我们可以新建一个变量类型 \"?\\*X\", 这种类型多了一个星号(\\*),表示匹配多个。自然也有了判断是否是新变量的函数:"
   ]
  },
  {
   "cell_type": "code",
   "execution_count": 8,
   "metadata": {},
   "outputs": [],
   "source": [
    "def is_pattern_segment(pattern):\n",
    "    return pattern.startswith('?*') and all(a.isalpha() for a in pattern[2:]) #注意[2:]是因为?*有两位，占了字符串的0，1位"
   ]
  },
  {
   "cell_type": "markdown",
   "metadata": {},
   "source": [
    "在正式进入我们的方法之前，先写几个工具性质的函数。\n",
    "\n",
    "下面这个函数递归比较输入列表的每一位，若不相同返回False，若全部相同或者rest中存在变量返回True"
   ]
  },
  {
   "cell_type": "code",
   "execution_count": 39,
   "metadata": {},
   "outputs": [],
   "source": [
    "def is_match(rest, saying):\n",
    "    if not rest and not saying:           #注意这里是and，双方均为空列表时才全部匹配\n",
    "        return True\n",
    "    if not rest or not saying:  #两个列表没有同时为空，一个为空说明两列表长度不匹配。这里不直接比较输入的长度是因为输入可能包含变量\n",
    "        return False    \n",
    "    if not all(a.isalpha() for a in rest[0]):  #包含变量视为无条件匹配\n",
    "        return True\n",
    "    if rest[0] != saying[0]:\n",
    "        return False\n",
    "    return is_match(rest[1:], saying[1:])"
   ]
  },
  {
   "cell_type": "code",
   "execution_count": 40,
   "metadata": {},
   "outputs": [
    {
     "data": {
      "text/plain": [
       "True"
      ]
     },
     "execution_count": 40,
     "metadata": {},
     "output_type": "execute_result"
    }
   ],
   "source": [
    "is_match('very good'.split(), 'very good'.split())"
   ]
  },
  {
   "cell_type": "code",
   "execution_count": 41,
   "metadata": {},
   "outputs": [
    {
     "data": {
      "text/plain": [
       "False"
      ]
     },
     "execution_count": 41,
     "metadata": {},
     "output_type": "execute_result"
    }
   ],
   "source": [
    "is_match('very good'.split(), 'not very good'.split())"
   ]
  },
  {
   "cell_type": "code",
   "execution_count": 42,
   "metadata": {},
   "outputs": [
    {
     "data": {
      "text/plain": [
       "True"
      ]
     },
     "execution_count": 42,
     "metadata": {},
     "output_type": "execute_result"
    }
   ],
   "source": [
    "is_match('?*P is very good'.split(), 'not very good'.split()) #因为包含变量?*P，所以返回True"
   ]
  },
  {
   "cell_type": "code",
   "execution_count": 43,
   "metadata": {},
   "outputs": [
    {
     "data": {
      "text/plain": [
       "False"
      ]
     },
     "execution_count": 43,
     "metadata": {},
     "output_type": "execute_result"
    }
   ],
   "source": [
    "is_match('very good'.split(), 'very good and cool'.split())"
   ]
  },
  {
   "cell_type": "markdown",
   "metadata": {},
   "source": [
    "下面这个函数的输入pattern是以变量为第一个元素的列表，作用是完成pattern和saying的最大匹配。比如\n",
    "\n",
    "输入:\n",
    "\n",
    "segment_match('?*P is very good'.split(), \"My dog and my cat is very good\".split())\n",
    "\n",
    "输出:\n",
    "\n",
    "(('?P', ['My', 'dog', 'and', 'my', 'cat']), 5)   "
   ]
  },
  {
   "cell_type": "code",
   "execution_count": 44,
   "metadata": {},
   "outputs": [],
   "source": [
    "def segment_match(pattern, saying):\n",
    "    seg_pat, rest = pattern[0], pattern[1:]   \n",
    "    seg_pat = seg_pat.replace('?*', '?')     #seg_pat==['?P']，rest==['is','very','good']\n",
    "                                             #saying==['My','dog','and','my','cat','is','very','good']\n",
    "    if not rest:\n",
    "        return (seg_pat, saying), len(saying)    \n",
    "    #寻找rest[1:]与saying的公共连续子串，匹配到后返回子串前的内容\n",
    "    for i, token in enumerate(saying):\n",
    "        if rest[0] == token and is_match(rest[1:], saying[(i + 1):]): #rest[0]==['is']，rest[1:]==['very','good']\n",
    "            return (seg_pat, saying[:i]), i\n",
    "    #若匹配不上，则将整个saying返回\n",
    "    return (seg_pat, saying), len(saying)"
   ]
  },
  {
   "cell_type": "code",
   "execution_count": 45,
   "metadata": {},
   "outputs": [
    {
     "data": {
      "text/plain": [
       "(('?P', ['My', 'dog', 'and', 'my', 'cat']), 5)"
      ]
     },
     "execution_count": 45,
     "metadata": {},
     "output_type": "execute_result"
    }
   ],
   "source": [
    "segment_match('?*P is very good'.split(), \"My dog and my cat is very good\".split())"
   ]
  },
  {
   "cell_type": "code",
   "execution_count": 46,
   "metadata": {},
   "outputs": [
    {
     "data": {
      "text/plain": [
       "(('?P', ['My', 'dog', 'and', 'my', 'cat', 'is', 'cool']), 7)"
      ]
     },
     "execution_count": 46,
     "metadata": {},
     "output_type": "execute_result"
    }
   ],
   "source": [
    "segment_match('?*P is very good'.split(), \"My dog and my cat is cool\".split()) #若匹配不上，则将整个saying返回"
   ]
  },
  {
   "cell_type": "code",
   "execution_count": 47,
   "metadata": {},
   "outputs": [
    {
     "data": {
      "text/plain": [
       "(('?P',\n",
       "  ['My', 'dog', 'and', 'my', 'cat', 'is', 'very', 'good', 'and', 'cool']),\n",
       " 10)"
      ]
     },
     "execution_count": 47,
     "metadata": {},
     "output_type": "execute_result"
    }
   ],
   "source": [
    "segment_match('?*P is very good'.split(), \"My dog and my cat is very good and cool\".split())"
   ]
  },
  {
   "cell_type": "code",
   "execution_count": 48,
   "metadata": {},
   "outputs": [
    {
     "data": {
      "text/plain": [
       "(('?X', ['3']), 1)"
      ]
     },
     "execution_count": 48,
     "metadata": {},
     "output_type": "execute_result"
    }
   ],
   "source": [
    "segment_match(\"?X greater than ?Y\".split(), \"3 greater than 2\".split())#可以看到对于存在多个变量，segment_match目前只能匹配第一个"
   ]
  },
  {
   "cell_type": "markdown",
   "metadata": {},
   "source": [
    "现在我们对pat_match函数改写，使其能匹配\"?\\*X\"。先将初版的pat_match贴过来"
   ]
  },
  {
   "cell_type": "code",
   "execution_count": 51,
   "metadata": {},
   "outputs": [],
   "source": [
    "def pat_match(pattern, saying):\n",
    "    #若传入的列表存在一个空值则匹配结束\n",
    "    if not pattern or not saying: \n",
    "        return []\n",
    "    #判断当前位是否为variable\n",
    "    if is_variable(pattern[0]):\n",
    "        #返回variable对应的值，递归匹配下一位。最终返回的是所有[(pattern[0], saying[0])]和达到递归边界时的最后一个空列表的和。\n",
    "        return [(pattern[0], saying[0])] + pat_match(pattern[1:], saying[1:])\n",
    "    else:\n",
    "        #匹配不上时匹配结束\n",
    "        if pattern[0] != saying[0]: \n",
    "            return []\n",
    "        else:\n",
    "            #递归调用继续匹配下一位\n",
    "            return pat_match(pattern[1:], saying[1:])"
   ]
  },
  {
   "cell_type": "code",
   "execution_count": 141,
   "metadata": {},
   "outputs": [],
   "source": [
    "def pat_match_with_seg(pattern, saying):\n",
    "    if not pattern or not saying: \n",
    "        return []\n",
    "   #这里因为 pattern[0]会多次用到所以先提出来\n",
    "    pat = pattern[0]\n",
    "    #这一步和之前一样\n",
    "    if is_variable(pat):\n",
    "        return [(pat, saying[0])] + pat_match_with_seg(pattern[1:], saying[1:])\n",
    "    #引入新的函数，判断变量是否为?*X。是的话则用segment_match完成最大匹配\n",
    "    elif is_pattern_segment(pat):\n",
    "        match, index = segment_match(pattern, saying)\n",
    "        return [match] + pat_match_with_seg(pattern[1:], saying[index:])\n",
    "    #递归调用继续匹配下一位\n",
    "    elif pat == saying[0]:\n",
    "        return pat_match_with_seg(pattern[1:], saying[1:])\n",
    "    else:\n",
    "        return '匹配失败'"
   ]
  },
  {
   "cell_type": "code",
   "execution_count": 142,
   "metadata": {},
   "outputs": [
    {
     "data": {
      "text/plain": [
       "[('?X', '3'), ('?Y', '2')]"
      ]
     },
     "execution_count": 142,
     "metadata": {},
     "output_type": "execute_result"
    }
   ],
   "source": [
    "pat_match_with_seg(\"?X greater than ?Y\".split(), \"3 greater than 2\".split())"
   ]
  },
  {
   "cell_type": "code",
   "execution_count": 143,
   "metadata": {},
   "outputs": [
    {
     "data": {
      "text/plain": [
       "[('?P', ['My', 'dog']), ('?X', ['my', 'cat', 'is', 'very', 'cute'])]"
      ]
     },
     "execution_count": 143,
     "metadata": {},
     "output_type": "execute_result"
    }
   ],
   "source": [
    "pat_match_with_seg('?*P is very good and ?*X'.split(), \"My dog is very good and my cat is very cute\".split())"
   ]
  },
  {
   "cell_type": "code",
   "execution_count": 144,
   "metadata": {},
   "outputs": [
    {
     "data": {
      "text/plain": [
       "'匹配失败'"
      ]
     },
     "execution_count": 144,
     "metadata": {},
     "output_type": "execute_result"
    }
   ],
   "source": [
    "pat_match_with_seg('is very good and'.split(), \"is very cute\".split())"
   ]
  },
  {
   "cell_type": "code",
   "execution_count": 145,
   "metadata": {},
   "outputs": [
    {
     "data": {
      "text/plain": [
       "[('?X', ['my', 'cat', 'is', 'very', 'cute'])]"
      ]
     },
     "execution_count": 145,
     "metadata": {},
     "output_type": "execute_result"
    }
   ],
   "source": [
    "pat_match_with_seg('is very good and ?*X'.split(), \"is very good and my cat is very cute\".split())"
   ]
  },
  {
   "cell_type": "markdown",
   "metadata": {},
   "source": [
    "为了方便接下来的替换工作，我们新建立两个函数，一个是把我们解析出来的结果变成一个 dictionary，一个是依据这个 dictionary 依照我们的定义的方式进行替换。"
   ]
  },
  {
   "cell_type": "markdown",
   "metadata": {},
   "source": [
    "将结果变成dictionary，因为解析的结果是诸如[('?X', '3'), ('?Y', '2')]或者[('?P', ['My', 'dog']), ('?X', ['my', 'cat', 'is', 'very', 'cute'])]\n",
    "\n",
    "需要判断列表中每个元素的第二项是否为列表，若为列表需要join操作转换为字符串添加，若不是列表(单个字符串)则可以直接添加"
   ]
  },
  {
   "cell_type": "code",
   "execution_count": 67,
   "metadata": {},
   "outputs": [],
   "source": [
    "def pat_to_dict(patterns):\n",
    "    return {k: ' '.join(v) if isinstance(v, list) else v for k, v in patterns}"
   ]
  },
  {
   "cell_type": "code",
   "execution_count": 68,
   "metadata": {},
   "outputs": [
    {
     "data": {
      "text/plain": [
       "{'?X': '3', '?Y': '2'}"
      ]
     },
     "execution_count": 68,
     "metadata": {},
     "output_type": "execute_result"
    }
   ],
   "source": [
    "pat_to_dict(pat_match_with_seg(\"?X greater than ?Y\".split(), \"3 greater than 2\".split()))"
   ]
  },
  {
   "cell_type": "code",
   "execution_count": 69,
   "metadata": {},
   "outputs": [
    {
     "data": {
      "text/plain": [
       "{'?P': 'My dog', '?X': 'my cat is very cute'}"
      ]
     },
     "execution_count": 69,
     "metadata": {},
     "output_type": "execute_result"
    }
   ],
   "source": [
    "pat_to_dict(pat_match_with_seg('?*P is very good and ?*X'.split(), \"My dog is very good and my cat is very cute\".split()))"
   ]
  },
  {
   "cell_type": "markdown",
   "metadata": {},
   "source": [
    "接下来是替换，函数输入rule为模板，parsed_rules为上个函数得到的字典。函数递归遍历列表中的每一位，将"
   ]
  },
  {
   "cell_type": "code",
   "execution_count": 70,
   "metadata": {},
   "outputs": [],
   "source": [
    "def subsitite(rule, parsed_rules):\n",
    "    #递归边界，已经递归完每一位所以rule为空，返回空列表退出递归\n",
    "    if not rule: \n",
    "        return [] \n",
    "    #若rule[0]不存在于parsed_rules，则默认返回rule[0]\n",
    "    return [parsed_rules.get(rule[0], rule[0])] + subsitite(rule[1:], parsed_rules)"
   ]
  },
  {
   "cell_type": "code",
   "execution_count": 77,
   "metadata": {},
   "outputs": [
    {
     "data": {
      "text/plain": [
       "['first', 'is', ':', 'My dog', 'second', 'is', ':', 'my cat is very cute']"
      ]
     },
     "execution_count": 77,
     "metadata": {},
     "output_type": "execute_result"
    }
   ],
   "source": [
    "#注意这里任何字符不能与?想连，否则split时会和?为一体即不存在于parsed_rules内\n",
    "subsitite(\"first is : ?P second is : ?X\".split(), \n",
    "          pat_to_dict(pat_match_with_seg('?*P is very good and ?*X'.split(), \"My dog is very good and my cat is very cute\".split())))"
   ]
  },
  {
   "cell_type": "markdown",
   "metadata": {},
   "source": [
    "现在终于可以完成get_response函数了"
   ]
  },
  {
   "cell_type": "code",
   "execution_count": 313,
   "metadata": {},
   "outputs": [],
   "source": [
    "import random\n",
    "def get_response(saying, rules):\n",
    "    #首先将saying和rules的key逐一匹配，获得正确的patterns(包含变量与对应值的列表)\n",
    "    for pattern in rules.keys():\n",
    "        temp=pat_match_with_seg(pattern.split(), saying.split())\n",
    "        #len(temp[0][1])!=len(saying.split())是防止匹配不上，则将整个saying返回的情况。temp[0][1]是返回variable的值\n",
    "        #若不加上，\"I was ?*X\" 将被匹配为\"?*X hello ?*Y\"的情况(因为?*X在开头会返回整个saying匹配上)\n",
    "        if temp!='匹配失败'and len(temp[0][1])!=len(saying.split()):  \n",
    "            patterns=temp\n",
    "            #提取出该pattern对应的回复模板\n",
    "            rule=rules[pattern]\n",
    "            break\n",
    "            return '输入无法匹配'\n",
    "    #将patterns变成dictionary\n",
    "    parsed_rules=pat_to_dict(patterns)\n",
    "    print(parsed_rules)\n",
    "    #随后将回复模板中的变量替换。因为有多个回复模板所以随机取一个\n",
    "    response=subsitite(random.choice(rule).split(),parsed_rules)\n",
    "    print(' '.join(response))"
   ]
  },
  {
   "cell_type": "code",
   "execution_count": 314,
   "metadata": {},
   "outputs": [],
   "source": [
    "rules = {\n",
    "    \"I need ?X\": [\"Image you will get ?X soon\",\"Why do you need ?X ?\"], \n",
    "    \"My ?X told me something\": [\"Talk about more about your ?X\", \"How do you think about your ?X ?\"],\n",
    "    \"?*X hello ?*Y\": [\"Hi, how do you do?\"],\n",
    "    \"I was ?*X\": [\"Were you really ?X ?\", \"I already knew you were ?X .\"]\n",
    "}"
   ]
  },
  {
   "cell_type": "code",
   "execution_count": 315,
   "metadata": {},
   "outputs": [
    {
     "name": "stdout",
     "output_type": "stream",
     "text": [
      "{'?X': 'iPhone'}\n",
      "Image you will get iPhone soon\n"
     ]
    }
   ],
   "source": [
    "get_response('I need iPhone', rules)"
   ]
  },
  {
   "cell_type": "code",
   "execution_count": 318,
   "metadata": {},
   "outputs": [
    {
     "name": "stdout",
     "output_type": "stream",
     "text": [
      "{'?X': 'iPhone'}\n",
      "Why do you need iPhone ?\n"
     ]
    }
   ],
   "source": [
    "get_response('I need iPhone', rules)"
   ]
  },
  {
   "cell_type": "code",
   "execution_count": 152,
   "metadata": {},
   "outputs": [
    {
     "name": "stdout",
     "output_type": "stream",
     "text": [
      "{'?X': 'mother'}\n",
      "Talk about more about your mother\n"
     ]
    }
   ],
   "source": [
    "get_response(\"My mother told me something\", rules)"
   ]
  },
  {
   "cell_type": "code",
   "execution_count": 153,
   "metadata": {},
   "outputs": [
    {
     "name": "stdout",
     "output_type": "stream",
     "text": [
      "{'?X': 'mother'}\n",
      "How do you think about your mother ?\n"
     ]
    }
   ],
   "source": [
    "get_response(\"My mother told me something\", rules)"
   ]
  },
  {
   "cell_type": "code",
   "execution_count": 168,
   "metadata": {},
   "outputs": [
    {
     "name": "stdout",
     "output_type": "stream",
     "text": [
      "{'?X': 'a super hero'}\n",
      "I already knew you were a super hero .\n"
     ]
    }
   ],
   "source": [
    "get_response(\"I was a super hero\", rules)"
   ]
  },
  {
   "cell_type": "code",
   "execution_count": 172,
   "metadata": {},
   "outputs": [
    {
     "name": "stdout",
     "output_type": "stream",
     "text": [
      "{'?X': 'a super hero'}\n",
      "Were you really a super hero ?\n"
     ]
    }
   ],
   "source": [
    "get_response(\"I was a super hero\", rules)"
   ]
  },
  {
   "cell_type": "markdown",
   "metadata": {},
   "source": [
    "接下来我们将将程序变成能够支持中文输入的模式。其实处理中文的话，只需要将str.split()换成list(jieba.cut(str))就行了。不妨写一个process函数，使其能根据中英文自动切换。\n",
    "\n",
    "同时对于pattern比如'?\\*x一直?\\*y'，我们需要切分成['?\\*x','一直','?\\*y']\n",
    "\n",
    "'如果你是?y会怎么样呢？',我们需要切分成['如果', '你', '是', '?y', '会', '怎么样', '呢']"
   ]
  },
  {
   "cell_type": "code",
   "execution_count": 360,
   "metadata": {},
   "outputs": [],
   "source": [
    "import jieba\n",
    "import copy\n",
    "def process(str):\n",
    "    if any('\\u4e00' <= i <= '\\u9fa5' for i in str):#汉字\n",
    "            temp=list(jieba.cut(str))\n",
    "            output=[]\n",
    "            for m,n in enumerate(temp):\n",
    "                if n =='?'and temp[m+1]=='*':\n",
    "                    output.append(temp[m]+temp[m+1]+temp[m+2])\n",
    "                elif n =='?':\n",
    "                    output.append(temp[m]+temp[m+1])\n",
    "                elif '\\u4e00' <= n <= '\\u9fa5' :\n",
    "                    output.append(temp[m])\n",
    "            return output\n",
    "    return str.split()"
   ]
  },
  {
   "cell_type": "code",
   "execution_count": 361,
   "metadata": {},
   "outputs": [
    {
     "data": {
      "text/plain": [
       "['how', 'do', 'u', 'do']"
      ]
     },
     "execution_count": 361,
     "metadata": {},
     "output_type": "execute_result"
    }
   ],
   "source": [
    "process('how do u do')"
   ]
  },
  {
   "cell_type": "code",
   "execution_count": 362,
   "metadata": {},
   "outputs": [
    {
     "data": {
      "text/plain": [
       "['你好', '呀']"
      ]
     },
     "execution_count": 362,
     "metadata": {},
     "output_type": "execute_result"
    }
   ],
   "source": [
    "process('你好呀')"
   ]
  },
  {
   "cell_type": "code",
   "execution_count": 363,
   "metadata": {},
   "outputs": [
    {
     "data": {
      "text/plain": [
       "['?*x', '一直', '?*y']"
      ]
     },
     "execution_count": 363,
     "metadata": {},
     "output_type": "execute_result"
    }
   ],
   "source": [
    "process('?*x一直?*y')"
   ]
  },
  {
   "cell_type": "code",
   "execution_count": 365,
   "metadata": {},
   "outputs": [
    {
     "data": {
      "text/plain": [
       "['如果', '你', '是', '?y', '会', '怎么样', '呢']"
      ]
     },
     "execution_count": 365,
     "metadata": {},
     "output_type": "execute_result"
    }
   ],
   "source": [
    "process('如果你是?y会怎么样呢？')"
   ]
  },
  {
   "cell_type": "markdown",
   "metadata": {},
   "source": [
    "改写函数替换split()"
   ]
  },
  {
   "cell_type": "code",
   "execution_count": 404,
   "metadata": {},
   "outputs": [],
   "source": [
    "def get_response_pro(saying, rules):\n",
    "    #首先将saying和rules的key逐一匹配，获得正确的patterns(包含变量与对应值的列表)\n",
    "    for pattern in rules.keys():\n",
    "        temp=pat_match_with_seg(process(pattern), process(saying))\n",
    "        #len(temp[0][1])!=len(saying.split())是防止匹配不上，则将整个saying返回的情况。temp[0][1]是返回variable的值\n",
    "        #若不加上，\"I was ?*X\" 将被匹配为\"?*X hello ?*Y\"的情况(因为?*X在开头会返回整个saying匹配上)\n",
    "        #temp[-1][0][-1]==process( 'saying')[-1][-1] ,前者是提取出的最后一个变量后者是输入的最后一个变量。这样做确保最后一个变量相同\n",
    "        #不加这条的话，'?*x我是?*y吗'会匹配到'?*x我?*z梦见?*y'，?*z会匹配后面所有字符\n",
    "        if temp!='匹配失败'and len(temp[0][1])!=len(process(saying)) and temp[-1][0][-1]==process(pattern)[-1][-1]:  \n",
    "            patterns=temp\n",
    "            #提取出该pattern对应的回复模板\n",
    "            rule=rules[pattern]\n",
    "            print(pattern)\n",
    "            break\n",
    "        return '我不太确定我很理解你说的, 能稍微详细解释一下吗?'\n",
    "    #将patterns变成dictionary\n",
    "    parsed_rules=pat_to_dict(patterns)\n",
    "    print(parsed_rules)\n",
    "    #随后将回复模板中的变量替换。因为有多个回复模板所以随机取一个\n",
    "    response=subsitite(process(random.choice(rule)),parsed_rules)\n",
    "    #中文输出汉字间不需要空格，英文单词间需要有空格\n",
    "    if any('\\u4e00' <= i <= '\\u9fa5' for i in response):\n",
    "        print(''.join(response).replace(' ',''))\n",
    "    else:\n",
    "        print(' '.join(response))"
   ]
  },
  {
   "cell_type": "code",
   "execution_count": 389,
   "metadata": {},
   "outputs": [],
   "source": [
    "rule_responses = {\n",
    "    '?*x hello ?*y': ['How do you do', 'Please state your problem'],\n",
    "    '?*x I want ?*y': ['what would it mean if you got ?y', 'Why do you want ?y', 'Suppose you got ?y soon'],\n",
    "    '?*x if ?*y': ['Do you really think its likely that ?y', 'Do you wish that ?y', 'What do you think about ?y', 'Really-- if ?y'],\n",
    "    '?*x no ?*y': ['why not?', 'You are being a negative', 'Are you saying \\'No\\' just to be negative?'],\n",
    "    '?*x I was ?*y': ['Were you really', 'Perhaps I already knew you were ?y', 'Why do you tell me you were ?y now?'],\n",
    "    '?*x I feel ?*y': ['Do you often feel ?y ?', 'What other feelings do you have?'],\n",
    "    '?*x你好?*y': ['你好呀', '请告诉我你的问题'],\n",
    "    '?*x我想?*y': ['你觉得?y有什么意义呢？', '为什么你想?y', '你可以想想你很快就可以?y了'],\n",
    "    '?*x我想要?*y': ['?x想问你，你觉得?y有什么意义呢?', '为什么你想?y', '?x觉得... 你可以想想你很快就可以有?y了', '你看?x像?y不', '我看你就像?y'],\n",
    "    '?*x喜欢?*y': ['喜欢?y的哪里？', '?y有什么好的呢？', '你想要?y吗？'],\n",
    "    '?*x讨厌?*y': ['?y怎么会那么讨厌呢?', '讨厌?y的哪里？', '?y有什么不好呢？', '你不想要?y吗？'],\n",
    "    '?*xAI?*y': ['你为什么要提AI的事情？', '你为什么觉得AI要解决你的问题？'],\n",
    "    '?*x机器人?*y': ['你为什么要提机器人的事情？', '你为什么觉得机器人要解决你的问题？'],\n",
    "    '?*x对不起?*y': ['不用道歉', '你为什么觉得你需要道歉呢?'],\n",
    "    '?*x我记得?*y': ['你经常会想起这个吗？', '除了?y你还会想起什么吗？', '你为什么和我提起?y'],\n",
    "    '?*x如果?*y': ['你真的觉得?y会发生吗？', '你希望?y吗?', '真的吗？如果?y的话', '关于?y你怎么想？'],\n",
    "    '?*x我?*z梦见?*y':['真的吗? --- ?y', '你在醒着的时候，以前想象过?y吗？', '你以前梦见过?y吗'],\n",
    "    '?*x妈妈?*y': ['你家里除了?y还有谁?', '嗯嗯，多说一点和你家里有关系的', '她对你影响很大吗？'],\n",
    "    '?*x爸爸?*y': ['你家里除了?y还有谁?', '嗯嗯，多说一点和你家里有关系的', '他对你影响很大吗？', '每当你想起你爸爸的时候， 你还会想起其他的吗?'],\n",
    "    '?*x我愿意?*y': ['我可以帮你?y吗？', '你可以解释一下，为什么想?y'],\n",
    "    '?*x我很难过，因为?*y': ['我听到你这么说， 也很难过', '?y不应该让你这么难过的'],\n",
    "    '?*x难过?*y': ['我听到你这么说， 也很难过',\n",
    "                 '不应该让你这么难过的，你觉得你拥有什么，就会不难过?',\n",
    "                 '你觉得事情变成什么样，你就不难过了?'],\n",
    "    '?*x就像?*y': ['你觉得?x和?y有什么相似性？', '?x和?y真的有关系吗？', '怎么说？'],\n",
    "    '?*x和?*y都?*z': ['你觉得?z有什么问题吗?', '?z会对你有什么影响呢?'],\n",
    "    '?*x和?*y一样?*z': ['你觉得?z有什么问题吗?', '?z会对你有什么影响呢?'],\n",
    "    '?*x我是?*y': ['真的吗？', '?x想告诉你，或许我早就知道你是?y', '你为什么现在才告诉我你是?y'],\n",
    "    '?*x我是?*y吗': ['如果你是?y会怎么样呢？', '你觉得你是?y吗', '如果你是?y，那一位着什么?'],\n",
    "    '?*x你是?*y吗':  ['你为什么会对我是不是?y感兴趣?', '那你希望我是?y吗', '你要是喜欢， 我就会是?y'],\n",
    "    '?*x你是?*y' : ['为什么你觉得我是?y'],\n",
    "    '?*x因为?*y' : ['?y是真正的原因吗？', '你觉得会有其他原因吗?'],\n",
    "    '?*x我不能?*y': ['你或许现在就能?*y', '如果你能?*y,会怎样呢？'],\n",
    "    '?*x我觉得?*y': ['你经常这样感觉吗？', '除了到这个，你还有什么其他的感觉吗？'],\n",
    "    '?*x我?*y你?*z': ['其实很有可能我们互相?y'],\n",
    "    '?*x你为什么不?*y': ['你自己为什么不?y', '你觉得我不会?y', '等我心情好了，我就?y'],\n",
    "    '?*x好的?*y': ['好的', '你是一个很正能量的人'],\n",
    "    '?*x嗯嗯?*y': ['好的', '你是一个很正能量的人'],\n",
    "    '?*x不嘛?*y': ['为什么不？', '你有一点负能量', '你说 不，是想表达不想的意思吗？'],\n",
    "    '?*x不要?*y': ['为什么不？', '你有一点负能量', '你说 不，是想表达不想的意思吗？'],\n",
    "    '?*x有些人?*y': ['具体是哪些人呢?'],\n",
    "    '?*x有的人?*y': ['具体是哪些人呢?'],\n",
    "    '?*x某些人?*y': ['具体是哪些人呢?'],\n",
    "    '?*x每个人?*y': ['我确定不是人人都是', '你能想到一点特殊情况吗？', '例如谁？', '你看到的其实只是一小部分人'],\n",
    "    '?*x所有人?*y': ['我确定不是人人都是', '你能想到一点特殊情况吗？', '例如谁？', '你看到的其实只是一小部分人'],\n",
    "    '?*x总是?*y': ['你能想到一些其他情况吗?', '例如什么时候?', '你具体是说哪一次？', '真的---总是吗？'],\n",
    "    '?*x一直?*y': ['你能想到一些其他情况吗?', '例如什么时候?', '你具体是说哪一次？', '真的---总是吗？'],\n",
    "    '?*x或许?*y': ['你看起来不太确定'],\n",
    "    '?*x可能?*y': ['你看起来不太确定'],\n",
    "    '?*x他们是?*y吗？': ['你觉得他们可能不是?y？'],\n",
    "    '?*x': ['很有趣', '请继续', '我不太确定我很理解你说的, 能稍微详细解释一下吗?']\n",
    "}"
   ]
  },
  {
   "cell_type": "code",
   "execution_count": 392,
   "metadata": {},
   "outputs": [
    {
     "name": "stdout",
     "output_type": "stream",
     "text": [
      "?*x我是?*y\n",
      "{'?x': '高 老师', '?y': '程序员 吗'}\n",
      "高老师想告诉你或许我早就知道你是程序员吗\n"
     ]
    }
   ],
   "source": [
    "get_response_pro('高老师我是程序员吗', rule_responses)"
   ]
  },
  {
   "cell_type": "code",
   "execution_count": 393,
   "metadata": {},
   "outputs": [
    {
     "name": "stdout",
     "output_type": "stream",
     "text": [
      "?*x喜欢?*y\n",
      "{'?x': '我', '?y': '编程'}\n",
      "编程有什么好的呢\n"
     ]
    }
   ],
   "source": [
    "get_response_pro('我喜欢编程', rule_responses)"
   ]
  },
  {
   "cell_type": "code",
   "execution_count": 395,
   "metadata": {},
   "outputs": [
    {
     "name": "stdout",
     "output_type": "stream",
     "text": [
      "?*x I want ?*y\n",
      "{'?x': 'Sir', '?y': 'coding'}\n",
      "what would it mean if you got coding\n"
     ]
    }
   ],
   "source": [
    "get_response_pro('Sir I want coding', rule_responses)"
   ]
  },
  {
   "cell_type": "code",
   "execution_count": 396,
   "metadata": {},
   "outputs": [
    {
     "name": "stdout",
     "output_type": "stream",
     "text": [
      "?*x我?*z梦见?*y\n",
      "{'?x': '今天', '?z': '中文', '?y': '编程 了'}\n",
      "你以前梦见过编程了吗\n"
     ]
    }
   ],
   "source": [
    "get_response_pro('今天我中午梦见编程了', rule_responses)"
   ]
  },
  {
   "cell_type": "code",
   "execution_count": 397,
   "metadata": {},
   "outputs": [
    {
     "name": "stdout",
     "output_type": "stream",
     "text": [
      "?*x你为什么不?*y\n",
      "{'?x': '同学', '?y': '做 数学题'}\n",
      "你觉得我不会做数学题\n"
     ]
    }
   ],
   "source": [
    "get_response_pro('同学你为什么不做数学题', rule_responses)"
   ]
  },
  {
   "cell_type": "code",
   "execution_count": 405,
   "metadata": {},
   "outputs": [
    {
     "data": {
      "text/plain": [
       "'我不太确定我很理解你说的, 能稍微详细解释一下吗?'"
      ]
     },
     "execution_count": 405,
     "metadata": {},
     "output_type": "execute_result"
    }
   ],
   "source": [
    "get_response_pro('一加一等于多少', rule_responses)"
   ]
  },
  {
   "cell_type": "code",
   "execution_count": 406,
   "metadata": {},
   "outputs": [
    {
     "data": {
      "text/plain": [
       "'我不太确定我很理解你说的, 能稍微详细解释一下吗?'"
      ]
     },
     "execution_count": 406,
     "metadata": {},
     "output_type": "execute_result"
    }
   ],
   "source": [
    "get_response_pro('1+1=?', rule_responses)"
   ]
  },
  {
   "cell_type": "markdown",
   "metadata": {},
   "source": [
    "数据驱动在这里的体现就是所有回答都会基于传入的rules。然而人工完成大量的rules编写需要时间精力，如果系统单纯作为闲聊用途的话通过大规模语料集直接训练的语言模型可以节省一定的人力吧。"
   ]
  },
  {
   "cell_type": "code",
   "execution_count": null,
   "metadata": {},
   "outputs": [],
   "source": []
  }
 ],
 "metadata": {
  "kernelspec": {
   "display_name": "Python 3",
   "language": "python",
   "name": "python3"
  },
  "language_info": {
   "codemirror_mode": {
    "name": "ipython",
    "version": 3
   },
   "file_extension": ".py",
   "mimetype": "text/x-python",
   "name": "python",
   "nbconvert_exporter": "python",
   "pygments_lexer": "ipython3",
   "version": "3.6.8"
  }
 },
 "nbformat": 4,
 "nbformat_minor": 2
}
